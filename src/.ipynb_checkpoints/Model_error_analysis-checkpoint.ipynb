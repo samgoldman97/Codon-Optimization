{
 "cells": [
  {
   "cell_type": "markdown",
   "metadata": {},
   "source": [
    "# Model misclassification analysis\n",
    "\n",
    "To inspect whether models perform better in certain regions of the sequence"
   ]
  },
  {
   "cell_type": "code",
   "execution_count": 1,
   "metadata": {
    "collapsed": true
   },
   "outputs": [],
   "source": [
    "import pandas as pd\n",
    "import numpy as np\n",
    "from collections import defaultdict\n",
    "from collections import Counter\n",
    "from itertools import zip_longest\n",
    "\n",
    "import matplotlib.pyplot as plt\n",
    "import seaborn as sns"
   ]
  },
  {
   "cell_type": "code",
   "execution_count": 2,
   "metadata": {
    "collapsed": true
   },
   "outputs": [],
   "source": [
    "def calculate_mismatches(predict_list, target_list):\n",
    "    \n",
    "    '''\n",
    "      Given prediction and target lists, returns mismatch_list and mismatch_indices \n",
    "    \n",
    "      Args:\n",
    "          prediction and target arrays. Both are \n",
    "      returns:\n",
    "          mismatch_list: NUM_SEQUENCE x LEN_SEQUENCE. 1 if prediction is correct, 0 if incorrect.\n",
    "          (e.g. [[0, 1, 1, 0, 0, 0, ...]])\n",
    "\n",
    "          mismatch_indices: list of positions of mismatches (e.g. [[3, 4, 9, 13, 31]])\n",
    "    '''\n",
    " \n",
    "    mismatch_list = []\n",
    "    for i in range(len(predict_list)):\n",
    "        mismatches = (predict_list[i] != target_list[i]).astype(int)\n",
    "        mismatch_list.append(np.array(mismatches))\n",
    "\n",
    "    mismatch_indices = []\n",
    "    for i in range(len(mismatch_list)):\n",
    "        indices = [j for j, x in enumerate(mismatch_list[i]) if x == 1]\n",
    "        mismatch_indices.append(indices)\n",
    "    \n",
    "    return (mismatch_list, mismatch_indices)"
   ]
  },
  {
   "cell_type": "code",
   "execution_count": 3,
   "metadata": {
    "collapsed": true
   },
   "outputs": [],
   "source": [
    "def pool_mismatches(mismatch_list, mismatch_indices):\n",
    "    '''\n",
    "      Given mismatch list and mismatch positions, outputs error rate over sequence length\n",
    "    '''\n",
    "    \n",
    "    collapsed_array = []\n",
    "    for item in mismatch_indices:\n",
    "        collapsed_array.extend(item)\n",
    "\n",
    "    counts = Counter(collapsed_array)\n",
    "\n",
    "    seq_lengths = [len(item) for item in mismatch_list]\n",
    "    normalizing_list = np.array([0] * max(seq_lengths))\n",
    "    \n",
    "    # normalizing_list[i] contains number of sequences whose length is equal/greater than (i+1)\n",
    "    for length in seq_lengths:\n",
    "        normalizing_list = [sum(n) for n in zip_longest(normalizing_list, [1]*length, fillvalue=0)]\n",
    "    \n",
    "    for i in range(max(seq_lengths)):\n",
    "        counts[i] = counts[i] / normalizing_list[i]\n",
    "\n",
    "    normalized_counts = [0] * max(seq_lengths)\n",
    "\n",
    "    for key in counts:\n",
    "        try:\n",
    "            normalized_counts[key] = counts[key]\n",
    "        except:\n",
    "            print (key)\n",
    "\n",
    "    return normalized_counts"
   ]
  },
  {
   "cell_type": "code",
   "execution_count": 4,
   "metadata": {
    "collapsed": true
   },
   "outputs": [],
   "source": [
    "def convert_to_triplets(seq):\n",
    "    '''\n",
    "      Given list of strings, returns list of lists of triplets that concetenate into the original string \n",
    "     '''\n",
    "    return np.array([np.array([seq[i][j:j+3] for j in range(0, len(seq[i]), 3)]) for i in range(len(seq))])"
   ]
  },
  {
   "cell_type": "code",
   "execution_count": 5,
   "metadata": {
    "collapsed": true
   },
   "outputs": [],
   "source": [
    "def accuracy_first_36(target, predicted):\n",
    "    target_sliced = np.array([seq[:12] for seq in target if len(seq) > 35])\n",
    "    predicted_sliced = np.array([seq[:12] for seq in predicted if len(seq) > 35])\n",
    "    \n",
    "    return np.sum(target_sliced == predicted_sliced) / (12 * len(predicted_sliced))"
   ]
  },
  {
   "cell_type": "markdown",
   "metadata": {},
   "source": [
    "## Human HEG "
   ]
  },
  {
   "cell_type": "code",
   "execution_count": 6,
   "metadata": {
    "collapsed": false
   },
   "outputs": [],
   "source": [
    "# import data for human HEGs\n",
    "human_targets = pd.read_csv(\"../outputs/predictions/human_test_split_lang.txt\", header=None).iloc[:, 0]\n",
    "human_unigram = pd.read_csv(\"../outputs/predictions/human_unigram.txt\", header=None).iloc[:, 0]\n",
    "human_trigram = pd.read_csv(\"../outputs/predictions/human_trigram.txt\", header=None).iloc[:, 0]\n",
    "human_fivegram = pd.read_csv(\"../outputs/predictions/human_fivegram.txt\", header=None).iloc[:, 0]\n",
    "human_ngram = pd.read_csv(\"../outputs/predictions/human_equally_weighted_ngram.txt\", header=None).iloc[:, 0]\n",
    "human_rnn = pd.read_csv(\"../outputs/predictions/human_rnn_bilstm_output.txt\", header=None).iloc[:, 0]"
   ]
  },
  {
   "cell_type": "code",
   "execution_count": 7,
   "metadata": {
    "collapsed": false
   },
   "outputs": [],
   "source": [
    "human_target_triplets = convert_to_triplets(human_targets)\n",
    "human_unigram_triplets = convert_to_triplets(human_unigram)\n",
    "human_trigram_triplets = convert_to_triplets(human_trigram)\n",
    "human_fivegram_triplets = convert_to_triplets(human_fivegram)\n",
    "human_ngram_triplets = convert_to_triplets(human_ngram)\n",
    "human_rnn_triplets = convert_to_triplets(human_rnn)"
   ]
  },
  {
   "cell_type": "code",
   "execution_count": null,
   "metadata": {
    "collapsed": false
   },
   "outputs": [],
   "source": [
    "human_mismatch_output_unigram = calculate_mismatches(human_unigram_triplets, human_target_triplets)\n",
    "human_mismatch_over_sequence_unigram = pool_mismatches(human_mismatch_output_unigram[0], human_mismatch_output_unigram[1])\n",
    "\n",
    "human_mismatch_output_RNN = calculate_mismatches(human_rnn_triplets, human_target_triplets)\n",
    "human_mismatch_over_sequence_RNN = pool_mismatches(human_mismatch_output_RNN[0], human_mismatch_output_RNN[1])\n",
    "\n",
    "plt.scatter(range(len(human_mismatch_over_sequence_RNN))[:100], human_mismatch_over_sequence_RNN[:100], s=17)\n",
    "plt.scatter(range(len(human_mismatch_over_sequence_unigram))[:100], human_mismatch_over_sequence_unigram[:100], s=17)\n",
    "\n",
    "plt.ylim([0.25, 0.7])\n",
    "plt.xlabel(\"Position (nt)\", fontsize=12)\n",
    "plt.ylabel(\"Misclassifiation rate\", fontsize=12)\n",
    "plt.legend([\"LSTM Transducer\", \"Unigram\"])\n",
    "\n",
    "plt.show()"
   ]
  },
  {
   "cell_type": "code",
   "execution_count": 9,
   "metadata": {
    "collapsed": false
   },
   "outputs": [
    {
     "name": "stdout",
     "output_type": "stream",
     "text": [
      "Accuracy of unigram in first 36 nucleotides for human heg:  0.46916445623342173\n"
     ]
    }
   ],
   "source": [
    "print (\"Accuracy of unigram in first 36 nucleotides for human heg: \", accuracy_first_36(human_target_triplets, human_unigram_triplets))"
   ]
  },
  {
   "cell_type": "code",
   "execution_count": 10,
   "metadata": {
    "collapsed": false
   },
   "outputs": [
    {
     "name": "stdout",
     "output_type": "stream",
     "text": [
      "Accuracy of LSTM-Transducer in first 36 nucleotides for human heg:  0.5350353669319187\n"
     ]
    }
   ],
   "source": [
    "print (\"Accuracy of LSTM-Transducer in first 36 nucleotides for human heg: \", accuracy_first_36(human_target_triplets, human_rnn_triplets))"
   ]
  },
  {
   "cell_type": "markdown",
   "metadata": {},
   "source": [
    "## E. coli HEG"
   ]
  },
  {
   "cell_type": "code",
   "execution_count": 11,
   "metadata": {
    "collapsed": true
   },
   "outputs": [],
   "source": [
    "# import data for E. coli HEGs\n",
    "\n",
    "ecoli_targets = pd.read_csv(\"../outputs/predictions/ecoli_heg_test_iterator_baseline.txt\", header=None).iloc[:, 0]\n",
    "ecoli_unigram = pd.read_csv(\"../outputs/predictions/ecoli_heg_unigram.txt\", header=None).iloc[:, 0]\n",
    "ecoli_trigram = pd.read_csv(\"../outputs/predictions/ecoli_heg_trigram.txt\", header=None).iloc[:, 0]\n",
    "ecoli_fivegram = pd.read_csv(\"../outputs/predictions/ecoli_heg_fivegram.txt\", header=None).iloc[:, 0]\n",
    "ecoli_ngram = pd.read_csv(\"../outputs/predictions/ecoli_heg_equally_weighted_ngram.txt\", header=None).iloc[:, 0]\n",
    "ecoli_rnn = pd.read_csv(\"../outputs/predictions/ecoli_heg_rnn_bilstm_output.txt\", header=None).iloc[:, 0]"
   ]
  },
  {
   "cell_type": "code",
   "execution_count": 12,
   "metadata": {
    "collapsed": false
   },
   "outputs": [],
   "source": [
    "ecoli_target_triplets = convert_to_triplets(ecoli_targets)\n",
    "ecoli_unigram_triplets = convert_to_triplets(ecoli_unigram)\n",
    "ecoli_trigram_triplets = convert_to_triplets(ecoli_trigram)\n",
    "ecoli_fivegram_triplets = convert_to_triplets(ecoli_fivegram)\n",
    "ecoli_ngram_triplets = convert_to_triplets(ecoli_ngram)\n",
    "ecoli_rnn_triplets = convert_to_triplets(ecoli_rnn)"
   ]
  },
  {
   "cell_type": "code",
   "execution_count": 13,
   "metadata": {
    "collapsed": false
   },
   "outputs": [
    {
     "data": {
      "image/png": "[encoded data removed]",
      "text/plain": [
       "<Figure size 432x288 with 1 Axes>"
      ]
     },
     "metadata": {
      "needs_background": "light"
     },
     "output_type": "display_data"
    }
   ],
   "source": [
    "ecoli_mismatch_output_unigram = calculate_mismatches(ecoli_unigram_triplets, ecoli_target_triplets)\n",
    "ecoli_mismatch_over_sequence_unigram = pool_mismatches(ecoli_mismatch_output_unigram[0], ecoli_mismatch_output_unigram[1])\n",
    "\n",
    "ecoli_mismatch_output_RNN = calculate_mismatches(ecoli_rnn_triplets, ecoli_target_triplets)\n",
    "ecoli_mismatch_over_sequence_RNN = pool_mismatches(ecoli_mismatch_output_RNN[0], ecoli_mismatch_output_RNN[1])\n",
    "\n",
    "plt.scatter(range(len(ecoli_mismatch_over_sequence_RNN))[:300], ecoli_mismatch_over_sequence_RNN[:300], s=17)\n",
    "plt.scatter(range(len(ecoli_mismatch_over_sequence_unigram))[:300], ecoli_mismatch_over_sequence_unigram[:300], s=17)\n",
    "\n",
    "plt.ylim([0.0, 1.0])\n",
    "plt.xlabel(\"Position (nt)\", fontsize=12)\n",
    "plt.ylabel(\"Misclassifiation rate\", fontsize=12)\n",
    "plt.legend([\"LSTM Transducer\", \"Unigram\"])\n",
    "\n",
    "plt.show()"
   ]
  },
  {
   "cell_type": "markdown",
   "metadata": {
    "collapsed": true
   },
   "source": [
    "## Accuracy of first 36 nucleotides"
   ]
  },
  {
   "cell_type": "code",
   "execution_count": 14,
   "metadata": {
    "collapsed": true
   },
   "outputs": [],
   "source": [
    "def accuracy_first_36(target, predicted):\n",
    "    target_sliced = np.array([seq[:12] for seq in target if len(seq) > 35])\n",
    "    predicted_sliced = np.array([seq[:12] for seq in predicted if len(seq) > 35])\n",
    "    \n",
    "    return np.sum(target_sliced == predicted_sliced) / (12 * len(predicted_sliced))"
   ]
  },
  {
   "cell_type": "code",
   "execution_count": 15,
   "metadata": {
    "collapsed": false
   },
   "outputs": [
    {
     "name": "stdout",
     "output_type": "stream",
     "text": [
      "Accuracy of unigram in first 36 nucleotides for ecoli HEG:  0.5366666666666666\n"
     ]
    }
   ],
   "source": [
    "print (\"Accuracy of unigram in first 36 nucleotides for ecoli HEG: \", accuracy_first_36(ecoli_target_triplets, ecoli_unigram_triplets))"
   ]
  },
  {
   "cell_type": "code",
   "execution_count": 16,
   "metadata": {
    "collapsed": false
   },
   "outputs": [
    {
     "name": "stdout",
     "output_type": "stream",
     "text": [
      "Accuracy of LSTM-Transducer in first 36 nucleotides for ecoli HEG:  0.54\n"
     ]
    }
   ],
   "source": [
    "print (\"Accuracy of LSTM-Transducer in first 36 nucleotides for ecoli HEG: \", accuracy_first_36(ecoli_target_triplets, ecoli_rnn_triplets))"
   ]
  },
  {
   "cell_type": "code",
   "execution_count": 17,
   "metadata": {
    "collapsed": false
   },
   "outputs": [
    {
     "name": "stdout",
     "output_type": "stream",
     "text": [
      "Accuracy of unigram in first 36 nucleotides for human HEG:  0.46916445623342173\n"
     ]
    }
   ],
   "source": [
    "print (\"Accuracy of unigram in first 36 nucleotides for human HEG: \", accuracy_first_36(human_target_triplets, human_unigram_triplets))"
   ]
  },
  {
   "cell_type": "code",
   "execution_count": 18,
   "metadata": {
    "collapsed": false
   },
   "outputs": [
    {
     "name": "stdout",
     "output_type": "stream",
     "text": [
      "Accuracy of LSTM-Transducer in first 36 nucleotides for human HEG:  0.5350353669319187\n"
     ]
    }
   ],
   "source": [
    "print (\"Accuracy of LSTM-Transducer in first 36 nucleotides for human HEG: \", accuracy_first_36(human_target_triplets, human_rnn_triplets))"
   ]
  }
 ],
 "metadata": {
  "anaconda-cloud": {},
  "kernelspec": {
   "display_name": "Python [conda env:ML_env]",
   "language": "python",
   "name": "conda-env-ML_env-py"
  },
  "language_info": {
   "codemirror_mode": {
    "name": "ipython",
    "version": 3
   },
   "file_extension": ".py",
   "mimetype": "text/x-python",
   "name": "python",
   "nbconvert_exporter": "python",
   "pygments_lexer": "ipython3",
   "version": "3.6.8"
  }
 },
 "nbformat": 4,
 "nbformat_minor": 2
}
