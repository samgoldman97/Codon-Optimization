{
 "cells": [
  {
   "cell_type": "code",
   "execution_count": 1,
   "metadata": {},
   "outputs": [],
   "source": [
    "from Bio.Seq import Seq\n",
    "from Bio import SeqIO\n",
    "from Bio.SeqUtils import CodonUsage\n",
    "from Bio.SeqUtils import IUPACData\n",
    "\n",
    "import random\n",
    "import csv\n",
    "import numpy as np\n",
    "from collections import Counter\n",
    "\n",
    "from nltk.util import pad_sequence\n",
    "from nltk.util import bigrams\n",
    "from nltk.util import ngrams\n",
    "from nltk.util import everygrams\n",
    "from nltk.lm.preprocessing import pad_both_ends\n",
    "from nltk.lm.preprocessing import flatten\n",
    "\n",
    "from scipy.special import softmax\n",
    "from sklearn.model_selection import train_test_split\n",
    "from sklearn.metrics import log_loss"
   ]
  },
  {
   "cell_type": "code",
   "execution_count": 2,
   "metadata": {},
   "outputs": [],
   "source": [
    "random.seed(0)"
   ]
  },
  {
   "cell_type": "code",
   "execution_count": 3,
   "metadata": {},
   "outputs": [],
   "source": [
    "bases = \"ATCG\"\n",
    "codons = [a + b + c for a in bases for b in bases for c in bases]\n",
    "codon_dict = {}\n",
    "for codon in codons:\n",
    "    codon_dict[codon] = 0.0"
   ]
  },
  {
   "cell_type": "code",
   "execution_count": 4,
   "metadata": {},
   "outputs": [],
   "source": [
    "backward_codon_dict = {}\n",
    "\n",
    "for codon in codons:\n",
    "    AA = str(Seq(codon).translate())\n",
    "    backward_codon_dict[AA] = []\n",
    "\n",
    "for codon in codons:\n",
    "    AA = str(Seq(codon).translate())\n",
    "    backward_codon_dict[AA].append(codon)"
   ]
  },
  {
   "cell_type": "code",
   "execution_count": 5,
   "metadata": {},
   "outputs": [],
   "source": [
    "# ecoli_train = np.loadtxt(\"../data/data_split/ecoli_heg_2018_train_split.txt\", dtype=\"str\")\n",
    "# ecoli_test = np.loadtxt(\"../data/data_split/ecoli_heg_2018_test_split.txt\", dtype=\"str\")"
   ]
  },
  {
   "cell_type": "code",
   "execution_count": 6,
   "metadata": {},
   "outputs": [],
   "source": [
    "ecoli_train = np.loadtxt(\"../data/data_split/human_heg_train_split.txt\", dtype=\"str\")\n",
    "ecoli_test = np.loadtxt(\"../data/data_split/human_heg_test_split.txt\", dtype=\"str\")"
   ]
  },
  {
   "cell_type": "code",
   "execution_count": 7,
   "metadata": {},
   "outputs": [],
   "source": [
    "def seq_to_triplet(seq):\n",
    "    return [(seq[i:i+3]) for i in range(0, len(seq), 3)] \n",
    "\n",
    "def seqlist_to_triplets(seqs_NT):\n",
    "    ''' returns list of list of codons given list of NT sequences\n",
    "\n",
    "        Args:\n",
    "            list(str): NT sequences\n",
    "\n",
    "        Returns:\n",
    "            list(list(str)): list of list of codons\n",
    "    '''\n",
    "    return [seq_to_triplet(seq) for seq in seqs_NT]\n",
    "\n",
    "def NTlist_to_AA(seqs_NT):\n",
    "    ''' returns list of AA sequences given list of NT sequences\n",
    "\n",
    "        Args:\n",
    "            list(str): NT sequences\n",
    "\n",
    "        Returns:\n",
    "            list(str): list of AA sequences\n",
    "    '''\n",
    "    AA_seqs = []\n",
    "    for seq in seqs_NT:\n",
    "        AA_seq = list(str(Seq(seq).translate()))\n",
    "        #makes sure all start codon code for methionine (in case alternative start codons exist)\n",
    "        AA_seq[0] = 'M'\n",
    "        AA_seqs.append(\"\".join(AA_seq))\n",
    "  \n",
    "    return AA_seqs\n",
    "\n",
    "def pad_for_trigram(seqs):\n",
    "    ''' returns padded list of list of sequences for trigrams\n",
    "\n",
    "        Args:\n",
    "            list(str): list of AA sequences\n",
    "\n",
    "        Returns:\n",
    "            list(list(char)): list of list of AA sequences, each padded left and right by 1 <s>, </s>\n",
    "    '''\n",
    "    padded_seqs = []\n",
    "    for seq in seqs:\n",
    "        padded_seq = list(pad_sequence(seq, pad_left=True, left_pad_symbol=\"<s>\", \n",
    "                                    pad_right=True, right_pad_symbol=\"</s>\", n=2))\n",
    "        padded_seqs.append(padded_seq)\n",
    "        \n",
    "    return padded_seqs\n",
    "\n",
    "def pad_for_fivegram(seqs):\n",
    "    ''' returns padded list of list of sequences for fivegrams\n",
    "\n",
    "        Args:\n",
    "            list(str): list of AA sequences\n",
    "\n",
    "        Returns:\n",
    "            list(list(char)): list of list of AA sequences, each padded left and right by 2 <s>, </s>\n",
    "    '''\n",
    "    padded_seqs = []\n",
    "    for seq in seqs:\n",
    "        padded_seq = list(pad_sequence(seq, pad_left=True, left_pad_symbol=\"<s>\", \n",
    "                                    pad_right=True, right_pad_symbol=\"</s>\", n=3))\n",
    "        padded_seqs.append(padded_seq)\n",
    "        \n",
    "    return padded_seqs\n",
    "\n",
    "def unigram_dictionary(seq_list):\n",
    "    ''' returns dictionary that maps unigram to most frequent codon\n",
    "\n",
    "        Args:\n",
    "            list(str): list of NT sequences\n",
    "\n",
    "        Returns:\n",
    "            dict{amino acid, dict{codon, frequency}}\n",
    "    '''\n",
    "    seqs_AA = NTlist_to_AA(seq_list)\n",
    "    seqs_codon = seqlist_to_triplets(seq_list)\n",
    "    \n",
    "    unigram_dict = {}\n",
    "    \n",
    "    for i in range(len(seqs_AA)): #construct a dictionary that maps amino acid to list of matching codons\n",
    "        seq_codon = seqs_codon[i]\n",
    "        seq_AA_unigrams = list(ngrams(seqs_AA[i], n=1))\n",
    "        for j in range(len(seq_AA_unigrams)):\n",
    "            unigram = \"\".join(seq_AA_unigrams[j])\n",
    "            if unigram in unigram_dict:\n",
    "                unigram_dict[unigram].append(seq_codon[j])\n",
    "            else:\n",
    "                unigram_dict[unigram] = [seq_codon[j]]\n",
    "    \n",
    "    unigram_dict_frequency = {}\n",
    "    \n",
    "    for key in unigram_dict.keys(): #converts above dictionary item into frequency Counter object\n",
    "        codon_counter = Counter(unigram_dict[key])\n",
    "        total_count = 0\n",
    "        for codon_key in codon_counter:\n",
    "            total_count += codon_counter[codon_key]\n",
    "        \n",
    "        for codon_key in codon_counter:\n",
    "            codon_counter[codon_key] = codon_counter[codon_key] / total_count\n",
    "\n",
    "        unigram_dict_frequency[key] = codon_counter\n",
    "    \n",
    "    return unigram_dict_frequency\n",
    "\n",
    "def trigram_dictionary(seq_list):\n",
    "    ''' returns dictionary that maps trigram to most frequent codon\n",
    "\n",
    "        Args:\n",
    "            list(str): list of NT sequences\n",
    "\n",
    "        Returns:\n",
    "            dict{AA Trigram, dict{codon, frequency}}\n",
    "    '''\n",
    "    seqs_AA = NTlist_to_AA(seq_list)\n",
    "    seqs_codon = seqlist_to_triplets(seq_list)\n",
    "    seqs_AA_padded = pad_for_trigram(seqs_AA)\n",
    "    \n",
    "    trigram_dict = {}\n",
    "    \n",
    "    for i in range(len(seqs_AA_padded)): # construct a dictionary that maps amino acid trigram to list of matching codons\n",
    "        seq_codon = seqs_codon[i]\n",
    "        seq_AA_trigrams = list(ngrams(seqs_AA_padded[i], n=3))\n",
    "        for j in range(len(seq_AA_trigrams)):\n",
    "            trigram = \"\".join(seq_AA_trigrams[j])\n",
    "            if trigram in trigram_dict:\n",
    "                trigram_dict[trigram].append(seq_codon[j])\n",
    "            else:\n",
    "                trigram_dict[trigram] = [seq_codon[j]]\n",
    "    \n",
    "    trigram_dict_frequency = {}\n",
    "    \n",
    "    for key in trigram_dict.keys():\n",
    "        codon_counter = Counter(trigram_dict[key])\n",
    "        total_count = 0\n",
    "        for codon_key in codon_counter:\n",
    "            total_count += codon_counter[codon_key]\n",
    "        \n",
    "        for codon_key in codon_counter:\n",
    "            codon_counter[codon_key] = codon_counter[codon_key] / total_count\n",
    "\n",
    "        trigram_dict_frequency[key] = codon_counter\n",
    "    \n",
    "    return trigram_dict_frequency\n",
    "\n",
    "\n",
    "def fivegram_dictionary(seq_list):\n",
    "    ''' returns dictionary that maps fivegram to most frequent codon\n",
    "\n",
    "        Args:\n",
    "            list(str): list of NT sequences\n",
    "\n",
    "        Returns:\n",
    "            dict{AA Fivegram, dict{codon, frequency}}\n",
    "    '''\n",
    "    seqs_AA = NTlist_to_AA(seq_list)\n",
    "    seqs_codon = seqlist_to_triplets(seq_list)\n",
    "    seqs_AA_padded = pad_for_fivegram(seqs_AA)\n",
    "    \n",
    "    fivegram_dict = {}\n",
    "    \n",
    "    for i in range(len(seqs_AA_padded)): #construct a dictionary that maps amino acid fivegram to list of matching codons\n",
    "        seq_codon = seqs_codon[i]\n",
    "        seq_AA_fivegrams = list(ngrams(seqs_AA_padded[i], n=5))\n",
    "        for j in range(len(seq_AA_fivegrams)):\n",
    "            fivegram = \"\".join(seq_AA_fivegrams[j])\n",
    "            if fivegram in fivegram_dict:\n",
    "                fivegram_dict[fivegram].append(seq_codon[j])\n",
    "            else:\n",
    "                fivegram_dict[fivegram] = [seq_codon[j]]\n",
    "    \n",
    "    fivegram_dict_frequency = {}\n",
    "    \n",
    "    for key in fivegram_dict.keys():\n",
    "        codon_counter = Counter(fivegram_dict[key])\n",
    "        total_count = 0\n",
    "        for codon_key in codon_counter:\n",
    "            total_count += codon_counter[codon_key]\n",
    "        \n",
    "        for codon_key in codon_counter:\n",
    "            codon_counter[codon_key] = codon_counter[codon_key] / total_count\n",
    "\n",
    "        fivegram_dict_frequency[key] = codon_counter\n",
    "    \n",
    "    return fivegram_dict_frequency"
   ]
  },
  {
   "cell_type": "code",
   "execution_count": 8,
   "metadata": {},
   "outputs": [],
   "source": [
    "def predict_codons(AA_seq, codon_dict, backward_codon_dict, unigram_frequency_dict, trigram_frequency_dict, fivegram_frequency_dict, a=1/3, b=1/3, c=1/3):\n",
    "    ''' returns list of predicted codon probabilities given amino acid sequence\n",
    "\n",
    "        Args:\n",
    "            list(str): list of NT sequences\n",
    "            dict{codon, frequency}\n",
    "            unigram_frequency_dict (as above)\n",
    "            trigram_frequency_dict (as above)\n",
    "            fivegram_frequency_dict (as above)\n",
    "            unigram weight\n",
    "            trigram weight\n",
    "            fivegram weight\n",
    "            \n",
    "\n",
    "        Returns:\n",
    "            list{list(flaot)}: list of list codon probabilities\n",
    "    '''\n",
    "    trigram_padded = list(pad_sequence(AA_seq, pad_left=True, left_pad_symbol=\"<s>\", \n",
    "                                    pad_right=True, right_pad_symbol=\"</s>\", n=2))\n",
    "    \n",
    "    fivegram_padded = list(pad_sequence(AA_seq, pad_left=True, left_pad_symbol=\"<s>\", \n",
    "                                    pad_right=True, right_pad_symbol=\"</s>\", n=3))\n",
    "    \n",
    "    unigrams = [\"\".join(ngram) for ngram in list(ngrams(AA_seq, n=1))]\n",
    "    trigrams = [\"\".join(ngram) for ngram in list(ngrams(trigram_padded, n=3))]\n",
    "    fivegrams = [\"\".join(ngram) for ngram in list(ngrams(fivegram_padded, n=5))]\n",
    "    \n",
    "    prediction_list = []\n",
    "    \n",
    "    for i in range(len(unigrams)): #loop over each AA in the sequence, generate a dictionary for each AA\n",
    "        \n",
    "        unigram = unigrams[i] #single amino acid at this position\n",
    "        trigram = trigrams[i] #3 amino acids concatenated at this position\n",
    "        fivegram = fivegrams[i] # 5 amino acids concatenated at this position\n",
    "        prediction = codon_dict.copy() #dict that maps possible codon (not all 20) to frequency\n",
    "        \n",
    "        for codon in codon_dict.keys(): #loop over possible codons given AA\n",
    "            unigram_freq = 0.0\n",
    "            trigram_freq = 0.0\n",
    "            fivegram_freq = 0.0\n",
    "            \n",
    "            if unigram in unigram_frequency_dict and codon in unigram_frequency_dict[unigram]:\n",
    "                unigram_freq = unigram_frequency_dict[unigram][codon]\n",
    "                \n",
    "            if trigram in trigram_frequency_dict and codon in trigram_frequency_dict[trigram]:\n",
    "                trigram_freq = trigram_frequency_dict[trigram][codon]\n",
    "            \n",
    "            if fivegram in fivegram_frequency_dict and codon in fivegram_frequency_dict[fivegram]:\n",
    "                fivegram_freq = fivegram_frequency_dict[fivegram][codon]\n",
    "                \n",
    "            prediction[codon] = a * unigram_freq + b * trigram_freq + c * fivegram_freq\n",
    "        \n",
    "#         print (list(prediction.values()))\n",
    "        #normalize\n",
    "        if (sum(list(prediction.values())) == 0.0):\n",
    "            possible_codons = backward_codon_dict[AA_seq[i]]\n",
    "            for possible_codon in possible_codons:\n",
    "                prediction[possible_codon] = 1/len(possible_codons)\n",
    "\n",
    "            prediction_probs = np.array(list(prediction.values()))\n",
    "#             print (prediction.values())\n",
    "        else:\n",
    "            prediction_probs = np.array(list(prediction.values())) * 1.0 / sum(list(prediction.values()))\n",
    "            \n",
    "        prediction_list.append(prediction_probs)\n",
    "    \n",
    "    return prediction_list"
   ]
  },
  {
   "cell_type": "code",
   "execution_count": 9,
   "metadata": {},
   "outputs": [],
   "source": [
    "def calculate_loss(NT_seqs, codon_dict, backward_codon_dict, unigram_frequency_dict, trigram_frequency_dict, fivegram_frequency_dict, a=1/3, b=1/3, c=1/3):\n",
    "    AA_seqs = NTlist_to_AA(NT_seqs)\n",
    "    prediction_list = []\n",
    "    correct_list = []\n",
    "    loss = 0.0\n",
    "    \n",
    "    for AA_seq in AA_seqs:\n",
    "        for prediction in predict_codons(AA_seq, codon_dict, backward_codon_dict, unigram_frequency_dict, trigram_frequency_dict, fivegram_frequency_dict, a, b, c):\n",
    "            prediction_list.append(prediction)\n",
    "            \n",
    "    for NT_seq in NT_seqs:\n",
    "        codon_seq = seq_to_triplet(NT_seq)\n",
    "        for codon in codon_seq:\n",
    "            target_codon_dict = codon_dict.copy()\n",
    "                \n",
    "            target_codon_dict[codon] = 1.0\n",
    "            correct_list.append(list(target_codon_dict.values()))\n",
    "        \n",
    "    \n",
    "    for i in range(len(correct_list)):\n",
    "        if (log_loss(correct_list[i], prediction_list[i], normalize=False) > 30):\n",
    "            print (\"correct:\", correct_list[i])\n",
    "            print (\"pred:\", prediction_list[i])\n",
    "            print (\"loss: \", log_loss(correct_list[i], prediction_list[i], normalize=False))\n",
    "        loss += log_loss(correct_list[i], prediction_list[i], normalize=False)\n",
    "    \n",
    "    return loss"
   ]
  },
  {
   "cell_type": "code",
   "execution_count": 10,
   "metadata": {},
   "outputs": [],
   "source": [
    "# min_loss = 10000000\n",
    "# curr_w1 = 0\n",
    "# curr_w2 = 0\n",
    "# curr_w3 = 0\n",
    "\n",
    "# keep_track = []\n",
    "\n",
    "# for w1 in [0.0, 0.1, 0.2, 0.3, 1.0/3.0, 0.4, 0.5, 0.6, 0.7, 0.8, 0.9, 1.0]:\n",
    "#     for w2 in [0.0, 0.1, 0.2, 0.3, 1.0/3.0, 0.4, 0.5, 0.6, 0.7, 0.8, 0.9, 1.0]:\n",
    "#         if (w2 + w1 > 1.0):\n",
    "#             continue\n",
    "#         loss = calculate_loss(ecoli_train_test, codon_dict, unigram_frequency_dict, trigram_frequency_dict, fivegram_frequency_dict, a=w1, b=w2, c=1.0-w1-w2)\n",
    "#         keep_track.append(([w1, w2, 1.0 - w1-w2], loss))\n",
    "        \n",
    "#         print ([w1, w2, 1.0 - w1-w2], loss)\n",
    "        \n",
    "#         if loss < min_loss:\n",
    "#             min_loss = loss\n",
    "#             curr_w1 = w1\n",
    "#             curr_w2 = w2\n",
    "#             curr_w3 = 1.0-w1-w2"
   ]
  },
  {
   "cell_type": "code",
   "execution_count": 11,
   "metadata": {},
   "outputs": [],
   "source": [
    "def get_accuracy_unigram(ecoli_train, ecoli_test, backward_codon_dict):\n",
    "    unigram_frequency_dict = unigram_dictionary(ecoli_train)\n",
    "    \n",
    "    AA_seqs = NTlist_to_AA(ecoli_test)\n",
    "    codon_seqs = seqlist_to_triplets(ecoli_test)\n",
    "    \n",
    "    correct = 0\n",
    "    total = 0\n",
    "    \n",
    "    output = []\n",
    "    \n",
    "    for i in range(len(AA_seqs)):\n",
    "        predicted_seq = []\n",
    "        \n",
    "        AA_seq_unigrams = list(ngrams(AA_seqs[i], n=1))\n",
    "        for j in range(len(AA_seq_unigrams)):\n",
    "            ngram_concat = \"\".join(AA_seq_unigrams[j])\n",
    "            total += 1\n",
    "            if ngram_concat in unigram_frequency_dict:\n",
    "                pred = unigram_frequency_dict[ngram_concat].most_common()[0][0]\n",
    "                predicted_seq.append(pred)\n",
    "                if codon_seqs[i][j] == pred:\n",
    "                    correct += 1\n",
    "            else:\n",
    "                #predict randomly\n",
    "                pred = random.choice(backward_codon_dict[AA_seqs[i][j]])\n",
    "                predicted_seq.append(pred)\n",
    "                if codon_seqs[i][j] == pred:\n",
    "                    correct += 1\n",
    "        \n",
    "        output.append(\"\".join(predicted_seq))\n",
    "    \n",
    "    return correct/total, output"
   ]
  },
  {
   "cell_type": "code",
   "execution_count": 12,
   "metadata": {},
   "outputs": [],
   "source": [
    "def get_accuracy_trigram(ecoli_train, ecoli_test, backward_codon_dict):\n",
    "    trigram_frequency_dict = trigram_dictionary(ecoli_train)\n",
    "    \n",
    "    AA_seqs = NTlist_to_AA(ecoli_test)\n",
    "    AA_seqs_padded = pad_for_trigram(AA_seqs)\n",
    "    codon_seqs = seqlist_to_triplets(ecoli_test)\n",
    "    \n",
    "    correct = 0\n",
    "    total = 0\n",
    "    \n",
    "    output = []\n",
    "    \n",
    "    for i in range(len(AA_seqs_padded)):\n",
    "        predicted_seq = []\n",
    "        \n",
    "        AA_seq_trigrams = list(ngrams(AA_seqs_padded[i], n=3))\n",
    "        for j in range(len(AA_seq_trigrams)):\n",
    "            ngram_concat = \"\".join(AA_seq_trigrams[j])\n",
    "            total += 1\n",
    "            if ngram_concat in trigram_frequency_dict:\n",
    "                pred = trigram_frequency_dict[ngram_concat].most_common()[0][0]\n",
    "                predicted_seq.append(pred)\n",
    "                if codon_seqs[i][j] == pred:\n",
    "                    correct += 1\n",
    "            else:\n",
    "                #predict randomly\n",
    "                pred = random.choice(backward_codon_dict[AA_seqs[i][j]])\n",
    "                predicted_seq.append(pred)\n",
    "                if codon_seqs[i][j] == pred:\n",
    "                    correct += 1\n",
    "                \n",
    "        \n",
    "        output.append(\"\".join(predicted_seq))\n",
    "    \n",
    "    return correct/total, output"
   ]
  },
  {
   "cell_type": "code",
   "execution_count": 13,
   "metadata": {},
   "outputs": [],
   "source": [
    "def get_accuracy_fivegram(ecoli_train, ecoli_test, backward_codon_dict):\n",
    "    fivegram_frequency_dict = fivegram_dictionary(ecoli_train)\n",
    "    \n",
    "    AA_seqs = NTlist_to_AA(ecoli_test)\n",
    "    AA_seqs_padded = pad_for_fivegram(AA_seqs)\n",
    "    codon_seqs = seqlist_to_triplets(ecoli_test)\n",
    "    \n",
    "    correct = 0\n",
    "    total = 0\n",
    "    \n",
    "    output = []\n",
    "    \n",
    "    for i in range(len(AA_seqs_padded)):\n",
    "        predicted_seq = []\n",
    "        \n",
    "        AA_seq_fivegrams = list(ngrams(AA_seqs_padded[i], n=5))\n",
    "        for j in range(len(AA_seq_fivegrams)):\n",
    "            ngram_concat = \"\".join(AA_seq_fivegrams[j])\n",
    "            total += 1\n",
    "            if ngram_concat in fivegram_frequency_dict:\n",
    "                pred = fivegram_frequency_dict[ngram_concat].most_common()[0][0]\n",
    "                predicted_seq.append(pred)\n",
    "                if codon_seqs[i][j] == pred:\n",
    "                    correct += 1\n",
    "            else:\n",
    "                #predict randomly\n",
    "                pred = random.choice(backward_codon_dict[AA_seqs[i][j]])\n",
    "                predicted_seq.append(pred)\n",
    "                if codon_seqs[i][j] == pred:\n",
    "                    correct += 1\n",
    "        \n",
    "        output.append(\"\".join(predicted_seq))\n",
    "    \n",
    "    return correct/total, output"
   ]
  },
  {
   "cell_type": "code",
   "execution_count": 14,
   "metadata": {},
   "outputs": [],
   "source": [
    "def get_accuracy_ngram(ecoli_train, ecoli_test, codon_dict, backward_codon_dict, w1, w2, w3):\n",
    "    unigram_frequency_dict = unigram_dictionary(ecoli_train)\n",
    "    trigram_frequency_dict = trigram_dictionary(ecoli_train)\n",
    "    fivegram_frequency_dict = fivegram_dictionary(ecoli_train)\n",
    "    \n",
    "    AA_seqs = NTlist_to_AA(ecoli_test)\n",
    "    codon_seqs = seqlist_to_triplets(ecoli_test)\n",
    "    \n",
    "    \n",
    "    correct = 0\n",
    "    total = 0\n",
    "    \n",
    "    output = []\n",
    "    \n",
    "    for i in range(len(AA_seqs)):\n",
    "        predicted_seq = []\n",
    "        \n",
    "        AA_seq = AA_seqs[i]\n",
    "        \n",
    "        trigram_padded = list(pad_sequence(AA_seq, pad_left=True, left_pad_symbol=\"<s>\", \n",
    "                                    pad_right=True, right_pad_symbol=\"</s>\", n=2))\n",
    "    \n",
    "        fivegram_padded = list(pad_sequence(AA_seq, pad_left=True, left_pad_symbol=\"<s>\", \n",
    "                                        pad_right=True, right_pad_symbol=\"</s>\", n=3))\n",
    "\n",
    "        unigrams = [\"\".join(ngram) for ngram in list(ngrams(AA_seq, n=1))]\n",
    "        trigrams = [\"\".join(ngram) for ngram in list(ngrams(trigram_padded, n=3))]\n",
    "        fivegrams = [\"\".join(ngram) for ngram in list(ngrams(fivegram_padded, n=5))]\n",
    "        \n",
    "        for j in range(len(AA_seq)):\n",
    "            total += 1\n",
    "            \n",
    "            unigram = unigrams[j] #single amino acid at this position\n",
    "            trigram = trigrams[j] #3 amino acids concatenated at this position\n",
    "            fivegram = fivegrams[j] # 5 amino acids concatenated at this position\n",
    "    \n",
    "            prediction = codon_dict.copy()\n",
    "            \n",
    "            for codon in prediction.keys(): #loop over possible codons given AA\n",
    "                unigram_freq = 0.0\n",
    "                trigram_freq = 0.0\n",
    "                fivegram_freq = 0.0\n",
    "\n",
    "                if unigram in unigram_frequency_dict and codon in unigram_frequency_dict[unigram]:\n",
    "                    unigram_freq = unigram_frequency_dict[unigram][codon]\n",
    "\n",
    "                if trigram in trigram_frequency_dict and codon in trigram_frequency_dict[trigram]:\n",
    "                    trigram_freq = trigram_frequency_dict[trigram][codon]\n",
    "\n",
    "                if fivegram in fivegram_frequency_dict and codon in fivegram_frequency_dict[fivegram]:\n",
    "                    fivegram_freq = fivegram_frequency_dict[fivegram][codon]\n",
    "\n",
    "                prediction[codon] = w1 * unigram_freq + w2 * trigram_freq + w3 * fivegram_freq\n",
    "            \n",
    "            if (sum(list(prediction.values())) == 0.0):\n",
    "                random_predict = random.choice(backward_codon_dict[AA_seq[j]])\n",
    "                predicted_seq.append(random_predict)\n",
    "                if (random_predict == codon_seqs[i][j]):\n",
    "                    correct += 1\n",
    "                    \n",
    "            else:\n",
    "                pred = max(prediction, key=prediction.get)\n",
    "                predicted_seq.append(pred)\n",
    "                if (pred == codon_seqs[i][j]):\n",
    "                    correct += 1\n",
    "\n",
    "        output.append(\"\".join(predicted_seq))\n",
    "    \n",
    "    return correct/total, output"
   ]
  },
  {
   "cell_type": "code",
   "execution_count": 15,
   "metadata": {},
   "outputs": [],
   "source": [
    "unigram_train_results = get_accuracy_unigram(ecoli_train, ecoli_train, backward_codon_dict)\n",
    "unigram_test_results = get_accuracy_unigram(ecoli_train, ecoli_test, backward_codon_dict)\n",
    "\n",
    "trigram_train_results = get_accuracy_trigram(ecoli_train, ecoli_train, backward_codon_dict)\n",
    "trigram_test_results = get_accuracy_trigram(ecoli_train, ecoli_test, backward_codon_dict)\n",
    "\n",
    "fivegram_train_results = get_accuracy_fivegram(ecoli_train, ecoli_train, backward_codon_dict)\n",
    "fivegram_test_results = get_accuracy_fivegram(ecoli_train, ecoli_test, backward_codon_dict)\n",
    "\n",
    "ngram_train_results = get_accuracy_ngram(ecoli_train, ecoli_train, codon_dict, backward_codon_dict, 0.4, 0.6, 0.0)\n",
    "ngram_test_results = get_accuracy_ngram(ecoli_train, ecoli_test, codon_dict, backward_codon_dict, 0.4, 0.6, 0.0)"
   ]
  },
  {
   "cell_type": "code",
   "execution_count": 16,
   "metadata": {},
   "outputs": [
    {
     "name": "stdout",
     "output_type": "stream",
     "text": [
      "Unigram Train accuracy:  0.4372834590334171\n",
      "Unigram Test accuracy:  0.4312534260311518\n"
     ]
    }
   ],
   "source": [
    "print (\"Unigram Train accuracy: \", unigram_train_results[0])\n",
    "print (\"Unigram Test accuracy: \", unigram_test_results[0])"
   ]
  },
  {
   "cell_type": "code",
   "execution_count": 17,
   "metadata": {},
   "outputs": [
    {
     "name": "stdout",
     "output_type": "stream",
     "text": [
      "Trigram Train accuracy:  0.5060232332508675\n",
      "Trigram Test accuracy:  0.4932094391336319\n"
     ]
    }
   ],
   "source": [
    "print (\"Trigram Train accuracy: \", trigram_train_results[0])\n",
    "print (\"Trigram Test accuracy: \", trigram_test_results[0])"
   ]
  },
  {
   "cell_type": "code",
   "execution_count": 18,
   "metadata": {},
   "outputs": [
    {
     "name": "stdout",
     "output_type": "stream",
     "text": [
      "Fivegram Train accuracy:  0.7950517787915052\n",
      "Fivegram Test accuracy:  0.39475633397954407\n"
     ]
    }
   ],
   "source": [
    "print (\"Fivegram Train accuracy: \", fivegram_train_results[0])\n",
    "print (\"Fivegram Test accuracy: \", fivegram_test_results[0])"
   ]
  },
  {
   "cell_type": "code",
   "execution_count": 19,
   "metadata": {},
   "outputs": [
    {
     "name": "stdout",
     "output_type": "stream",
     "text": [
      "ngram Train accuracy:  0.5042254059268942\n",
      "ngram Test accuracy:  0.49196871448626245\n"
     ]
    }
   ],
   "source": [
    "print (\"ngram Train accuracy: \", ngram_train_results[0])\n",
    "print (\"ngram Test accuracy: \", ngram_test_results[0])"
   ]
  },
  {
   "cell_type": "code",
   "execution_count": 20,
   "metadata": {},
   "outputs": [],
   "source": [
    "unigram_frequency_dict = unigram_dictionary(ecoli_train)\n",
    "trigram_frequency_dict = trigram_dictionary(ecoli_train)\n",
    "fivegram_frequency_dict = fivegram_dictionary(ecoli_train)"
   ]
  },
  {
   "cell_type": "code",
   "execution_count": 21,
   "metadata": {},
   "outputs": [],
   "source": [
    "unigram_loss = calculate_loss(ecoli_test, codon_dict, backward_codon_dict, unigram_frequency_dict, trigram_frequency_dict, fivegram_frequency_dict, a=1.0, b=0.0, c=0.0)\n",
    "unigram_train_loss = calculate_loss(ecoli_train, codon_dict, backward_codon_dict, unigram_frequency_dict, trigram_frequency_dict, fivegram_frequency_dict, a=1.0, b=0.0, c=0.0)\n",
    "\n",
    "ngram_loss = calculate_loss(ecoli_test, codon_dict, backward_codon_dict, unigram_frequency_dict, trigram_frequency_dict, fivegram_frequency_dict, a=0.7, b=0.3, c=0.0)\n",
    "ngram_train_loss = calculate_loss(ecoli_train, codon_dict, backward_codon_dict, unigram_frequency_dict, trigram_frequency_dict, fivegram_frequency_dict, a=0.7, b=0.3, c=0.0)"
   ]
  },
  {
   "cell_type": "code",
   "execution_count": 22,
   "metadata": {},
   "outputs": [
    {
     "name": "stdout",
     "output_type": "stream",
     "text": [
      "PPL for unigram (test):  3.665457934965363\n"
     ]
    }
   ],
   "source": [
    "print (\"PPL for unigram (test): \", np.exp2(unigram_loss / np.sum([len(seq)/3 for seq in ecoli_test])))"
   ]
  },
  {
   "cell_type": "code",
   "execution_count": 23,
   "metadata": {},
   "outputs": [
    {
     "name": "stdout",
     "output_type": "stream",
     "text": [
      "PPL for unigram (train):  3.651873142957547\n"
     ]
    }
   ],
   "source": [
    "print (\"PPL for unigram (train): \", np.exp2(unigram_train_loss / np.sum([len(seq)/3 for seq in ecoli_train])))"
   ]
  },
  {
   "cell_type": "code",
   "execution_count": 24,
   "metadata": {},
   "outputs": [
    {
     "name": "stdout",
     "output_type": "stream",
     "text": [
      "PPL for ngram (test):  3.5717963100225463\n"
     ]
    }
   ],
   "source": [
    "print (\"PPL for ngram (test): \", np.exp2(ngram_loss / np.sum([len(seq)/3 for seq in ecoli_test])))"
   ]
  },
  {
   "cell_type": "code",
   "execution_count": 25,
   "metadata": {},
   "outputs": [
    {
     "name": "stdout",
     "output_type": "stream",
     "text": [
      "PPL for ngram (train):  3.545515906693001\n"
     ]
    }
   ],
   "source": [
    "print (\"PPL for ngram (train): \", np.exp2(ngram_train_loss / np.sum([len(seq)/3 for seq in ecoli_train])))"
   ]
  },
  {
   "cell_type": "code",
   "execution_count": null,
   "metadata": {},
   "outputs": [],
   "source": []
  },
  {
   "cell_type": "code",
   "execution_count": 31,
   "metadata": {},
   "outputs": [],
   "source": [
    "unigram_output = unigram_test_results[1]\n",
    "trigram_output = trigram_test_results[1]\n",
    "fivegram_output = fivegram_test_results[1]\n",
    "ngram_output = ngram_test_results[1]"
   ]
  },
  {
   "cell_type": "code",
   "execution_count": 32,
   "metadata": {},
   "outputs": [],
   "source": [
    "with open(\"../outputs/predictions/human_heg_unigram.txt\", \"w\") as txt_file:\n",
    "    for line in unigram_output:\n",
    "        txt_file.write(line + \"\\n\")"
   ]
  },
  {
   "cell_type": "code",
   "execution_count": 33,
   "metadata": {},
   "outputs": [],
   "source": [
    "with open(\"../outputs/predictions/human_heg_trigram.txt\", \"w\") as txt_file:\n",
    "    for line in trigram_output:\n",
    "        txt_file.write(line + \"\\n\")"
   ]
  },
  {
   "cell_type": "code",
   "execution_count": 34,
   "metadata": {},
   "outputs": [],
   "source": [
    "with open(\"../outputs/predictions/human_heg_fivegram.txt\", \"w\") as txt_file:\n",
    "    for line in fivegram_output:\n",
    "        txt_file.write(line + \"\\n\")"
   ]
  },
  {
   "cell_type": "code",
   "execution_count": 35,
   "metadata": {},
   "outputs": [],
   "source": [
    "with open(\"../outputs/predictions/human_heg_ngram.txt\", \"w\") as txt_file:\n",
    "    for line in ngram_output:\n",
    "        txt_file.write(line + \"\\n\")"
   ]
  },
  {
   "cell_type": "raw",
   "metadata": {},
   "source": []
  }
 ],
 "metadata": {
  "kernelspec": {
   "display_name": "Python 3",
   "language": "python",
   "name": "python3"
  },
  "language_info": {
   "codemirror_mode": {
    "name": "ipython",
    "version": 3
   },
   "file_extension": ".py",
   "mimetype": "text/x-python",
   "name": "python",
   "nbconvert_exporter": "python",
   "pygments_lexer": "ipython3",
   "version": "3.6.8"
  }
 },
 "nbformat": 4,
 "nbformat_minor": 2
}
