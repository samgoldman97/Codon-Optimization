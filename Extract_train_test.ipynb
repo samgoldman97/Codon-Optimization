{
 "cells": [
  {
   "cell_type": "code",
   "execution_count": 2,
   "metadata": {},
   "outputs": [],
   "source": [
    "from Bio.Seq import Seq\n",
    "from Bio import SeqIO\n",
    "from Bio.SeqUtils import CodonUsage\n",
    "from Bio.SeqUtils import IUPACData\n",
    "import torch\n",
    "import torchtext\n",
    "from namedtensor import ntorch\n",
    "from namedtensor.text import NamedField\n",
    "from sklearn.ensemble import RandomForestClassifier\n",
    "from nltk.util import ngrams\n",
    "import numpy as np \n",
    "import matplotlib.pyplot as plt\n",
    "import seaborn as sns\n",
    "import re\n",
    "# from google.colab import files\n",
    "import pandas as pd\n",
    "import math\n",
    "import random\n",
    "# Use CPU for baseline...\n",
    "device = torch.device(\"cpu\") #torch.device('cuda:0' if torch.cuda.is_available() else 'cpu')\n",
    "from collections import defaultdict"
   ]
  },
  {
   "cell_type": "code",
   "execution_count": 3,
   "metadata": {},
   "outputs": [],
   "source": [
    "# Our input $x$\n",
    "# Prepend with a start token\n",
    "tokenize = lambda x : [\"<START>\"] + re.findall('.{%d}' % 3, x)\n",
    "TEXT = NamedField(names=(\"seqlen\", ), sequential=True, \n",
    "                  lower=True, tokenize=tokenize)\n",
    "AA_LABEL = NamedField(names=(\"seqlen\", ), \n",
    "                  lower=True)"
   ]
  },
  {
   "cell_type": "code",
   "execution_count": 13,
   "metadata": {},
   "outputs": [],
   "source": [
    "file_name = \"data/ecoli.heg.fasta\""
   ]
  },
  {
   "cell_type": "code",
   "execution_count": 14,
   "metadata": {},
   "outputs": [],
   "source": [
    "sequences = [len(str(rec.seq)) % 3 for rec in SeqIO.parse(file_name, \"fasta\")]"
   ]
  },
  {
   "cell_type": "code",
   "execution_count": 15,
   "metadata": {},
   "outputs": [],
   "source": [
    "sequences = [str(rec.seq) for rec in SeqIO.parse(file_name, \"fasta\")]\n",
    "df = pd.DataFrame(sequences, columns=[\"sequence\"])\n",
    "df = df.sample(frac=1, random_state=1)\n",
    "# df = df[:500]\n",
    "df.to_csv(\"cds.csv\", index=False, header=False)"
   ]
  },
  {
   "cell_type": "code",
   "execution_count": 16,
   "metadata": {},
   "outputs": [],
   "source": [
    "seqs = [str(rec.seq) for rec in SeqIO.parse(file_name, \"fasta\")]"
   ]
  },
  {
   "cell_type": "code",
   "execution_count": 17,
   "metadata": {},
   "outputs": [
    {
     "name": "stdout",
     "output_type": "stream",
     "text": [
      "253\n",
      "Bases, codons: 264243 88081.0\n"
     ]
    }
   ],
   "source": [
    "num_bases = 0\n",
    "print(len(df))\n",
    "for i,j in df.iterrows():\n",
    "    num_bases += len(j.sequence)\n",
    "print(\"Bases, codons:\" , num_bases, num_bases / 3)"
   ]
  },
  {
   "cell_type": "code",
   "execution_count": 18,
   "metadata": {},
   "outputs": [
    {
     "data": {
      "text/plain": [
       "['<START>',\n",
       " 'ATG',\n",
       " 'AAA',\n",
       " 'CGC',\n",
       " 'ATT',\n",
       " 'AGC',\n",
       " 'ACC',\n",
       " 'ACC',\n",
       " 'ATT',\n",
       " 'ACC',\n",
       " 'ACC',\n",
       " 'ACC',\n",
       " 'ATC',\n",
       " 'ACC',\n",
       " 'ATT',\n",
       " 'ACC',\n",
       " 'ACA',\n",
       " 'GGT',\n",
       " 'AAC',\n",
       " 'GGT',\n",
       " 'GCG',\n",
       " 'GGC']"
      ]
     },
     "execution_count": 18,
     "metadata": {},
     "output_type": "execute_result"
    }
   ],
   "source": [
    "sequences_ = [rec.seq for rec in SeqIO.parse(file_name, \"fasta\") if len(rec.seq) % 3 == 0]\n",
    "tokenize(str(sequences_[0][:21*3]))"
   ]
  },
  {
   "cell_type": "code",
   "execution_count": 19,
   "metadata": {},
   "outputs": [],
   "source": [
    "bases = \"tcag\"\n",
    "codons = [a + b + c for a in bases for b in bases for c in bases]\n",
    "aa = [str(Seq(j).translate()) for j in codons]\n",
    "codon_to_aa = dict(zip(codons, aa))\n",
    "\n",
    "\n",
    "# #create one hot of AA encoding\n",
    "AA_LABEL.build_vocab(aa)"
   ]
  },
  {
   "cell_type": "code",
   "execution_count": 20,
   "metadata": {},
   "outputs": [
    {
     "data": {
      "text/plain": [
       "{'ttt': 'F',\n",
       " 'ttc': 'F',\n",
       " 'tta': 'L',\n",
       " 'ttg': 'L',\n",
       " 'tct': 'S',\n",
       " 'tcc': 'S',\n",
       " 'tca': 'S',\n",
       " 'tcg': 'S',\n",
       " 'tat': 'Y',\n",
       " 'tac': 'Y',\n",
       " 'taa': '*',\n",
       " 'tag': '*',\n",
       " 'tgt': 'C',\n",
       " 'tgc': 'C',\n",
       " 'tga': '*',\n",
       " 'tgg': 'W',\n",
       " 'ctt': 'L',\n",
       " 'ctc': 'L',\n",
       " 'cta': 'L',\n",
       " 'ctg': 'L',\n",
       " 'cct': 'P',\n",
       " 'ccc': 'P',\n",
       " 'cca': 'P',\n",
       " 'ccg': 'P',\n",
       " 'cat': 'H',\n",
       " 'cac': 'H',\n",
       " 'caa': 'Q',\n",
       " 'cag': 'Q',\n",
       " 'cgt': 'R',\n",
       " 'cgc': 'R',\n",
       " 'cga': 'R',\n",
       " 'cgg': 'R',\n",
       " 'att': 'I',\n",
       " 'atc': 'I',\n",
       " 'ata': 'I',\n",
       " 'atg': 'M',\n",
       " 'act': 'T',\n",
       " 'acc': 'T',\n",
       " 'aca': 'T',\n",
       " 'acg': 'T',\n",
       " 'aat': 'N',\n",
       " 'aac': 'N',\n",
       " 'aaa': 'K',\n",
       " 'aag': 'K',\n",
       " 'agt': 'S',\n",
       " 'agc': 'S',\n",
       " 'aga': 'R',\n",
       " 'agg': 'R',\n",
       " 'gtt': 'V',\n",
       " 'gtc': 'V',\n",
       " 'gta': 'V',\n",
       " 'gtg': 'V',\n",
       " 'gct': 'A',\n",
       " 'gcc': 'A',\n",
       " 'gca': 'A',\n",
       " 'gcg': 'A',\n",
       " 'gat': 'D',\n",
       " 'gac': 'D',\n",
       " 'gaa': 'E',\n",
       " 'gag': 'E',\n",
       " 'ggt': 'G',\n",
       " 'ggc': 'G',\n",
       " 'gga': 'G',\n",
       " 'ggg': 'G'}"
      ]
     },
     "execution_count": 20,
     "metadata": {},
     "output_type": "execute_result"
    }
   ],
   "source": [
    "codon_to_aa"
   ]
  },
  {
   "cell_type": "code",
   "execution_count": 21,
   "metadata": {},
   "outputs": [],
   "source": [
    "my_data = torchtext.data.TabularDataset(\"cds.csv\", format=\"CSV\", \n",
    "                                        fields=[(\"sequence\", TEXT)])"
   ]
  },
  {
   "cell_type": "code",
   "execution_count": 22,
   "metadata": {},
   "outputs": [],
   "source": [
    "# data is already shuffled, we seed that and guarantee this stays the same\n",
    "import random\n",
    "random.seed(0)\n",
    "train, test = my_data.split(split_ratio=0.8, random_state=random.getstate())"
   ]
  },
  {
   "cell_type": "code",
   "execution_count": 50,
   "metadata": {},
   "outputs": [
    {
     "data": {
      "text/plain": [
       "('seqlen',)"
      ]
     },
     "execution_count": 50,
     "metadata": {},
     "output_type": "execute_result"
    }
   ],
   "source": [
    "train.fields['sequence']."
   ]
  },
  {
   "cell_type": "code",
   "execution_count": 53,
   "metadata": {},
   "outputs": [],
   "source": [
    "TEXT.build_vocab(train)"
   ]
  },
  {
   "cell_type": "code",
   "execution_count": 56,
   "metadata": {},
   "outputs": [],
   "source": [
    "from torchtext.data import Iterator, BucketIterator\n",
    " \n",
    "#we don't split genes\n",
    "train_iter_bucket, test_iter_bucket = torchtext.data.BucketIterator.splits(\n",
    "    (train, test), batch_sizes=(10,10), sort_within_batch=False, sort_key=lambda x : len(x.sequence),\n",
    "    device=torch.device(device, ))"
   ]
  },
  {
   "cell_type": "code",
   "execution_count": 57,
   "metadata": {},
   "outputs": [],
   "source": [
    "def output_list_of_res(res, outfile = \"test.txt\"):\n",
    "    ''' Output nucleotides to file; one gene per line'''\n",
    "    with open(outfile, \"w\") as fp: \n",
    "        for batch in res: \n",
    "            for index in range(batch.shape[\"batch\"]): \n",
    "                new_seq = translate_to_seq(batch[{\"batch\": index}])\n",
    "                fp.write(new_seq + \"\\n\")"
   ]
  },
  {
   "cell_type": "code",
   "execution_count": 62,
   "metadata": {},
   "outputs": [],
   "source": [
    "def translate_to_seq(x): \n",
    "    ''' Takes in single tensor of name seqlen'''\n",
    "    my_str = \"\".join([TEXT.vocab.itos[i] for i in x.values])\n",
    "    my_str = my_str.split(\"<pad>\")[0]\n",
    "    my_str = my_str.split(\"<unk>\")[0]\n",
    "\n",
    "    if \"<start>\" in my_str: \n",
    "        my_str = my_str.split(\"<start>\")[1]\n",
    "    \n",
    "    return my_str.upper()\n",
    "\n",
    "def output_iterator_to_file(iter_, outfile=\"iterator_output.txt\"): \n",
    "    ''' Output nucleotides to file; one gene per line'''\n",
    "    with open(outfile, \"w\") as fp: \n",
    "        for batch in iter_: \n",
    "            for index in range(batch.sequence.shape[\"batch\"]): \n",
    "                new_seq = translate_to_seq(batch.sequence[{\"batch\": index}])\n",
    "                fp.write(new_seq + \"\\n\")"
   ]
  },
  {
   "cell_type": "code",
   "execution_count": 63,
   "metadata": {},
   "outputs": [],
   "source": [
    "output_iterator_to_file(train_iter_bucket, \"ecoli_heg_train.txt\")"
   ]
  },
  {
   "cell_type": "code",
   "execution_count": 64,
   "metadata": {},
   "outputs": [],
   "source": [
    "output_iterator_to_file(test_iter_bucket, \"ecoli_heg_test.txt\")"
   ]
  },
  {
   "cell_type": "code",
   "execution_count": null,
   "metadata": {},
   "outputs": [],
   "source": []
  }
 ],
 "metadata": {
  "kernelspec": {
   "display_name": "Python 3",
   "language": "python",
   "name": "python3"
  },
  "language_info": {
   "codemirror_mode": {
    "name": "ipython",
    "version": 3
   },
   "file_extension": ".py",
   "mimetype": "text/x-python",
   "name": "python",
   "nbconvert_exporter": "python",
   "pygments_lexer": "ipython3",
   "version": "3.6.8"
  }
 },
 "nbformat": 4,
 "nbformat_minor": 2
}
