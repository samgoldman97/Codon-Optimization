{
 "cells": [
  {
   "cell_type": "code",
   "execution_count": 114,
   "metadata": {},
   "outputs": [],
   "source": [
    "import pandas as pd\n",
    "import numpy as np\n",
    "import subprocess\n",
    "import itertools\n",
    "import time\n",
    "from scipy.stats import spearmanr,pearsonr\n"
   ]
  },
  {
   "cell_type": "code",
   "execution_count": null,
   "metadata": {},
   "outputs": [],
   "source": []
  },
  {
   "cell_type": "code",
   "execution_count": 4,
   "metadata": {},
   "outputs": [],
   "source": [
    "targets = pd.read_csv(\"targets.csv\", header=None)\n",
    "lstm_predicts = pd.read_csv(\"lstm_predicts.csv\", header=None)\n",
    "lstm_predicts_teacher = pd.read_csv(\"lstm_predicts_teacher.csv\", header=None)\n",
    "unigram_predicts = pd.read_csv(\"unigram_predicts.csv\", header=None)"
   ]
  },
  {
   "cell_type": "code",
   "execution_count": 20,
   "metadata": {},
   "outputs": [],
   "source": [
    "target_arr = np.array(targets.iloc[:, 0])\n",
    "lstm_arr = np.array(lstm_predicts.iloc[:, 0])\n",
    "lstm_teacher_arr = np.array(lstm_predicts_teacher.iloc[:, 0])\n",
    "unigram_arr = np.array(unigram_predicts.iloc[:, 0])"
   ]
  },
  {
   "cell_type": "code",
   "execution_count": 40,
   "metadata": {},
   "outputs": [],
   "source": [
    "target_mfes = []\n",
    "lstm_mfes = []\n",
    "lstm_teacher_mfes = []\n",
    "unigram_mfes = []"
   ]
  },
  {
   "cell_type": "code",
   "execution_count": 105,
   "metadata": {},
   "outputs": [],
   "source": [
    "def calculate_MFEs(arr):\n",
    "    mfes = []\n",
    "    seqs = []\n",
    "    for i in range(len(arr)):\n",
    "        seq = arr[i]\n",
    "        if (len(seq) > 120):\n",
    "            seq = seq[:120]\n",
    "        text_file = open(\"input.txt\", \"w\")\n",
    "        text_file.write(seq)\n",
    "        text_file.close()\n",
    "        seqs.append(seq)\n",
    "#         print (\"reached1\")\n",
    "        process = subprocess.Popen([\"RNAFold\", \"input.txt\"], stdout=subprocess.PIPE)\n",
    "#         print (\"reached2\")\n",
    "        out, err = process.communicate()\n",
    "        out = out.decode('utf8')\n",
    "        mfes.append(float(out[out.rfind(\"(\")+1: out.rfind(\")\")]))\n",
    "    return mfes"
   ]
  },
  {
   "cell_type": "code",
   "execution_count": 106,
   "metadata": {},
   "outputs": [
    {
     "data": {
      "text/plain": [
       "[-6.8, -1.5]"
      ]
     },
     "execution_count": 106,
     "metadata": {},
     "output_type": "execute_result"
    }
   ],
   "source": [
    "calculate_MFEs(target_arr[:2])"
   ]
  },
  {
   "cell_type": "code",
   "execution_count": 109,
   "metadata": {},
   "outputs": [],
   "source": [
    "target_mfes = calculate_MFEs(target_arr)\n",
    "df = pd.DataFrame(target_mfes, columns=[\"MFE\"])\n",
    "df.to_csv(\"target_mfes.csv\", index=False, header=False)"
   ]
  },
  {
   "cell_type": "code",
   "execution_count": 110,
   "metadata": {},
   "outputs": [],
   "source": [
    "lstm_mfes = calculate_MFEs(lstm_arr)\n",
    "df = pd.DataFrame(lstm_mfes, columns=[\"MFE\"])\n",
    "df.to_csv(\"lstm_mfes.csv\", index=False, header=False)"
   ]
  },
  {
   "cell_type": "code",
   "execution_count": 111,
   "metadata": {},
   "outputs": [],
   "source": [
    "lstm_mfes_teacher = calculate_MFEs(lstm_teacher_arr)\n",
    "df = pd.DataFrame(lstm_mfes_teacher, columns=[\"MFE\"])\n",
    "df.to_csv(\"lstm_mfes_teacher.csv\", index=False, header=False)"
   ]
  },
  {
   "cell_type": "code",
   "execution_count": 112,
   "metadata": {},
   "outputs": [],
   "source": [
    "unigram_mfes = calculate_MFEs(unigram_arr)\n",
    "df = pd.DataFrame(unigram_mfes, columns=[\"MFE\"])\n",
    "df.to_csv(\"unigram_mfes.csv\", index=False, header=False)"
   ]
  },
  {
   "cell_type": "code",
   "execution_count": 116,
   "metadata": {},
   "outputs": [
    {
     "data": {
      "text/plain": [
       "SpearmanrResult(correlation=0.579647617306106, pvalue=5.583245088930676e-119)"
      ]
     },
     "execution_count": 116,
     "metadata": {},
     "output_type": "execute_result"
    }
   ],
   "source": [
    "spearmanr(target_mfes, lstm_mfes)"
   ]
  },
  {
   "cell_type": "code",
   "execution_count": 117,
   "metadata": {},
   "outputs": [
    {
     "data": {
      "text/plain": [
       "SpearmanrResult(correlation=0.6580908815301526, pvalue=3.853321995850281e-164)"
      ]
     },
     "execution_count": 117,
     "metadata": {},
     "output_type": "execute_result"
    }
   ],
   "source": [
    "spearmanr(target_mfes, lstm_mfes_teacher)"
   ]
  },
  {
   "cell_type": "code",
   "execution_count": 118,
   "metadata": {},
   "outputs": [
    {
     "data": {
      "text/plain": [
       "SpearmanrResult(correlation=0.5732090176188556, pvalue=8.388161004982853e-116)"
      ]
     },
     "execution_count": 118,
     "metadata": {},
     "output_type": "execute_result"
    }
   ],
   "source": [
    "spearmanr(target_mfes, unigram_mfes)"
   ]
  },
  {
   "cell_type": "code",
   "execution_count": null,
   "metadata": {},
   "outputs": [],
   "source": []
  }
 ],
 "metadata": {
  "kernelspec": {
   "display_name": "Python 3",
   "language": "python",
   "name": "python3"
  },
  "language_info": {
   "codemirror_mode": {
    "name": "ipython",
    "version": 3
   },
   "file_extension": ".py",
   "mimetype": "text/x-python",
   "name": "python",
   "nbconvert_exporter": "python",
   "pygments_lexer": "ipython3",
   "version": "3.6.8"
  }
 },
 "nbformat": 4,
 "nbformat_minor": 2
}
