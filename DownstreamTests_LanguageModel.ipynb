{
 "cells": [
  {
   "cell_type": "markdown",
   "metadata": {
    "colab_type": "text",
    "id": "XrvDAISh50tq"
   },
   "source": [
    "## CS287r Final Project\n",
    "## Language Model Notebook"
   ]
  },
  {
   "cell_type": "markdown",
   "metadata": {
    "colab_type": "text",
    "id": "MtyuJBXJd_h3"
   },
   "source": [
    "## Install Libraries "
   ]
  },
  {
   "cell_type": "code",
   "execution_count": 158,
   "metadata": {
    "colab": {
     "base_uri": "https://localhost:8080/",
     "height": 190
    },
    "colab_type": "code",
    "id": "qrtURpMz5wy2",
    "outputId": "0bf6acc8-3743-4a17-d27e-19f039dcc801"
   },
   "outputs": [],
   "source": [
    "# !pip install biopython\n",
    "!pip install -q torch torchtext opt_einsum\n",
    "!pip install -qU git+https://github.com/harvardnlp/namedtensor\n"
   ]
  },
  {
   "cell_type": "code",
   "execution_count": 2,
   "metadata": {
    "colab": {
     "base_uri": "https://localhost:8080/",
     "height": 71,
     "resources": {
      "http://localhost:8080/nbextensions/google.colab/files.js": {
       "data": "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",
       "headers": [
        [
         "content-type",
         "application/javascript"
        ]
       ],
       "ok": true,
       "status": 200,
       "status_text": ""
      }
     }
    },
    "colab_type": "code",
    "id": "Dfv_2I-3-j3o",
    "outputId": "f2555dd6-49d6-43b6-c973-b92e47377bbc"
   },
   "outputs": [
    {
     "data": {
      "text/html": [
       "\n",
       "     <input type=\"file\" id=\"files-2bdaaf8b-ed6c-40ba-9a1d-ea350e3a9a8d\" name=\"files[]\" multiple disabled />\n",
       "     <output id=\"result-2bdaaf8b-ed6c-40ba-9a1d-ea350e3a9a8d\">\n",
       "      Upload widget is only available when the cell has been executed in the\n",
       "      current browser session. Please rerun this cell to enable.\n",
       "      </output>\n",
       "      <script src=\"/nbextensions/google.colab/files.js\"></script> "
      ],
      "text/plain": [
       "<IPython.core.display.HTML object>"
      ]
     },
     "metadata": {
      "tags": []
     },
     "output_type": "display_data"
    },
    {
     "name": "stdout",
     "output_type": "stream",
     "text": [
      "Saving ecoli_CDS.fasta to ecoli_CDS.fasta\n"
     ]
    }
   ],
   "source": [
    "# ## Upload cds file..\n",
    "\n",
    "# #!wget -m ftp://ftp.ensemblgenomes.org/pub/release-43/bacteria//fasta/bacteria_0_collection/escherichia_coli_str_k_12_substr_mg1655/cdna/\n",
    "# #!mv ftp.ensemblgenomes.org/pub/release-43/bacteria/fasta/bacteria_0_collection/escherichia_coli_str_k_12_substr_mg1655/cdna/Escherichia_coli_str_k_12_substr_mg1655.ASM584v2.cdna.all.fa.gz ./ \n",
    "# #!unzip \"Escherichia_coli_str_k_12_substr_mg1655.ASM584v2.cdna.all.fa.gz\"\n",
    "\n",
    "# from google.colab import files\n",
    "# uploaded = files.upload()\n"
   ]
  },
  {
   "cell_type": "code",
   "execution_count": null,
   "metadata": {},
   "outputs": [],
   "source": []
  },
  {
   "cell_type": "code",
   "execution_count": 0,
   "metadata": {
    "colab": {
     "base_uri": "https://localhost:8080/",
     "height": 34
    },
    "colab_type": "code",
    "id": "_nJPkWqsys-u",
    "outputId": "699eaf4a-371a-4597-c0eb-2bf445ecfd3f"
   },
   "outputs": [
    {
     "name": "stdout",
     "output_type": "stream",
     "text": [
      "mv: cannot stat 'Escherichia_coli_str_k_12_substr_mg1655.ASM584v2.cdna.all.fa': No such file or directory\n"
     ]
    }
   ],
   "source": [
    "mv Escherichia_coli_str_k_12_substr_mg1655.ASM584v2.cdna.all.fa ecoli_CDS.fasta"
   ]
  },
  {
   "cell_type": "code",
   "execution_count": 1,
   "metadata": {
    "colab": {},
    "colab_type": "code",
    "id": "EY3JqLxk50HJ"
   },
   "outputs": [],
   "source": [
    "from Bio.Seq import Seq\n",
    "from Bio import SeqIO\n",
    "from Bio.SeqUtils import CodonUsage\n",
    "from Bio.SeqUtils import IUPACData\n",
    "import torch\n",
    "import torchtext\n",
    "from namedtensor import ntorch\n",
    "from namedtensor.text import NamedField\n",
    "from sklearn.ensemble import RandomForestClassifier\n",
    "from nltk.util import ngrams\n",
    "import numpy as np \n",
    "import matplotlib.pyplot as plt\n",
    "import seaborn as sns\n",
    "import re\n",
    "# from google.colab import files\n",
    "import pandas as pd\n",
    "import math\n",
    "import random\n",
    "device = torch.device('cuda:0' if torch.cuda.is_available() else 'cpu')\n",
    "from collections import defaultdict"
   ]
  },
  {
   "cell_type": "markdown",
   "metadata": {
    "colab_type": "text",
    "id": "biBt0uYHeGU1"
   },
   "source": [
    "## Import data"
   ]
  },
  {
   "cell_type": "code",
   "execution_count": 12,
   "metadata": {
    "colab": {},
    "colab_type": "code",
    "id": "L53cBDAB50JR"
   },
   "outputs": [],
   "source": [
    "# Our input $x$\n",
    "# Prepend with a start token\n",
    "tokenize = lambda x : [\"<START>\"] + re.findall('.{%d}' % 3, x)\n",
    "TEXT = NamedField(names=(\"seqlen\", ), sequential=True, \n",
    "                  lower=True, tokenize=tokenize)\n",
    "AA_LABEL = NamedField(names=(\"seqlen\", ), \n",
    "                  lower=True)\n",
    "\n"
   ]
  },
  {
   "cell_type": "code",
   "execution_count": 13,
   "metadata": {
    "colab": {},
    "colab_type": "code",
    "id": "yrQxUwLn50Lk"
   },
   "outputs": [],
   "source": [
    "# Note: Fairly round about way of getting this loaded into pytorch..\n",
    "# Wrangling data into format pytorch language prefers.. \n",
    "sequences = [str(rec.seq) for rec in SeqIO.parse(\"ecoli_CDS.fasta\", \"fasta\") if len(rec.seq) % 3 == 0]\n",
    "df = pd.DataFrame(sequences, columns=[\"sequence\"])\n",
    "df.to_csv(\"cds.csv\", index=False, header=False)"
   ]
  },
  {
   "cell_type": "code",
   "execution_count": 5,
   "metadata": {},
   "outputs": [],
   "source": [
    "sequence_lengths = [len(sequences[i]) for i in range(len(sequences))]"
   ]
  },
  {
   "cell_type": "code",
   "execution_count": 7,
   "metadata": {},
   "outputs": [
    {
     "data": {
      "text/plain": [
       "1355844.0"
      ]
     },
     "execution_count": 7,
     "metadata": {},
     "output_type": "execute_result"
    }
   ],
   "source": [
    "np.sum(sequence_lengths)/3"
   ]
  },
  {
   "cell_type": "code",
   "execution_count": 16,
   "metadata": {},
   "outputs": [
    {
     "data": {
      "image/png": "[encoded data removed]",
      "text/plain": [
       "<Figure size 432x288 with 1 Axes>"
      ]
     },
     "metadata": {
      "needs_background": "light"
     },
     "output_type": "display_data"
    }
   ],
   "source": [
    "sns.distplot(np.array(sequence_lengths), color=\"green\", bins=30, kde=False).set_title(\"Distribution of CDS length in E. coli\", fontsize=18)\n",
    "plt.savefig(\"CDS Distribution\")\n",
    "plt.show()"
   ]
  },
  {
   "cell_type": "code",
   "execution_count": 17,
   "metadata": {
    "colab": {
     "base_uri": "https://localhost:8080/",
     "height": 391
    },
    "colab_type": "code",
    "id": "XT72gjMkR5bj",
    "outputId": "1596470d-c1ee-4ccc-d2bf-f4d2f3170b3d"
   },
   "outputs": [
    {
     "data": {
      "text/plain": [
       "['<START>',\n",
       " 'GTG',\n",
       " 'TCA',\n",
       " 'CTT',\n",
       " 'TCG',\n",
       " 'CTT',\n",
       " 'TGG',\n",
       " 'CAG',\n",
       " 'CAG',\n",
       " 'TGT',\n",
       " 'CTT',\n",
       " 'GCC',\n",
       " 'CGA',\n",
       " 'TTG',\n",
       " 'CAG',\n",
       " 'GAT',\n",
       " 'GAG',\n",
       " 'TTA',\n",
       " 'CCA',\n",
       " 'GCC',\n",
       " 'ACA',\n",
       " 'GAA']"
      ]
     },
     "execution_count": 17,
     "metadata": {},
     "output_type": "execute_result"
    }
   ],
   "source": [
    "sequences_ = [rec.seq for rec in SeqIO.parse(\"ecoli_CDS.fasta\", \"fasta\") if len(rec.seq) % 3 == 0]\n",
    "tokenize(str(sequences_[0][:21*3]))"
   ]
  },
  {
   "cell_type": "code",
   "execution_count": 152,
   "metadata": {
    "colab": {},
    "colab_type": "code",
    "id": "NXgf0rBVWDCO"
   },
   "outputs": [],
   "source": [
    "#generate all DNA triplets\n",
    "bases = \"tcag\"\n",
    "codons = [a + b + c for a in bases for b in bases for c in bases]\n",
    "aa = [str(Seq(j).translate()) for j in codons]\n",
    "codon_to_aa = dict(zip(codons, aa))\n",
    "\n",
    "\n",
    "#create one hot of AA encoding\n",
    "AA_LABEL.build_vocab(aa)"
   ]
  },
  {
   "cell_type": "code",
   "execution_count": null,
   "metadata": {},
   "outputs": [],
   "source": []
  },
  {
   "cell_type": "code",
   "execution_count": 19,
   "metadata": {
    "colab": {},
    "colab_type": "code",
    "id": "-p--2rJY50OE"
   },
   "outputs": [],
   "source": [
    "my_data = torchtext.data.TabularDataset(\"cds.csv\", format=\"CSV\", \n",
    "                                        fields=[(\"sequence\", TEXT)])"
   ]
  },
  {
   "cell_type": "code",
   "execution_count": 20,
   "metadata": {
    "colab": {},
    "colab_type": "code",
    "id": "5O0OCHykEUtu"
   },
   "outputs": [],
   "source": [
    "train, test = my_data.split(split_ratio=0.7)"
   ]
  },
  {
   "cell_type": "code",
   "execution_count": 21,
   "metadata": {
    "colab": {},
    "colab_type": "code",
    "id": "5aoF2rKyM6FF"
   },
   "outputs": [],
   "source": [
    "TEXT.build_vocab(train)"
   ]
  },
  {
   "cell_type": "code",
   "execution_count": 22,
   "metadata": {
    "colab": {},
    "colab_type": "code",
    "id": "oBEAtnKJUjwg"
   },
   "outputs": [],
   "source": [
    "from torchtext.data import Iterator, BucketIterator\n",
    " \n",
    "#we don't split genes\n",
    "train_iter_bucket, test_iter_bucket = torchtext.data.BucketIterator.splits(\n",
    "    (train, test), batch_sizes=(10,10), sort_within_batch=False, sort_key=lambda x : len(x.sequence),\n",
    "    device=torch.device(device, ))"
   ]
  },
  {
   "cell_type": "code",
   "execution_count": 24,
   "metadata": {
    "colab": {},
    "colab_type": "code",
    "id": "9ib9xVCdgGq6"
   },
   "outputs": [],
   "source": [
    "# Make a look up table, such that you can index with the vocab item (e.g. a codon)\n",
    "# and get the one hot corresponding to its amino acid\n",
    "one_hot_vec = torch.eye(len(AA_LABEL.vocab))\n",
    "zero_vec =  torch.zeros(len(AA_LABEL.vocab), 1)\n",
    "direct_look_up = [one_hot_vec[AA_LABEL.vocab.stoi[codon_to_aa[TEXT.vocab.itos[i]]]].unsqueeze(1) \n",
    "                  if TEXT.vocab.itos[i] in codon_to_aa else zero_vec\n",
    "                  for i in range(len(TEXT.vocab.stoi))]\n",
    "\n",
    "# Codon x one hot \n",
    "index_table = torch.cat(direct_look_up, dim=1).t()"
   ]
  },
  {
   "cell_type": "code",
   "execution_count": 0,
   "metadata": {
    "colab": {},
    "colab_type": "code",
    "id": "9qbFSWzAzFJF"
   },
   "outputs": [],
   "source": [
    "####\n",
    "\n",
    "# TEXT.vocab.itos[x]: retrieves codon given numbering in the order of "
   ]
  },
  {
   "cell_type": "markdown",
   "metadata": {
    "colab_type": "text",
    "id": "94Bv7I2y1XuI"
   },
   "source": [
    "\n",
    "TEXT.vocab.itos[num]: retrieves codon given numbering in the encoding position\n",
    "\n",
    "TEXT.vocab.stoi[\"gaa\"]: retrieves encoding given codon\n",
    "\n",
    "codon_to_aa: dictionary. key: codon, val: AA\n",
    "\n",
    "AA_LABEL.vocab.stoi[AA]: retrieves AA encoding given AA\n",
    "AA_LABEL.vocab.itos[num]: retrieves AA given AA encoding"
   ]
  },
  {
   "cell_type": "code",
   "execution_count": 157,
   "metadata": {},
   "outputs": [
    {
     "data": {
      "text/plain": [
       "23"
      ]
     },
     "execution_count": 157,
     "metadata": {},
     "output_type": "execute_result"
    }
   ],
   "source": [
    "len(AA_LABEL.vocab.itos)"
   ]
  },
  {
   "cell_type": "code",
   "execution_count": 25,
   "metadata": {
    "colab": {},
    "colab_type": "code",
    "id": "4s1Vg9grfRV2"
   },
   "outputs": [],
   "source": [
    "codon_to_aa_index = torch.argmax(index_table, 1)"
   ]
  },
  {
   "cell_type": "code",
   "execution_count": 26,
   "metadata": {
    "colab": {
     "base_uri": "https://localhost:8080/",
     "height": 68
    },
    "colab_type": "code",
    "id": "zugdkAQUEp8k",
    "outputId": "390fbf8c-1de5-4785-8664-ad0565057a50"
   },
   "outputs": [
    {
     "name": "stdout",
     "output_type": "stream",
     "text": [
      "25\n"
     ]
    },
    {
     "data": {
      "text/plain": [
       "tensor([0., 0., 0., 0., 0., 0., 0., 0., 0., 0., 0., 0., 0., 0., 0., 0., 0., 0.,\n",
       "        1., 0., 0., 0., 0.])"
      ]
     },
     "execution_count": 26,
     "metadata": {},
     "output_type": "execute_result"
    }
   ],
   "source": [
    "codon_embed = TEXT.vocab.stoi[\"aat\"]\n",
    "print(codon_embed)\n",
    "\n",
    "# One hot of amino acid embedding\n",
    "index_table[codon_embed]"
   ]
  },
  {
   "cell_type": "code",
   "execution_count": 40,
   "metadata": {
    "colab": {},
    "colab_type": "code",
    "id": "YfWyJa0MM6rx"
   },
   "outputs": [],
   "source": [
    "batch = next(iter(train_iter_bucket))"
   ]
  },
  {
   "cell_type": "code",
   "execution_count": 41,
   "metadata": {
    "colab": {
     "base_uri": "https://localhost:8080/",
     "height": 34
    },
    "colab_type": "code",
    "id": "pVoYFxtCJuy4",
    "outputId": "ad207fca-6f0b-440c-dce3-6d21347ce90d"
   },
   "outputs": [
    {
     "data": {
      "text/plain": [
       "OrderedDict([('batch', 10), ('seqlen', 702), ('onehot', 23)])"
      ]
     },
     "execution_count": 41,
     "metadata": {},
     "output_type": "execute_result"
    }
   ],
   "source": [
    "embed = ntorch.nn.Embedding.from_pretrained(index_table).spec(\"seqlen\", \"onehot\").to(device)\n",
    "embed(batch.sequence).shape"
   ]
  },
  {
   "cell_type": "code",
   "execution_count": 42,
   "metadata": {
    "colab": {},
    "colab_type": "code",
    "id": "4WxprVRmL_H0"
   },
   "outputs": [],
   "source": [
    "# Build masking table\n",
    "# Here, if it's a synonymous option, give it 0 value, if not, give -1e9\n",
    "# Add this with the output vector (i.e. output += mask_tbl[trg]) before softmax\n",
    "mask_tbl = torch.tensor(np.array([[0 if (codon in codon_to_aa and codon_2 in codon_to_aa and codon_to_aa[codon] == codon_to_aa[codon_2]) else -1e9 \n",
    "           for codon_2 in TEXT.vocab.itos] \n",
    "          for index, codon in enumerate(TEXT.vocab.itos)])).to(device)\n"
   ]
  },
  {
   "cell_type": "code",
   "execution_count": 43,
   "metadata": {
    "colab": {
     "base_uri": "https://localhost:8080/",
     "height": 272
    },
    "colab_type": "code",
    "id": "EoNXvzAsGDwp",
    "outputId": "15b2e7b5-f806-4554-8177-022ea8997479"
   },
   "outputs": [
    {
     "name": "stdout",
     "output_type": "stream",
     "text": [
      "CODON aaa aag\n"
     ]
    },
    {
     "data": {
      "text/plain": [
       "tensor([-1.0000e+09, -1.0000e+09, -1.0000e+09, -1.0000e+09,  0.0000e+00,\n",
       "        -1.0000e+09, -1.0000e+09, -1.0000e+09, -1.0000e+09, -1.0000e+09,\n",
       "        -1.0000e+09, -1.0000e+09, -1.0000e+09, -1.0000e+09, -1.0000e+09,\n",
       "        -1.0000e+09, -1.0000e+09, -1.0000e+09, -1.0000e+09, -1.0000e+09,\n",
       "        -1.0000e+09, -1.0000e+09, -1.0000e+09, -1.0000e+09, -1.0000e+09,\n",
       "        -1.0000e+09, -1.0000e+09, -1.0000e+09, -1.0000e+09, -1.0000e+09,\n",
       "        -1.0000e+09, -1.0000e+09, -1.0000e+09, -1.0000e+09, -1.0000e+09,\n",
       "        -1.0000e+09, -1.0000e+09, -1.0000e+09, -1.0000e+09, -1.0000e+09,\n",
       "        -1.0000e+09, -1.0000e+09,  0.0000e+00, -1.0000e+09, -1.0000e+09,\n",
       "        -1.0000e+09, -1.0000e+09, -1.0000e+09, -1.0000e+09, -1.0000e+09,\n",
       "        -1.0000e+09, -1.0000e+09, -1.0000e+09, -1.0000e+09, -1.0000e+09,\n",
       "        -1.0000e+09, -1.0000e+09, -1.0000e+09, -1.0000e+09, -1.0000e+09,\n",
       "        -1.0000e+09, -1.0000e+09, -1.0000e+09, -1.0000e+09, -1.0000e+09,\n",
       "        -1.0000e+09, -1.0000e+09], dtype=torch.float64)"
      ]
     },
     "execution_count": 43,
     "metadata": {},
     "output_type": "execute_result"
    }
   ],
   "source": [
    "print(\"CODON\", TEXT.vocab.itos[4], TEXT.vocab.itos[42])\n",
    "\n",
    "mask_tbl[4]"
   ]
  },
  {
   "cell_type": "code",
   "execution_count": 44,
   "metadata": {
    "colab": {
     "base_uri": "https://localhost:8080/",
     "height": 34
    },
    "colab_type": "code",
    "id": "eT8A05zpMCQw",
    "outputId": "2d3e2212-2849-4039-e508-8c35adebf09c"
   },
   "outputs": [
    {
     "name": "stdout",
     "output_type": "stream",
     "text": [
      "2369\n"
     ]
    }
   ],
   "source": [
    "max_seq_len = 0\n",
    "for batch in train_iter_bucket:\n",
    "  if batch.sequence.shape[\"seqlen\"] > max_seq_len: \n",
    "    max_seq_len = batch.sequence.shape[\"seqlen\"] \n",
    "\n",
    "for batch in test_iter_bucket:\n",
    "  if batch.sequence.shape[\"seqlen\"] > max_seq_len: \n",
    "    max_seq_len = batch.sequence.shape[\"seqlen\"] \n",
    "\n",
    "print(max_seq_len)"
   ]
  },
  {
   "cell_type": "markdown",
   "metadata": {
    "colab_type": "text",
    "id": "O0qthAXLif_u"
   },
   "source": [
    "## Import Data (Character Level Model)"
   ]
  },
  {
   "cell_type": "code",
   "execution_count": 19,
   "metadata": {
    "colab": {},
    "colab_type": "code",
    "id": "XbSKJ2tpiidg"
   },
   "outputs": [],
   "source": [
    "tokenize_char = lambda x : [\"<START>\"] + list(x)\n",
    "TEXT_CHAR = NamedField(names=(\"seqlen\", ), sequential=True, \n",
    "                  lower=True, tokenize=tokenize_char)"
   ]
  },
  {
   "cell_type": "code",
   "execution_count": 0,
   "metadata": {
    "colab": {},
    "colab_type": "code",
    "id": "Y_ibXEWZiiTZ"
   },
   "outputs": [],
   "source": [
    "my_data_char = torchtext.data.TabularDataset(\"cds.csv\", format=\"CSV\", \n",
    "                                        fields=[(\"sequence\", TEXT_CHAR)])"
   ]
  },
  {
   "cell_type": "code",
   "execution_count": 0,
   "metadata": {
    "colab": {},
    "colab_type": "code",
    "id": "mbO1nVm2iiMk"
   },
   "outputs": [],
   "source": [
    "train_char, test_char = my_data_char.split(split_ratio=0.7)"
   ]
  },
  {
   "cell_type": "code",
   "execution_count": 0,
   "metadata": {
    "colab": {},
    "colab_type": "code",
    "id": "MVyncPjojbJE"
   },
   "outputs": [],
   "source": [
    "TEXT_CHAR.build_vocab(train_char)"
   ]
  },
  {
   "cell_type": "code",
   "execution_count": 0,
   "metadata": {
    "colab": {
     "base_uri": "https://localhost:8080/",
     "height": 147
    },
    "colab_type": "code",
    "id": "myhHYBhzjbED",
    "outputId": "87e3ad02-da18-4d10-e129-9c95ab8ae35a"
   },
   "outputs": [
    {
     "data": {
      "text/plain": [
       "defaultdict(<function torchtext.vocab._default_unk_index>,\n",
       "            {'<pad>': 1,\n",
       "             '<start>': 6,\n",
       "             '<unk>': 0,\n",
       "             'a': 5,\n",
       "             'c': 3,\n",
       "             'g': 2,\n",
       "             't': 4})"
      ]
     },
     "execution_count": 26,
     "metadata": {
      "tags": []
     },
     "output_type": "execute_result"
    }
   ],
   "source": [
    "TEXT_CHAR.vocab.stoi"
   ]
  },
  {
   "cell_type": "code",
   "execution_count": 0,
   "metadata": {
    "colab": {},
    "colab_type": "code",
    "id": "3Z1A1bsLja8_"
   },
   "outputs": [],
   "source": [
    "from torchtext.data import Iterator, BucketIterator\n",
    " \n",
    "#we don't split genes\n",
    "train_iter_char_bucket, test_iter_char_bucket = torchtext.data.BucketIterator.splits(\n",
    "    (train_char, test_char), batch_sizes=(10,10), sort_within_batch=False, sort_key=lambda x : len(x.sequence),\n",
    "    device=torch.device(device, ))"
   ]
  },
  {
   "cell_type": "code",
   "execution_count": 0,
   "metadata": {
    "colab": {},
    "colab_type": "code",
    "id": "dpCF952mmObK"
   },
   "outputs": [],
   "source": []
  },
  {
   "cell_type": "code",
   "execution_count": 0,
   "metadata": {
    "colab": {},
    "colab_type": "code",
    "id": "44j9g4zwmOUP"
   },
   "outputs": [],
   "source": []
  },
  {
   "cell_type": "markdown",
   "metadata": {
    "colab_type": "text",
    "id": "zBScOiR3UPNR"
   },
   "source": [
    "## Make frequency table for reference"
   ]
  },
  {
   "cell_type": "code",
   "execution_count": 45,
   "metadata": {
    "colab": {},
    "colab_type": "code",
    "id": "Qi6H086PURgd"
   },
   "outputs": [],
   "source": [
    "def count_codons_iter(train_iter):\n",
    "  ''' Calculate the counts of each codon given subset of a CDS\n",
    "  \n",
    "  Args:\n",
    "    Train iter\n",
    "    \n",
    "  Returns:\n",
    "    dict{str, int}: dictionary with codons as key and corresponding number of occurences\n",
    "  \n",
    "  '''\n",
    "  codons_dict = CodonUsage.CodonsDict.copy()\n",
    "  for i, batch in enumerate(train_iter):\n",
    "\n",
    "    # Select for all non zero tensors\n",
    "    # Use this to find all indices that aren't padding\n",
    "    seq_len = batch.sequence.shape[\"seqlen\"]\n",
    "    batch_size = batch.sequence.shape[\"batch\"]\n",
    "    seq = batch.sequence.detach().cpu().numpy()\n",
    "    for batch_item in range(batch_size): \n",
    "      for seq_item in range(0, seq_len):\n",
    "        word = seq[seq_item, batch_item]\n",
    "        if TEXT.vocab.itos[word] in codon_to_aa: \n",
    "          codons_dict[TEXT.vocab.itos[word].upper()] += 1\n",
    "        elif TEXT.vocab.itos[word] == \"<pad>\": \n",
    "          # Break loop if we are at padding...\n",
    "          seq_item = seq_len + 1\n",
    "          \n",
    "   \n",
    "  return codons_dict\n",
    "\n",
    "def count_codons_fasta(fasta_file):\n",
    "  ''' Calculate the counts of each codon given a set of CDS\n",
    "  \n",
    "  Args:\n",
    "    Fasta file \n",
    "    \n",
    "  Returns:\n",
    "    dict{str, int}: dictionary with codons as key and corresponding number of occurences\n",
    "  \n",
    "  '''\n",
    "  \n",
    "  codons_dict = CodonUsage.CodonsDict.copy()\n",
    "  \n",
    "  for record in SeqIO.parse(fasta_file, \"fasta\"):\n",
    "    seq = record.seq\n",
    "    if len(seq) % 3 != 0:\n",
    "      continue\n",
    "      \n",
    "    #count the codons for this sequence\n",
    "    for codon_start in range(0, len(seq), 3):\n",
    "      codons_dict[str(seq[codon_start:codon_start+3])] += 1\n",
    "   \n",
    "  return codons_dict\n",
    "\n",
    "def calculate_codon_frequency(codon_counts):\n",
    "  ''' Calculate the counts of each codon given a set of CDS\n",
    "  \n",
    "  Args:\n",
    "    codon usage table\n",
    "    \n",
    "  Returns:\n",
    "    dict{str, float}: dictionary with codons as key and corresponding \n",
    "    frequency of codon for AA\n",
    "  \n",
    "  '''\n",
    "  codon_freqs = CodonUsage.CodonsDict.copy()\n",
    "  \n",
    "  for _, synonymous_codons in CodonUsage.SynonymousCodons.items():\n",
    "    total_AA_count = sum([codon_counts[codon] for codon in synonymous_codons])\n",
    "    \n",
    "    if total_AA_count == 0:\n",
    "      continue\n",
    "      \n",
    "    for codon in synonymous_codons:\n",
    "      codon_freqs[codon] = codon_counts[codon] / total_AA_count\n",
    "  \n",
    "  return codon_freqs\n",
    "\n",
    "eColi_codon_counts = count_codons_fasta(\"ecoli_CDS.fasta\")\n",
    "# eColi_codon_counts = count_codons_iter(train_iter_bucket)\n",
    "eColi_codon_table = calculate_codon_frequency(eColi_codon_counts)"
   ]
  },
  {
   "cell_type": "code",
   "execution_count": 46,
   "metadata": {
    "colab": {},
    "colab_type": "code",
    "id": "aZmOIRRRr0Io"
   },
   "outputs": [],
   "source": [
    "def make_unigram_conversion(train_iter): \n",
    "  ''' Help make table... '''\n",
    "  eColi_codon_counts = count_codons_iter(train_iter)\n",
    "  eColi_codon_table = calculate_codon_frequency(eColi_codon_counts)\n",
    "  unigram_freq_tbl = torch.tensor(np.array([[eColi_codon_table[codon_2.upper()] if (codon in codon_to_aa and codon_2 in codon_to_aa and codon_to_aa[codon] == codon_to_aa[codon_2]) else 0 \n",
    "             for codon_2 in TEXT.vocab.itos] \n",
    "            for index, codon in enumerate(TEXT.vocab.itos)])).to(device)\n",
    "  \n",
    "  pad_index = TEXT.vocab.stoi[\"<pad>\"]\n",
    "  unigram_freq_tbl[pad_index,pad_index] = 1\n",
    "  return unigram_freq_tbl \n",
    "\n",
    "\n",
    "unigram_freq_tbl = make_unigram_conversion(train_iter_bucket)"
   ]
  },
  {
   "cell_type": "markdown",
   "metadata": {
    "colab_type": "text",
    "id": "kVb8Du80C0Z5"
   },
   "source": [
    "#### N gram frequency helpers"
   ]
  },
  {
   "cell_type": "code",
   "execution_count": 47,
   "metadata": {
    "colab": {},
    "colab_type": "code",
    "id": "uMBilqW2wlyo"
   },
   "outputs": [],
   "source": [
    "def make_n_gram(train_iter, n, amino_acid_conversion):\n",
    "  '''\n",
    "  n : the number to each side...\n",
    "      e.g. 0 gram corresponds to freq, 1 gram corresponds to 3, etc.\n",
    "  amino_acid_conversion: tensor used to convert seq to AA one hots\n",
    "  '''\n",
    "  with torch.no_grad():\n",
    "    n_grams = []\n",
    "    targets = []\n",
    "    ident_mat = np.eye(len(TEXT.vocab.stoi))\n",
    "    ident_mat_aa = np.eye(len(AA_LABEL.vocab))\n",
    "    for i, batch in enumerate(train_iter):\n",
    "      # Select for all non zero tensors\n",
    "      # Use this to find all indices that aren't padding\n",
    "      seq_len = batch.sequence.shape[\"seqlen\"]\n",
    "      batch_size = batch.sequence.shape[\"batch\"]\n",
    "\n",
    "      # Pad amino acids and seq with <pad> token \n",
    "      pad_token = TEXT.vocab.stoi[\"<pad>\"]\n",
    "      additional_padding = ntorch.ones(batch_size, n, \n",
    "                                      names=(\"batch\", \"seqlen\")).long()\n",
    "      additional_padding *= pad_token\n",
    "      \n",
    "      seq = ntorch.cat([additional_padding, batch.sequence, additional_padding],\n",
    "                      dim=\"seqlen\")\n",
    "      \n",
    "      # Now one hots.. \n",
    "      amino_acids = amino_acid_conversion[seq.values].detach().cpu().numpy()\n",
    "      # Note: we should assert that start and pad are treated the same\n",
    "      # This is because at test time, presumably we narrow the start for the AA.. \n",
    "      if i == 0:\n",
    "        assert((amino_acids[0,n] == amino_acids[0,0]).all())\n",
    "      \n",
    "      seq = seq.detach().cpu().numpy()\n",
    "      # Pad with padding token\n",
    "      for batch_item in range(batch_size): \n",
    "        # start at n, end at seq_len - n\n",
    "        for seq_item in range(n, seq_len - n):\n",
    "          # Middle token is a discrete number representing the codon (0 to 66)\n",
    "          middle_token = seq[batch_item, seq_item]\n",
    "          # N gram is a 2d numpy array containing an amino acid embedding in each row\n",
    "          n_gram = amino_acids[batch_item,seq_item - n : seq_item + n + 1]\n",
    "          \n",
    "          # If we want all one hots:\n",
    "          # n_grams.append(ident_mat_aa[n_gram])\n",
    "          # targets.append(ident_mat[middle_token])\n",
    "\n",
    "          # If we want all indices:\n",
    "          n_grams.append(n_gram)\n",
    "          targets.append(middle_token)\n",
    "          \n",
    "  return n_grams, targets\n",
    "\n",
    "\n",
    "\n",
    "\n",
    "def build_dictionary(n_grams, targets): \n",
    "  ''' Takes n grams and targets and makes them into '''\n",
    "  default_obj = lambda : torch.tensor(np.zeros(len(TEXT.vocab.stoi)))\n",
    "  default_dict = defaultdict(default_obj)\n",
    "  \n",
    "  for n_gram, target in zip(n_grams, targets): \n",
    "    default_dict[str(n_gram)][target] += 1\n",
    "    \n",
    "  for key in default_dict: \n",
    "    default_dict[key] /= (default_dict[key]).sum()\n",
    "    \n",
    "  return default_dict"
   ]
  },
  {
   "cell_type": "code",
   "execution_count": 48,
   "metadata": {
    "colab": {
     "base_uri": "https://localhost:8080/",
     "height": 327
    },
    "colab_type": "code",
    "id": "Vp0w6yso_kHz",
    "outputId": "80cc5d10-666a-4e89-900b-032330f5c7c8"
   },
   "outputs": [],
   "source": [
    "# n_grams are indices in amino acid space, targets are indices in codon space\n",
    "# n_grams, targets = make_n_gram(train_iter_bucket, 0, codon_to_aa_index)"
   ]
  },
  {
   "cell_type": "markdown",
   "metadata": {
    "colab_type": "text",
    "id": "RPMm5nyPWvvS"
   },
   "source": [
    "# Language modeling"
   ]
  },
  {
   "cell_type": "markdown",
   "metadata": {
    "colab_type": "text",
    "id": "fIVy7J0ceLkA"
   },
   "source": [
    "## Models"
   ]
  },
  {
   "cell_type": "markdown",
   "metadata": {
    "colab_type": "text",
    "id": "caIqk_EOmaDc"
   },
   "source": [
    "### Codon Level Models "
   ]
  },
  {
   "cell_type": "markdown",
   "metadata": {
    "colab_type": "text",
    "id": "ZZoA2XV9mivw"
   },
   "source": [
    "#### AA_COMPRESS\n",
    "A model to compress a codon sequence into its amino acid representation\n",
    "Can be easily used by passing in an embedding that turns each amino acid into a onehot OR each amino acid into a frequency table representation for its codon (unigram model)"
   ]
  },
  {
   "cell_type": "code",
   "execution_count": 49,
   "metadata": {
    "colab": {},
    "colab_type": "code",
    "id": "tl1h-vYXXQqE"
   },
   "outputs": [],
   "source": [
    "class AA_COMPRESS(ntorch.nn.Module):\n",
    "  '''\n",
    "  Compress info for codon sequence at the amino acid level\n",
    "  '''\n",
    "  \n",
    "  def __init__(self, params): \n",
    "    super(AA_COMPRESS, self).__init__()\n",
    "    self.codon_to_aa = params[\"CODON_TO_AA\"]\n",
    "    self.aa_embed = (ntorch.nn.Embedding.from_pretrained(self.codon_to_aa)\n",
    "                     .spec(\"seqlen\", \"hiddenlen\"))\n",
    "    \n",
    "    # don't learn these.. \n",
    "    self.aa_embed.weight.requires_grad_(False)  \n",
    "    \n",
    "  def forward(self, seq): \n",
    "    return self.aa_embed(seq)    "
   ]
  },
  {
   "cell_type": "markdown",
   "metadata": {
    "colab_type": "text",
    "id": "4dPiQI0ddUaH"
   },
   "source": [
    "#### AA_NGRAM\n",
    "A model class that will take a string of codons and turn them into amino acids, then turn those amino acids into n gram based frequencies for what codon should be predicted in each position\n"
   ]
  },
  {
   "cell_type": "code",
   "execution_count": 50,
   "metadata": {
    "colab": {},
    "colab_type": "code",
    "id": "nCYYQR2adxU7"
   },
   "outputs": [],
   "source": [
    "class AA_NGRAM(ntorch.nn.Module):\n",
    "  '''\n",
    "  Compress info for codon sequence at the amino acid level\n",
    "  TODO: Ignore pading predicts in forward pass to save time\n",
    "  '''\n",
    "  \n",
    "  def __init__(self, params): \n",
    "    super(AA_NGRAM, self).__init__()\n",
    "    self.codon_to_aa = params[\"CODON_TO_AA\"]\n",
    "    self.dict_list = params[\"N_GRAM_DICTS\"]\n",
    "    # How many indcies each dict takes\n",
    "    self.n_list = params[\"N_LIST\"]\n",
    "    # probability to apply to each n gram used\n",
    "    self.weight_list = params[\"WEIGHT_LIST\"]\n",
    "    self.longest_n = max(self.n_list)\n",
    "    self.out_vocab = params[\"OUT_VOCAB\"]\n",
    "    \n",
    "  def forward(self, seq): \n",
    "    \n",
    "    seq_len = seq.shape[\"seqlen\"]\n",
    "    batch_size = seq.shape[\"batch\"]\n",
    "      \n",
    "    pad_token = TEXT.vocab.stoi[\"<pad>\"]\n",
    "    additional_padding = ntorch.ones(batch_size, self.longest_n, \n",
    "                                    names=(\"batch\", \"seqlen\")).long()\n",
    "    additional_padding *= pad_token\n",
    "    \n",
    "    seq = ntorch.cat([additional_padding, seq, additional_padding],\n",
    "                    dim=\"seqlen\")\n",
    "    \n",
    "    \n",
    "    amino_acids = self.codon_to_aa[seq.values]\n",
    "    \n",
    "    return_ar = ntorch.zeros(seq_len, batch_size, self.out_vocab,\n",
    "                             names=(\"seqlen\", \"batch\", \"vocablen\"))\n",
    "    \n",
    "    # convert to numpy to leave GPU \n",
    "    amino_acids = amino_acids.detach().cpu().numpy()\n",
    "    for batch_item in range(batch_size): \n",
    "      # start at n, end at seq_len - n\n",
    "      for seq_item in range(self.longest_n, seq_len - self.longest_n):        \n",
    "        # Must iterate over all dictionaries\n",
    "        for weight, n, ngram_dict in zip(self.weight_list, \n",
    "                                         self.n_list, self.dict_list):          \n",
    "          # N gram is a 2d numpy array containing an amino acid embedding in each row\n",
    "          n_gram = amino_acids[batch_item,seq_item - n : seq_item + n + 1]\n",
    "\n",
    "          # note, we want to populate the return ar before padding!\n",
    "          return_ar[{\"seqlen\" : seq_item - self.longest_n, \n",
    "                     \"batch\" : batch_item}] += weight * ngram_dict[str(n_gram)].float()\n",
    "\n",
    "    return return_ar\n",
    "  \n",
    "\n",
    " "
   ]
  },
  {
   "cell_type": "markdown",
   "metadata": {
    "colab_type": "text",
    "id": "FGKLRU1-mrwj"
   },
   "source": [
    "#### AA_BILSTM\n",
    "A model to compress a codon sequence into its amino acid representation and then run a bidirectional LSTM over this sequence"
   ]
  },
  {
   "cell_type": "code",
   "execution_count": 51,
   "metadata": {
    "colab": {},
    "colab_type": "code",
    "id": "ouCELjHjmxHw"
   },
   "outputs": [],
   "source": [
    "class AA_BILSTM(ntorch.nn.Module):\n",
    "  '''\n",
    "  Compress info for codon sequence at the amino acid level\n",
    "  '''\n",
    "  \n",
    "  def __init__(self, params): \n",
    "    super(AA_BILSTM, self).__init__()\n",
    "    self.codon_to_aa = params[\"CODON_TO_AA\"]\n",
    "    self.embedding_size = params[\"EMBED_DIM\"]\n",
    "    self.hiddenlen = params[\"HIDDEN_LEN\"]\n",
    "    self.num_layers = params[\"NUM_LAYERS\"]\n",
    "    self.lstm_dropout = params[\"LSTM_DROPOUT\"]\n",
    "    self.bidirectional = params[\"BIDIRECTIONAL\"]\n",
    "    self.num_directions = 1\n",
    "    if self.bidirectional:\n",
    "      self.num_directions = 2\n",
    "    \n",
    "    self.aa_embed = (ntorch.nn.Embedding.from_pretrained(self.codon_to_aa)\n",
    "                     .spec(\"seqlen\", \"embedlen\"))\n",
    "    \n",
    "    # don't learn these.. \n",
    "    self.aa_embed.weight.requires_grad_(False)  \n",
    "    \n",
    "    self.LSTM = (ntorch.nn.LSTM(self.embedding_size, self.hiddenlen,\n",
    "                                num_layers=self.num_layers, \n",
    "                                bidirectional=self.bidirectional\n",
    "                               )\n",
    "                .spec(\"embedlen\", \"seqlen\", name_out=\"hiddenlen\")\n",
    "                )\n",
    "    \n",
    "    \n",
    "  def forward(self, seq): \n",
    "    '''\n",
    "    Forward pass\n",
    "    ''' \n",
    "    aa_rep = self.aa_embed(seq)    \n",
    "    h_0 = ntorch.zeros(self.num_layers * self.num_directions, aa_rep.shape[\"batch\"], self.hiddenlen, \n",
    "                        names=(\"layers\", \"batch\", \"hiddenlen\")).to(device)\n",
    "    c_0 = ntorch.zeros(self.num_layers * self.num_directions, aa_rep.shape[\"batch\"], self.hiddenlen, \n",
    "                        names=(\"layers\", \"batch\", \"hiddenlen\")).to(device)\n",
    "    \n",
    "    h_0 = h_0.transpose(\"batch\", \"layers\", \"hiddenlen\")\n",
    "    c_0 = c_0.transpose(\"batch\", \"layers\", \"hiddenlen\")\n",
    "    hidden_states, (h_n, c_n) = self.LSTM(aa_rep, (h_0, c_0))\n",
    "    \n",
    "    return hidden_states\n",
    "    \n",
    "\n",
    "    \n"
   ]
  },
  {
   "cell_type": "markdown",
   "metadata": {
    "colab_type": "text",
    "id": "JtfO85lwm5nO"
   },
   "source": [
    "#### Frequency Based Model\n",
    "A unigram model that only uses a single amino acid to do prediction"
   ]
  },
  {
   "cell_type": "code",
   "execution_count": 52,
   "metadata": {
    "colab": {},
    "colab_type": "code",
    "id": "K-0CQkRjm4ss"
   },
   "outputs": [],
   "source": [
    "class FreqModel(ntorch.nn.Module):\n",
    "  ''' \n",
    "  Simple language model that uses the frequencies of the amino acids for modeling\n",
    "  Magic happens in aa_info model\n",
    "  '''\n",
    "  def __init__(self):\n",
    "    super(FreqModel, self).__init__()\n",
    "\n",
    "  def forward(self, text, aa_info):\n",
    "    ''' \n",
    "      Pass in context for the next amino acid\n",
    "    '''\n",
    "\n",
    "    return aa_info.rename(\"hiddenlen\", \"vocablen\")"
   ]
  },
  {
   "cell_type": "markdown",
   "metadata": {
    "colab_type": "text",
    "id": "i0159i6ynCf-"
   },
   "source": [
    "#### Codon Level Language Model \n",
    "A model that uses the previously predicted (or true) codons in addition to provided information about the amino acid for prediction"
   ]
  },
  {
   "cell_type": "code",
   "execution_count": 53,
   "metadata": {
    "colab": {},
    "colab_type": "code",
    "id": "dHmsrfdLmxB1"
   },
   "outputs": [],
   "source": [
    "class NNLM(ntorch.nn.Module):\n",
    "  ''' \n",
    "  Simple LSTM class.\n",
    "  '''\n",
    "  def __init__(self, params):\n",
    "    super(NNLM, self).__init__()\n",
    "    self.vocab_size = params[\"VOCAB_SIZE\"]\n",
    "    self.embedding_size = params[\"EMBED_DIM\"]\n",
    "    self.hiddenlen = params[\"HIDDEN_LEN\"]\n",
    "    self.num_layers = params[\"NUM_LAYERS\"]\n",
    "    self.linear_dropout = ntorch.nn.Dropout(p=params[\"LINEAR_DROPOUT\"])\n",
    "    self.lstm_dropout = params[\"LSTM_DROPOUT\"]\n",
    "    self.out_vocab = params[\"OUT_VOCAB\"]\n",
    "    self.aa_info_size = params[\"AA_COMPRESS_SIZE\"]\n",
    "    self.teacher_force_prob = params[\"TEACHER_FORCE\"]\n",
    "    if self.embedding_size is not None: \n",
    "      self.embedding = ntorch.nn.Embedding(num_embeddings=params[\"VOCAB_SIZE\"], \n",
    "                                           embedding_dim = self.embedding_size).spec(\"seqlen\", \"embedlen\")\n",
    "    else: \n",
    "      self.embedding = (ntorch.nn.Embedding.\n",
    "                        from_pretrained(torch.eye(len(TEXT.vocab.itos))\n",
    "                                       )\n",
    "                       ).spec(\"seqlen\", \"embedlen\")\n",
    "      \n",
    "      self.embedding.weight.requires_grad_(False)\n",
    "      self.embedding_size = len(TEXT.vocab.itos)\n",
    "    \n",
    "    self.LSTM = (ntorch.nn.LSTM(self.embedding_size, self.hiddenlen, num_layers=self.num_layers)\n",
    "                .spec(\"embedlen\", \"seqlen\", name_out=\"hiddenlen\")\n",
    "                )\n",
    "    self.linear = (ntorch.nn.Linear(self.hiddenlen + self.aa_info_size, \n",
    "                                    self.out_vocab)\n",
    "                   .spec(\"hiddenlen\", \"vocablen\")\n",
    "                  )\n",
    "    \n",
    "  def set_to_eval(self):\n",
    "    self.dropout.eval()\n",
    "  \n",
    "  def set_teacher_force(self, new_prob):\n",
    "    self.teacher_force_prob = new_prob\n",
    "    \n",
    "  def forward(self, text, aa_info):\n",
    "    ''' \n",
    "      Pass in context for the next amino acid\n",
    "    '''\n",
    "    \n",
    "    # Reset for each new batch...\n",
    "    h_0 = ntorch.zeros(text.shape[\"batch\"], self.num_layers, self.hiddenlen, \n",
    "                        names=(\"batch\", \"layers\", \"hiddenlen\")).to(device)\n",
    "    c_0 = ntorch.zeros(text.shape[\"batch\"], self.num_layers, self.hiddenlen, \n",
    "                        names=(\"batch\", \"layers\", \"hiddenlen\")).to(device)\n",
    " \n",
    "    # If we should use all the sequence as input\n",
    "    if self.teacher_force_prob == 1: \n",
    "      text_embedding = self.embedding(text)\n",
    "      hidden_states, (h_n, c_n) = self.LSTM(text_embedding, (h_0, c_0))\n",
    "      output = self.linear_dropout(hidden_states)\n",
    "      output = ntorch.cat([output, aa_info], dim=\"hiddenlen\")\n",
    "      output = self.linear(output)\n",
    "    \n",
    "    # If we should use some combination of teacher forcing\n",
    "    else: \n",
    "      # Use for teacher forcing...\n",
    "      outputs = []\n",
    "      model_input = text[{\"seqlen\" : slice(0, 1)}]\n",
    "      for position in range(text.shape[\"seqlen\"]): \n",
    "        text_embedding = self.embedding(model_input)\n",
    "        hidden_states, (h_n, c_n) = self.LSTM(text_embedding, (h_0, c_0))\n",
    "\n",
    "        output = self.linear_dropout(hidden_states)\n",
    "        aa_info_subset = aa_info[{\"seqlen\" : slice(position, position+1)}]\n",
    "        output = ntorch.cat([output, aa_info_subset], dim=\"hiddenlen\")\n",
    "\n",
    "        output = self.linear(output)\n",
    "        outputs.append(output)\n",
    "\n",
    "        # Define next input... \n",
    "        if random.random() < self.teacher_force_prob: \n",
    "          model_input = text[{\"seqlen\" : slice(position, position+1)}]\n",
    "        else: \n",
    "          # TODO: Should we be masking this output?\n",
    "          model_input = output.argmax(\"vocablen\")\n",
    "          \n",
    "      output = ntorch.cat(outputs, dim=\"seqlen\")\n",
    "    return output"
   ]
  },
  {
   "cell_type": "markdown",
   "metadata": {
    "colab_type": "text",
    "id": "6UDyAMW1nOIa"
   },
   "source": [
    "#### AA_ONLY \n",
    "A model that only uses a bidirectional LSTM over the amino acids in order to do prediction"
   ]
  },
  {
   "cell_type": "code",
   "execution_count": 54,
   "metadata": {
    "colab": {},
    "colab_type": "code",
    "id": "kmba1P1CnNs6"
   },
   "outputs": [],
   "source": [
    "class AA_ONLY(ntorch.nn.Module):\n",
    "  ''' \n",
    "  Simple model to predict the output codons using only the input amino acid\n",
    "  '''\n",
    "  def __init__(self, params):\n",
    "    super(AA_ONLY, self).__init__()\n",
    "    self.out_vocab = params[\"OUT_VOCAB\"]\n",
    "    self.aa_info_size = params[\"AA_COMPRESS_SIZE\"]\n",
    "    self.linear = (ntorch.nn.Linear(self.aa_info_size, \n",
    "                                    self.out_vocab)\n",
    "                   .spec(\"hiddenlen\", \"vocablen\")\n",
    "                  )\n",
    "    \n",
    "  def forward(self, text, aa_info):\n",
    "    ''' \n",
    "      Pass in context for the next amino acid\n",
    "    '''\n",
    "\n",
    "    output = aa_info\n",
    "    output = self.linear(output)\n",
    "    return output"
   ]
  },
  {
   "cell_type": "markdown",
   "metadata": {
    "colab_type": "text",
    "id": "ClG_oqYXmdpI"
   },
   "source": [
    "### Nucleotide Level Models\n",
    "\n",
    "TODO"
   ]
  },
  {
   "cell_type": "code",
   "execution_count": null,
   "metadata": {
    "colab": {},
    "colab_type": "code",
    "id": "sza5q9G2aadG"
   },
   "outputs": [],
   "source": []
  },
  {
   "cell_type": "markdown",
   "metadata": {
    "colab_type": "text",
    "id": "noFpLqcOeN9X"
   },
   "source": [
    "## Train, Acc, PPL"
   ]
  },
  {
   "cell_type": "code",
   "execution_count": 55,
   "metadata": {
    "colab": {},
    "colab_type": "code",
    "id": "x--R1qhVcprx"
   },
   "outputs": [],
   "source": [
    "def train_model(train_iter, model, aa_compress, train_params, \n",
    "                optimizer, optimizer_aa=None):\n",
    "  '''\n",
    "  Train a given model \n",
    "  \n",
    "  TODO: \n",
    "  - Mask all non synonymous codons in test only\n",
    "    For now, we can do this at prediction time.. \n",
    "  - Precompute the text / target in the iterator function \n",
    "  \n",
    "  NOTE: \n",
    "    Optimizer_aa is optional if we want to learn on the compressions.\n",
    "  ''' \n",
    "  \n",
    "  model.train()\n",
    "  if \"TEACHER_FORCE\" in train_params:\n",
    "    model.teacher_force_prob = train_params[\"TEACHER_FORCE\"]\n",
    "\n",
    "  if optimizer_aa is not None:\n",
    "    # Does this accidentally turn on gradients? \n",
    "    aa_compress.train()\n",
    "    \n",
    "  loss_function = ntorch.nn.CrossEntropyLoss().spec(\"vocablen\")\n",
    "  model.to(device)\n",
    "  aa_compress.to(device)\n",
    "  loss_values = []\n",
    "  for epoch in range(train_params[\"num_epochs\"]):\n",
    "    epoch_loss = 0\n",
    "    for i, batch in enumerate(train_iter):\n",
    "      model.zero_grad()\n",
    "      if optimizer_aa: \n",
    "        aa_compress.zero_grad()\n",
    "\n",
    "      \n",
    "      # Select for all non zero tensors\n",
    "      # Use this to find all indices that aren't padding\n",
    "      seq_len = batch.sequence.shape[\"seqlen\"]\n",
    "      text = batch.sequence.narrow(\"seqlen\", 0, seq_len - 1)\n",
    "      target = batch.sequence.narrow(\"seqlen\", 1, seq_len - 1)\n",
    "      \n",
    "      stacked_target = target.stack(dims=(\"batch\", \"seqlen\"), \n",
    "                                          name=\"seqlen\")\n",
    "\n",
    "      mask = (stacked_target != TEXT.vocab.stoi[\"<pad>\"])\n",
    "      prop_indices = (ntorch.nonzero(mask)\n",
    "                      .get(\"inputdims\", 0)\n",
    "                     )\n",
    "      # Forward\n",
    "      predictions = model(text, aa_compress(target)) \n",
    "      \n",
    "      # Stack the predictions into one long vector\n",
    "      predictions = predictions.stack(dims=(\"batch\", \"seqlen\"), name=\"seqlen\")\n",
    "            \n",
    "      # Only find loss on sequences\n",
    "      # TODO: Divide by batch size... \n",
    "      loss = loss_function(predictions.index_select(\"seqlen\", prop_indices),\n",
    "                           stacked_target.index_select(\"seqlen\", prop_indices))\n",
    "      \n",
    "      epoch_loss += loss.item()\n",
    "      \n",
    "      loss.backward()\n",
    "      # gradient clip\n",
    "      torch.nn.utils.clip_grad_norm_(model.parameters(), train_params[\"grad_clip\"])\n",
    "      optimizer.step()\n",
    "      \n",
    "      if optimizer_aa: \n",
    "        torch.nn.utils.clip_grad_norm_(aa_compress.parameters(), train_params[\"grad_clip\"])\n",
    "        optimizer_aa.step()\n",
    "\n",
    "      \n",
    "\n",
    "    print(\"Epoch: {} -- Loss: {}\".format(epoch, epoch_loss))        \n",
    "    loss_values.append(epoch_loss)\n",
    "\n",
    "  if train_params[\"plot_loss\"]: \n",
    "    fig, ax = plt.subplots()\n",
    "    ax.plot([t for t in range(len(loss_values))], loss_values)\n",
    "    ax.set(xlabel='Epochs', ylabel='Loss', title='Loss during Optimization')\n",
    "    plt.show()\n",
    "\n",
    "  return model"
   ]
  },
  {
   "cell_type": "markdown",
   "metadata": {
    "colab_type": "text",
    "id": "dHHHEu5CbHjF"
   },
   "source": [
    "#### Acc"
   ]
  },
  {
   "cell_type": "code",
   "execution_count": 56,
   "metadata": {
    "colab": {},
    "colab_type": "code",
    "id": "1qKd_VyCJhIJ"
   },
   "outputs": [],
   "source": [
    "def accuracy(data_iter, model, aa_compress, teacher_force=0):\n",
    "  '''\n",
    "  Produce accuracy (# correct / total)\n",
    "  TODO: \n",
    "  - Mask all non synonymous codons in train\n",
    "    For now, we can do this at prediction time.. \n",
    "  - Precompute the text / target in the iterator function \n",
    "  ''' \n",
    "  \n",
    "  model.to(device)\n",
    "  model.eval()\n",
    "  model.teacher_force_prob = teacher_force\n",
    "  aa_compress.to(device)\n",
    "  aa_compress.eval()\n",
    "  num_correct = 0 \n",
    "  num_total = 0 \n",
    "  with torch.no_grad():\n",
    "    for i, batch in enumerate(data_iter):\n",
    "      \n",
    "      # Select for all non zero tensors\n",
    "      # Use this to find all indices that aren't padding\n",
    "      seq_len = batch.sequence.shape[\"seqlen\"]\n",
    "      text = batch.sequence.narrow(\"seqlen\", 0, seq_len - 1)\n",
    "      target = batch.sequence.narrow(\"seqlen\", 1, seq_len - 1)\n",
    "      \n",
    "      stacked_target = target.stack(dims=(\"batch\", \"seqlen\"), \n",
    "                                          name=\"seqlen\")\n",
    "      mask = (stacked_target != TEXT.vocab.stoi[\"<pad>\"])\n",
    "      prop_indices = (ntorch.nonzero(mask)\n",
    "                      .get(\"inputdims\", 0)\n",
    "                     ).rename(\"elements\", \"seqlen\")\n",
    "      # Forward\n",
    "      predictions = model(text, aa_compress(target)) \n",
    "      # Mask all outputs that don't work\n",
    "      mask_bad_codons = ntorch.tensor(mask_tbl[target.values], \n",
    "                         names=(\"seqlen\", \"batch\", \"vocablen\")).float()\n",
    "      predictions = (mask_bad_codons.double() + predictions.double())\n",
    "\n",
    "     \n",
    "      # Stack the predictions into one long vector\n",
    "    \n",
    "      predictions = predictions.stack(dims=(\"batch\", \"seqlen\"), name=\"seqlen\")\n",
    "\n",
    "      predictions = predictions.argmax(\"vocablen\").index_select(\"seqlen\", \n",
    "                                                                prop_indices)\n",
    "      stacked_target = stacked_target.index_select(\"seqlen\", prop_indices)\n",
    "            \n",
    "      num_correct += (predictions == stacked_target).sum().item()   \n",
    "      num_total += predictions.shape[\"seqlen\"]\n",
    "      \n",
    "      # For quick results, toggle this\n",
    "#       if i == 20: \n",
    "#         break\n",
    "      \n",
    "#   return num_correct / num_total \n",
    "\n",
    "  return (predictions, stacked_target, num_correct / num_total)"
   ]
  },
  {
   "cell_type": "markdown",
   "metadata": {
    "colab_type": "text",
    "id": "fZqmKvOqbDA3"
   },
   "source": [
    "#### PPL "
   ]
  },
  {
   "cell_type": "code",
   "execution_count": 57,
   "metadata": {
    "colab": {},
    "colab_type": "code",
    "id": "BeX8qB2RYSyY"
   },
   "outputs": [],
   "source": [
    "def PPL(data_iter, model, aa_compress, teacher_force=0):\n",
    "  '''\n",
    "  Produce average ppl of prediction\n",
    "  TODO: \n",
    "  - Mask all non synonymous codons in train\n",
    "    For now, we can do this at prediction time.. \n",
    "  - Precompute the text / target in the iterator function \n",
    "  ''' \n",
    "  \n",
    "  model.to(device)\n",
    "  model.eval()\n",
    "  model.teacher_force_prob = teacher_force\n",
    "  aa_compress.to(device)\n",
    "  aa_compress.eval()\n",
    "  ppl = 0\n",
    "  num_total = 0 \n",
    "  loss_function = ntorch.nn.CrossEntropyLoss(reduction=\"none\").spec(\"vocablen\")\n",
    "  with torch.no_grad():\n",
    "    for i, batch in enumerate(data_iter):\n",
    "      \n",
    "      # Select for all non zero tensors\n",
    "      # Use this to find all indices that aren't padding\n",
    "      seq_len = batch.sequence.shape[\"seqlen\"]\n",
    "      text = batch.sequence.narrow(\"seqlen\", 0, seq_len - 1)\n",
    "      target = batch.sequence.narrow(\"seqlen\", 1, seq_len - 1)\n",
    "      \n",
    "      stacked_target = target.stack(dims=(\"batch\", \"seqlen\"), \n",
    "                                          name=\"seqlen\")\n",
    "      mask = (stacked_target != TEXT.vocab.stoi[\"<pad>\"])\n",
    "      prop_indices = (ntorch.nonzero(mask)\n",
    "                      .get(\"inputdims\", 0)\n",
    "                     ).rename(\"elements\", \"seqlen\")\n",
    "      # Forward\n",
    "      predictions = model(text, aa_compress(target)) \n",
    "      # Mask all outputs that don't work\n",
    "      mask_bad_codons = ntorch.tensor(mask_tbl[target.values], \n",
    "                         names=(\"seqlen\", \"batch\", \"vocablen\")).float()\n",
    "      predictions = (mask_bad_codons.double() + predictions.double())\n",
    "        \n",
    "     \n",
    "      # Stack the predictions into one long vector\n",
    "      predictions = predictions.stack(dims=(\"batch\", \"seqlen\"), name=\"seqlen\")\n",
    "      loss = loss_function(predictions.index_select(\"seqlen\", prop_indices),\n",
    "                     stacked_target.index_select(\"seqlen\", prop_indices))\n",
    "      ppl += loss.exp().sum().item()\n",
    "      num_total += loss.shape[\"seqlen\"]      \n",
    "      # For quick results, toggle this\n",
    "#       if i == 20: \n",
    "#         break\n",
    "\n",
    "  return ppl / num_total "
   ]
  },
  {
   "cell_type": "markdown",
   "metadata": {
    "colab_type": "text",
    "id": "m8-ZoDTVH8Kf"
   },
   "source": [
    "### Error analysis"
   ]
  },
  {
   "cell_type": "code",
   "execution_count": 126,
   "metadata": {},
   "outputs": [
    {
     "data": {
      "text/plain": [
       "defaultdict(<function torchtext.vocab._default_unk_index()>,\n",
       "            {'<unk>': 0,\n",
       "             '<pad>': 1,\n",
       "             'L': 2,\n",
       "             'R': 3,\n",
       "             'S': 4,\n",
       "             'A': 5,\n",
       "             'G': 6,\n",
       "             'P': 7,\n",
       "             'T': 8,\n",
       "             'V': 9,\n",
       "             '*': 10,\n",
       "             'I': 11,\n",
       "             'C': 12,\n",
       "             'D': 13,\n",
       "             'E': 14,\n",
       "             'F': 15,\n",
       "             'H': 16,\n",
       "             'K': 17,\n",
       "             'N': 18,\n",
       "             'Q': 19,\n",
       "             'Y': 20,\n",
       "             'M': 21,\n",
       "             'W': 22})"
      ]
     },
     "execution_count": 126,
     "metadata": {},
     "output_type": "execute_result"
    }
   ],
   "source": [
    "AA_LABEL.vocab.stoi"
   ]
  },
  {
   "cell_type": "code",
   "execution_count": 145,
   "metadata": {
    "colab": {},
    "colab_type": "code",
    "id": "yNaqhFpMH6oM"
   },
   "outputs": [],
   "source": [
    "def output_predictions_and_target(data_iter, model, aa_compress, teacher_force=0):\n",
    "  '''\n",
    "  Outputs matrix for prediction, target, and also the accuracy\n",
    "  ''' \n",
    "  \n",
    "  \n",
    "  model.to(device)\n",
    "  model.eval()\n",
    "  model.teacher_force_prob = teacher_force\n",
    "  aa_compress.to(device)\n",
    "  aa_compress.eval()\n",
    "  num_correct = 0 \n",
    "  num_total = 0 \n",
    "  \n",
    "  prediction_list = []\n",
    "  target_list = []\n",
    "  \n",
    "  with torch.no_grad():\n",
    "    for i, batch in enumerate(data_iter):\n",
    "      \n",
    "      # Select for all non zero tensors\n",
    "      # Use this to find all indices that aren't padding\n",
    "      seq_len = batch.sequence.shape[\"seqlen\"]\n",
    "      text = batch.sequence.narrow(\"seqlen\", 0, seq_len - 1)\n",
    "      target = batch.sequence.narrow(\"seqlen\", 1, seq_len - 1)\n",
    "      \n",
    "      for i in range(target.shape['batch']):\n",
    "            target_list.append(target[{\"batch\": i}])\n",
    "    \n",
    "      stacked_target = target.stack(dims=(\"batch\", \"seqlen\"), \n",
    "                                          name=\"seqlen\")\n",
    "      mask = (stacked_target != TEXT.vocab.stoi[\"<pad>\"])\n",
    "      prop_indices = (ntorch.nonzero(mask)\n",
    "                      .get(\"inputdims\", 0)\n",
    "                     ).rename(\"elements\", \"seqlen\")\n",
    "      # Forward\n",
    "      predictions = model(text, aa_compress(target)) \n",
    "      # Mask all outputs that don't work\n",
    "      mask_bad_codons = ntorch.tensor(mask_tbl[target.values], \n",
    "                         names=(\"seqlen\", \"batch\", \"vocablen\")).float()\n",
    "      predictions = (mask_bad_codons.double() + predictions.double())\n",
    "      \n",
    "      for i in range(predictions.shape['batch']):\n",
    "          prediction = predictions[{\"batch\": i}]\n",
    "#           print (prediction.argmax(\"vocablen\"))\n",
    "          prediction = prediction.argmax(\"vocablen\")\n",
    "          prediction_list.append(prediction.cpu())\n",
    "    \n",
    "    \n",
    "      # Stack the predictions into one long vector\n",
    "      predictions = predictions.stack(dims=(\"batch\", \"seqlen\"), name=\"seqlen\")\n",
    "\n",
    "      predictions = predictions.argmax(\"vocablen\").index_select(\"seqlen\", \n",
    "                                                                prop_indices)\n",
    "      \n",
    "      stacked_target = stacked_target.index_select(\"seqlen\", prop_indices)\n",
    "      \n",
    "            \n",
    "      num_correct += (predictions == stacked_target).sum().item()   \n",
    "      num_total += predictions.shape[\"seqlen\"]\n",
    "\n",
    "  return (prediction_list, target_list, num_correct / num_total)"
   ]
  },
  {
   "cell_type": "code",
   "execution_count": 135,
   "metadata": {},
   "outputs": [
    {
     "name": "stdout",
     "output_type": "stream",
     "text": [
      "Test accuracy:  0.5154762513919245\n"
     ]
    }
   ],
   "source": [
    "test_unigram_predicts, test_target_vals, unigram_test_ac = output_predictions_and_target(test_iter_bucket, model, aa_compress)\n",
    "# train_unigram_predicts, train_target_vals, unigram_train_ac = output_predictions_and_target(test_iter_bucket, model, aa_compress)\n",
    "\n",
    "# unigram_test_ac = accuracy(test_iter_bucket, model, aa_compress)\n",
    "\n",
    "# print(\"Train accuracy: \", unigram_train_ac)\n",
    "print(\"Test accuracy: \", unigram_test_ac)"
   ]
  },
  {
   "cell_type": "code",
   "execution_count": 139,
   "metadata": {},
   "outputs": [
    {
     "data": {
      "text/plain": [
       "1316"
      ]
     },
     "execution_count": 139,
     "metadata": {},
     "output_type": "execute_result"
    }
   ],
   "source": [
    "len(test_unigram_predicts)"
   ]
  },
  {
   "cell_type": "code",
   "execution_count": 59,
   "metadata": {
    "colab": {},
    "colab_type": "code",
    "id": "E6fn1LDOYGXe"
   },
   "outputs": [],
   "source": [
    "def mismatched_indices(predict_list, target_list):\n",
    "  '''\n",
    "  Inputs prediction and true target, outputs mismatch list and mismatch positions\n",
    "  \n",
    "  mismatch list is a NUM_SEQUENCE x LEN_SEQUENCE list of lists, boolean values. 1 if prediction is correct, 0 if incorrect.\n",
    "  (e.g. [0, 1, 1, 0, 0, ...])\n",
    "  \n",
    "  msimatch positions contains positions in which misclassification happened (e.g. [3, 4, 9, 13, 31])\n",
    "  \n",
    "  '''\n",
    "  mismatch_list = []\n",
    "  for i in range(len(predict_list)):\n",
    "    mismatches = predict_list[i] != target_list[i]\n",
    "    mismatch_list.append(np.array(mismatches.values))\n",
    "  \n",
    "  mismatch_positions = []\n",
    "  for i in range(len(mismatch_list)):\n",
    "    positions = [j for j, x in enumerate(mismatch_list[i]) if x == 1]\n",
    "    mismatch_positions.append(positions)\n",
    "    \n",
    "  return (mismatch_list, mismatch_positions)"
   ]
  },
  {
   "cell_type": "code",
   "execution_count": 60,
   "metadata": {
    "colab": {},
    "colab_type": "code",
    "id": "Xai-jkALZLfh"
   },
   "outputs": [],
   "source": [
    "from collections import Counter\n",
    "from itertools import zip_longest\n",
    "\n",
    "def pool_mismatches(mismatch_list, mismatch_indices):\n",
    "  '''\n",
    "  Given mismatch list and mismatch positions, outputs error rate over sequence length\n",
    "  \n",
    "  METHOD: counts error in every position over all the test sequences. Misclassification at each position is counted,\n",
    "  and normalized over how many sequences have a position there. (e.g. all 132 sequences have a nt in position 1, \n",
    "  but only a few would have it at position 9432.)\n",
    "  \n",
    "  \n",
    "  '''\n",
    "  collapsed_array = []\n",
    "  for item in mismatch_indices:\n",
    "    collapsed_array.extend(item)\n",
    "    \n",
    "  \n",
    "  counts = Counter(collapsed_array)\n",
    "  \n",
    "  #normalize the counts\n",
    "  seq_lengths = []\n",
    "  for item in mismatch_list:\n",
    "    seq_lengths.append(len(item))\n",
    "      \n",
    "  normalizing_list = np.array([0] * max(seq_lengths))\n",
    "\n",
    "  for length in seq_lengths:\n",
    "    normalizing_list = [sum(n) for n in zip_longest(normalizing_list, [1]*length, fillvalue=0)]\n",
    "    \n",
    "  for i in range(max(seq_lengths)):\n",
    "    counts[i] = counts[i] / normalizing_list[i]\n",
    "    \n",
    "  normalized_counts = [0]*max(seq_lengths)\n",
    "  \n",
    "  for key in counts:\n",
    "    try:\n",
    "      normalized_counts[key] = counts[key]\n",
    "    except:\n",
    "      print (key)\n",
    "    \n",
    "  return normalized_counts\n",
    "  "
   ]
  },
  {
   "cell_type": "markdown",
   "metadata": {
    "colab_type": "text",
    "id": "8rtOdj3dbEvX"
   },
   "source": [
    "####  Preds"
   ]
  },
  {
   "cell_type": "code",
   "execution_count": 61,
   "metadata": {
    "colab": {},
    "colab_type": "code",
    "id": "3fwtUEnoFQRb"
   },
   "outputs": [],
   "source": [
    "def get_prediction(batch, model, aa_compress): \n",
    "  ''' Predict outputs from sequence'''\n",
    "  model.to(device)\n",
    "  model.eval()\n",
    "  with torch.no_grad():\n",
    "    seq_len = batch.sequence.shape[\"seqlen\"]\n",
    "    text = batch.sequence.narrow(\"seqlen\", 0, seq_len - 1)\n",
    "    target = batch.sequence.narrow(\"seqlen\", 1, seq_len - 1)\n",
    "    # Forward\n",
    "    predictions = model(text, aa_compress(target)) \n",
    "    mask_bad_codons = ntorch.tensor(mask_tbl[target.values], \n",
    "                       names=(\"seqlen\", \"batch\", \"vocablen\")).float()\n",
    "    predictions = (mask_bad_codons + predictions)\n",
    "    predictions = predictions.argmax(\"vocablen\")\n",
    "  return predictions\n",
    "\n"
   ]
  },
  {
   "cell_type": "markdown",
   "metadata": {
    "colab_type": "text",
    "id": "JN8cVZYMxkNw"
   },
   "source": [
    "## Unigram Model"
   ]
  },
  {
   "cell_type": "code",
   "execution_count": 62,
   "metadata": {
    "colab": {},
    "colab_type": "code",
    "id": "h4N3M6r1xwTV"
   },
   "outputs": [],
   "source": [
    "unigram_freq_tbl = make_unigram_conversion(train_iter_bucket)"
   ]
  },
  {
   "cell_type": "code",
   "execution_count": 140,
   "metadata": {
    "colab": {
     "base_uri": "https://localhost:8080/",
     "height": 68
    },
    "colab_type": "code",
    "id": "gTwN6sUwxmpg",
    "outputId": "d2dc7062-2af1-4aee-f937-9a09ccfad74f"
   },
   "outputs": [
    {
     "data": {
      "text/plain": [
       "(FreqModel(), AA_COMPRESS(\n",
       "   (aa_embed): Embedding(67, 67)\n",
       " ))"
      ]
     },
     "execution_count": 140,
     "metadata": {},
     "output_type": "execute_result"
    }
   ],
   "source": [
    "\n",
    "\n",
    "aa_compress_params = {\n",
    "    \"CODON_TO_AA\" : unigram_freq_tbl\n",
    "}\n",
    "\n",
    "\n",
    "model = FreqModel()\n",
    "aa_compress = AA_COMPRESS(aa_compress_params)\n",
    "model.to(device), aa_compress.to(device)"
   ]
  },
  {
   "cell_type": "code",
   "execution_count": 146,
   "metadata": {
    "colab": {
     "base_uri": "https://localhost:8080/",
     "height": 34
    },
    "colab_type": "code",
    "id": "yaBq11QXxmmh",
    "outputId": "5580f670-8a3e-43c1-d12a-373765486aba"
   },
   "outputs": [
    {
     "name": "stdout",
     "output_type": "stream",
     "text": [
      "Test accuracy:  0.5154762513919245\n"
     ]
    }
   ],
   "source": [
    "test_unigram_predicts, test_target_vals, unigram_test_ac = output_predictions_and_target(test_iter_bucket, model, aa_compress)\n",
    "# train_unigram_predicts, train_target_vals, unigram_train_ac = output_predictions_and_target(test_iter_bucket, model, aa_compress)\n",
    "\n",
    "# unigram_test_ac = accuracy(test_iter_bucket, model, aa_compress)\n",
    "\n",
    "# print(\"Train accuracy: \", unigram_train_ac)\n",
    "print(\"Test accuracy: \", unigram_test_ac)"
   ]
  },
  {
   "cell_type": "code",
   "execution_count": 147,
   "metadata": {
    "colab": {
     "base_uri": "https://localhost:8080/",
     "height": 68
    },
    "colab_type": "code",
    "id": "i-5DE_LZXQoF",
    "outputId": "7a587a5b-d6c0-497a-b2a7-0ad5d3a91687"
   },
   "outputs": [
    {
     "data": {
      "text/plain": [
       "1316"
      ]
     },
     "execution_count": 147,
     "metadata": {},
     "output_type": "execute_result"
    }
   ],
   "source": [
    "len(test_target_vals)"
   ]
  },
  {
   "cell_type": "code",
   "execution_count": 148,
   "metadata": {
    "colab": {},
    "colab_type": "code",
    "id": "VUglocblXVT8"
   },
   "outputs": [],
   "source": [
    "out = mismatched_indices(test_unigram_predicts, test_target_vals)\n",
    "mismatch_over_sequence = pool_mismatches(out[0], out[1])"
   ]
  },
  {
   "cell_type": "code",
   "execution_count": 149,
   "metadata": {
    "colab": {},
    "colab_type": "code",
    "id": "eG9Z2Yp92888"
   },
   "outputs": [
    {
     "data": {
      "image/png": "[encoded data removed]",
      "text/plain": [
       "<Figure size 432x288 with 1 Axes>"
      ]
     },
     "metadata": {
      "needs_background": "light"
     },
     "output_type": "display_data"
    }
   ],
   "source": [
    "out = mismatched_indices(test_unigram_predicts, test_target_vals)\n",
    "mismatch_over_sequence = pool_mismatches(out[0], out[1])\n",
    "plt.scatter(range(len(mismatch_over_sequence))[:300], mismatch_over_sequence[:300])\n",
    "plt.show()"
   ]
  },
  {
   "cell_type": "code",
   "execution_count": 0,
   "metadata": {
    "colab": {
     "base_uri": "https://localhost:8080/",
     "height": 50
    },
    "colab_type": "code",
    "id": "nzOavnI1xmi0",
    "outputId": "59c5a368-4f8e-43d9-edad-9f85992fdf92"
   },
   "outputs": [
    {
     "name": "stdout",
     "output_type": "stream",
     "text": [
      "Train PPL:  3.379582556636873\n",
      "Test PPL:  3.395484078717863\n"
     ]
    }
   ],
   "source": [
    "test_ppl, train_ppl = (PPL(test_iter_bucket, model, aa_compress), \n",
    "                     PPL(train_iter_bucket, model, aa_compress))\n",
    "print(\"Train PPL: \", train_ppl)\n",
    "print(\"Test PPL: \", test_ppl)"
   ]
  },
  {
   "cell_type": "code",
   "execution_count": 0,
   "metadata": {
    "colab": {
     "base_uri": "https://localhost:8080/",
     "height": 68
    },
    "colab_type": "code",
    "id": "iu91yG0sxmez",
    "outputId": "72b0a4c2-8bfe-485f-b6b4-594f2f480254"
   },
   "outputs": [
    {
     "data": {
      "text/plain": [
       "NamedTensor(\n",
       "\ttensor([10, 28,  8,  ..., 19,  2, 63]),\n",
       "\t('seqlen',))"
      ]
     },
     "execution_count": 97,
     "metadata": {
      "tags": []
     },
     "output_type": "execute_result"
    }
   ],
   "source": [
    "test_unigram_predicts"
   ]
  },
  {
   "cell_type": "markdown",
   "metadata": {
    "colab_type": "text",
    "id": "yf1SN58HXNEn"
   },
   "source": [
    "## N-gram model"
   ]
  },
  {
   "cell_type": "code",
   "execution_count": 100,
   "metadata": {
    "colab": {},
    "colab_type": "code",
    "id": "BnrnYD05XL-d"
   },
   "outputs": [
    {
     "ename": "AssertionError",
     "evalue": "",
     "output_type": "error",
     "traceback": [
      "\u001b[0;31m---------------------------------------------------------------------------\u001b[0m",
      "\u001b[0;31mAssertionError\u001b[0m                            Traceback (most recent call last)",
      "\u001b[0;32m<ipython-input-100-057c353232c4>\u001b[0m in \u001b[0;36m<module>\u001b[0;34m\u001b[0m\n\u001b[1;32m      1\u001b[0m \u001b[0;31m# n_grams are indices in amino acid space, targets are indices in codon space\u001b[0m\u001b[0;34m\u001b[0m\u001b[0;34m\u001b[0m\u001b[0;34m\u001b[0m\u001b[0m\n\u001b[0;32m----> 2\u001b[0;31m \u001b[0mn_grams\u001b[0m\u001b[0;34m,\u001b[0m \u001b[0mtargets\u001b[0m \u001b[0;34m=\u001b[0m \u001b[0mmake_n_gram\u001b[0m\u001b[0;34m(\u001b[0m\u001b[0mtrain_iter_bucket\u001b[0m\u001b[0;34m,\u001b[0m \u001b[0;36m0\u001b[0m\u001b[0;34m,\u001b[0m \u001b[0mcodon_to_aa_index\u001b[0m\u001b[0;34m)\u001b[0m\u001b[0;34m\u001b[0m\u001b[0;34m\u001b[0m\u001b[0m\n\u001b[0m\u001b[1;32m      3\u001b[0m \u001b[0mzero_dict\u001b[0m \u001b[0;34m=\u001b[0m \u001b[0mbuild_dictionary\u001b[0m\u001b[0;34m(\u001b[0m\u001b[0mn_grams\u001b[0m\u001b[0;34m,\u001b[0m \u001b[0mtargets\u001b[0m\u001b[0;34m)\u001b[0m\u001b[0;34m\u001b[0m\u001b[0;34m\u001b[0m\u001b[0m\n\u001b[1;32m      4\u001b[0m \u001b[0;34m\u001b[0m\u001b[0m\n\u001b[1;32m      5\u001b[0m \u001b[0mn_grams\u001b[0m\u001b[0;34m,\u001b[0m \u001b[0mtargets\u001b[0m \u001b[0;34m=\u001b[0m \u001b[0mmake_n_gram\u001b[0m\u001b[0;34m(\u001b[0m\u001b[0mtrain_iter_bucket\u001b[0m\u001b[0;34m,\u001b[0m \u001b[0;36m1\u001b[0m\u001b[0;34m,\u001b[0m \u001b[0mcodon_to_aa_index\u001b[0m\u001b[0;34m)\u001b[0m\u001b[0;34m\u001b[0m\u001b[0;34m\u001b[0m\u001b[0m\n",
      "\u001b[0;32m<ipython-input-22-edf90ba7652b>\u001b[0m in \u001b[0;36mmake_n_gram\u001b[0;34m(train_iter, n, amino_acid_conversion)\u001b[0m\n\u001b[1;32m     23\u001b[0m \u001b[0;34m\u001b[0m\u001b[0m\n\u001b[1;32m     24\u001b[0m       seq = ntorch.cat([additional_padding, batch.sequence, additional_padding],\n\u001b[0;32m---> 25\u001b[0;31m                       dim=\"seqlen\")\n\u001b[0m\u001b[1;32m     26\u001b[0m \u001b[0;34m\u001b[0m\u001b[0m\n\u001b[1;32m     27\u001b[0m       \u001b[0;31m# Now one hots..\u001b[0m\u001b[0;34m\u001b[0m\u001b[0;34m\u001b[0m\u001b[0;34m\u001b[0m\u001b[0m\n",
      "\u001b[0;32m//anaconda/envs/ML_env/lib/python3.6/site-packages/namedtensor/torch_base.py\u001b[0m in \u001b[0;36mcat\u001b[0;34m(tensors, dim)\u001b[0m\n\u001b[1;32m     74\u001b[0m         \u001b[0mdim\u001b[0m \u001b[0;34m=\u001b[0m \u001b[0mtensors\u001b[0m\u001b[0;34m[\u001b[0m\u001b[0;36m0\u001b[0m\u001b[0;34m]\u001b[0m\u001b[0;34m.\u001b[0m\u001b[0m_schema\u001b[0m\u001b[0;34m.\u001b[0m\u001b[0mget\u001b[0m\u001b[0;34m(\u001b[0m\u001b[0mdim\u001b[0m\u001b[0;34m)\u001b[0m\u001b[0;34m\u001b[0m\u001b[0;34m\u001b[0m\u001b[0m\n\u001b[1;32m     75\u001b[0m         \u001b[0;32mfor\u001b[0m \u001b[0mt\u001b[0m \u001b[0;32min\u001b[0m \u001b[0mtensors\u001b[0m\u001b[0;34m[\u001b[0m\u001b[0;36m1\u001b[0m\u001b[0;34m:\u001b[0m\u001b[0;34m]\u001b[0m\u001b[0;34m:\u001b[0m\u001b[0;34m\u001b[0m\u001b[0;34m\u001b[0m\u001b[0m\n\u001b[0;32m---> 76\u001b[0;31m             \u001b[0;32massert\u001b[0m \u001b[0mt\u001b[0m\u001b[0;34m.\u001b[0m\u001b[0m_schema\u001b[0m\u001b[0;34m.\u001b[0m\u001b[0m_names\u001b[0m \u001b[0;34m==\u001b[0m \u001b[0mtensors\u001b[0m\u001b[0;34m[\u001b[0m\u001b[0;36m0\u001b[0m\u001b[0;34m]\u001b[0m\u001b[0;34m.\u001b[0m\u001b[0m_schema\u001b[0m\u001b[0;34m.\u001b[0m\u001b[0m_names\u001b[0m\u001b[0;34m\u001b[0m\u001b[0;34m\u001b[0m\u001b[0m\n\u001b[0m\u001b[1;32m     77\u001b[0m         \u001b[0;32mreturn\u001b[0m \u001b[0mtensors\u001b[0m\u001b[0;34m[\u001b[0m\u001b[0;36m0\u001b[0m\u001b[0;34m]\u001b[0m\u001b[0;34m.\u001b[0m\u001b[0m_new\u001b[0m\u001b[0;34m(\u001b[0m\u001b[0mtorch\u001b[0m\u001b[0;34m.\u001b[0m\u001b[0mcat\u001b[0m\u001b[0;34m(\u001b[0m\u001b[0;34m[\u001b[0m\u001b[0mt\u001b[0m\u001b[0;34m.\u001b[0m\u001b[0mvalues\u001b[0m \u001b[0;32mfor\u001b[0m \u001b[0mt\u001b[0m \u001b[0;32min\u001b[0m \u001b[0mtensors\u001b[0m\u001b[0;34m]\u001b[0m\u001b[0;34m,\u001b[0m \u001b[0mdim\u001b[0m\u001b[0;34m=\u001b[0m\u001b[0mdim\u001b[0m\u001b[0;34m)\u001b[0m\u001b[0;34m)\u001b[0m\u001b[0;34m\u001b[0m\u001b[0;34m\u001b[0m\u001b[0m\n\u001b[1;32m     78\u001b[0m \u001b[0;34m\u001b[0m\u001b[0m\n",
      "\u001b[0;31mAssertionError\u001b[0m: "
     ]
    }
   ],
   "source": [
    "# n_grams are indices in amino acid space, targets are indices in codon space\n",
    "n_grams, targets = make_n_gram(train_iter_bucket, 0, codon_to_aa_index)\n",
    "zero_dict = build_dictionary(n_grams, targets)\n",
    "\n",
    "n_grams, targets = make_n_gram(train_iter_bucket, 1, codon_to_aa_index)\n",
    "one_dict = build_dictionary(n_grams, targets)\n",
    "\n",
    "n_grams, targets = make_n_gram(train_iter_bucket, 2, codon_to_aa_index)\n",
    "two_dict = build_dictionary(n_grams, targets)"
   ]
  },
  {
   "cell_type": "code",
   "execution_count": 0,
   "metadata": {
    "colab": {
     "base_uri": "https://localhost:8080/",
     "height": 33
    },
    "colab_type": "code",
    "id": "lfrDwN2yXhuU",
    "outputId": "d3e971ab-3129-4fa8-8d8f-2aa83e155662"
   },
   "outputs": [
    {
     "data": {
      "text/plain": [
       "(FreqModel(), AA_NGRAM())"
      ]
     },
     "execution_count": 165,
     "metadata": {
      "tags": []
     },
     "output_type": "execute_result"
    }
   ],
   "source": [
    "aa_params = {\n",
    "    # convert each index to the aa index\n",
    "    \"CODON_TO_AA\" : codon_to_aa_index,\n",
    "    \"N_GRAM_DICTS\" : [zero_dict, one_dict],\n",
    "    \"N_LIST\" : [0, 1],\n",
    "    \"WEIGHT_LIST\" : [0.5, 0.5],\n",
    "    \"OUT_VOCAB\" : len(TEXT.vocab.stoi)   \n",
    "}\n",
    "\n",
    "\n",
    "\n",
    "\n",
    "model = FreqModel()\n",
    "aa_compress = AA_NGRAM(aa_params)\n",
    "model.to(device), aa_compress.to(device)"
   ]
  },
  {
   "cell_type": "code",
   "execution_count": 0,
   "metadata": {
    "colab": {
     "base_uri": "https://localhost:8080/",
     "height": 50
    },
    "colab_type": "code",
    "id": "b8w3cVLIXhnR",
    "outputId": "0e2d6fd9-c8d1-4f3f-9ee4-e7e2d0491422"
   },
   "outputs": [
    {
     "name": "stdout",
     "output_type": "stream",
     "text": [
      "Train accuracy:  0.5508248362762165\n",
      "Test accuracy:  0.48140406958873794\n"
     ]
    }
   ],
   "source": [
    "# train ac should be higher.. something probably wrong.\n",
    "test_ac, train_ac = (accuracy(test_iter_bucket, model, aa_compress),\n",
    "                     accuracy(train_iter_bucket, model, aa_compress))\n",
    "print(\"Train accuracy: \", train_ac)\n",
    "print(\"Test accuracy: \", test_ac)"
   ]
  },
  {
   "cell_type": "code",
   "execution_count": 0,
   "metadata": {
    "colab": {
     "base_uri": "https://localhost:8080/",
     "height": 33
    },
    "colab_type": "code",
    "id": "I5buwbyHUZmw",
    "outputId": "61b34400-09c6-4354-8f21-e0cfa4588e04"
   },
   "outputs": [
    {
     "data": {
      "text/plain": [
       "(FreqModel(), AA_NGRAM())"
      ]
     },
     "execution_count": 171,
     "metadata": {
      "tags": []
     },
     "output_type": "execute_result"
    }
   ],
   "source": [
    "aa_params = {\n",
    "    # convert each index to the aa index\n",
    "    \"CODON_TO_AA\" : codon_to_aa_index,\n",
    "    \"N_GRAM_DICTS\" : [two_dict],# [zero_dict, one_dict],\n",
    "    \"N_LIST\" : [2],\n",
    "    \"WEIGHT_LIST\" : [1],\n",
    "    \"OUT_VOCAB\" : len(TEXT.vocab.stoi)   \n",
    "}\n",
    "\n",
    "\n",
    "\n",
    "\n",
    "model = FreqModel()\n",
    "aa_compress = AA_NGRAM(aa_params)\n",
    "model.to(device), aa_compress.to(device)"
   ]
  },
  {
   "cell_type": "code",
   "execution_count": 0,
   "metadata": {
    "colab": {},
    "colab_type": "code",
    "id": "kw_D5fYBUZgU"
   },
   "outputs": [],
   "source": [
    "# train ac should be higher.. something probably wrong.\n",
    "test_ac, train_ac = (accuracy(test_iter_bucket, model, aa_compress),\n",
    "                     accuracy(train_iter_bucket, model, aa_compress))\n",
    "print(\"Train accuracy: \", train_ac)\n",
    "print(\"Test accuracy: \", test_ac)"
   ]
  },
  {
   "cell_type": "markdown",
   "metadata": {
    "colab_type": "text",
    "id": "umHh-qplxi6N"
   },
   "source": [
    "## Language Model "
   ]
  },
  {
   "cell_type": "code",
   "execution_count": 0,
   "metadata": {
    "colab": {},
    "colab_type": "code",
    "id": "w511Nsl6xiZw"
   },
   "outputs": [],
   "source": []
  },
  {
   "cell_type": "code",
   "execution_count": 0,
   "metadata": {
    "colab": {
     "base_uri": "https://localhost:8080/",
     "height": 153
    },
    "colab_type": "code",
    "id": "4FP9Yq5ic7HV",
    "outputId": "2f4119be-e1a3-437c-f974-502ed8aaf653"
   },
   "outputs": [
    {
     "data": {
      "text/plain": [
       "(NNLM(\n",
       "   (linear_dropout): Dropout(p=0.2)\n",
       "   (embedding): Embedding(67, 67)\n",
       "   (LSTM): LSTM(67, 200, num_layers=3, batch_first=True)\n",
       "   (linear): Linear(in_features=223, out_features=67, bias=True)\n",
       " ), AA_COMPRESS(\n",
       "   (aa_embed): Embedding(67, 23)\n",
       " ))"
      ]
     },
     "execution_count": 132,
     "metadata": {
      "tags": []
     },
     "output_type": "execute_result"
    }
   ],
   "source": [
    "model_params = {\n",
    "    \"VOCAB_SIZE\" : len(TEXT.vocab),\n",
    "    \"EMBED_DIM\" : None, #50,\n",
    "    \"OUT_VOCAB\": len(TEXT.vocab),\n",
    "    \"HIDDEN_LEN\" : 200,\n",
    "    \"NUM_LAYERS\" : 3,\n",
    "    \"LINEAR_DROPOUT\" : 0.2,\n",
    "    \"LSTM_DROPOUT\" : 0.2,    \n",
    "    \"AA_COMPRESS_SIZE\" : index_table.shape[1],\n",
    "    \"TEACHER_FORCE\" : 1\n",
    "}\n",
    "\n",
    "aa_compress_params = {\n",
    "    \"CODON_TO_AA\" : index_table\n",
    "}\n",
    "\n",
    "\n",
    "train_params = {\n",
    "    \"num_epochs\":30, \n",
    "    \"lr\":1e-3,  \n",
    "    \"weight_decay\":1e-6,\n",
    "    \"device\":device, \n",
    "    \"grad_clip\": 10, \n",
    "    \"plot_loss\" : True,\n",
    "    \"TEACHER_FORCE\" : 1\n",
    "}\n",
    "\n",
    "\n",
    "model = NNLM(model_params)\n",
    "aa_compress = AA_COMPRESS(aa_compress_params)\n",
    "model.to(device), aa_compress.to(device)\n"
   ]
  },
  {
   "cell_type": "code",
   "execution_count": 0,
   "metadata": {
    "colab": {
     "base_uri": "https://localhost:8080/",
     "height": 907
    },
    "colab_type": "code",
    "id": "D9PqYDIoem7K",
    "outputId": "15fe8904-2337-4764-f839-0606d5f1ed8a"
   },
   "outputs": [
    {
     "name": "stdout",
     "output_type": "stream",
     "text": [
      "Epoch: 0 -- Loss: 1131.959959745407\n",
      "Epoch: 1 -- Loss: 956.8145925998688\n",
      "Epoch: 2 -- Loss: 804.2731750011444\n",
      "Epoch: 3 -- Loss: 680.7200589179993\n",
      "Epoch: 4 -- Loss: 581.9270281791687\n",
      "Epoch: 5 -- Loss: 507.74945878982544\n",
      "Epoch: 6 -- Loss: 454.8769830465317\n",
      "Epoch: 7 -- Loss: 417.3328025341034\n",
      "Epoch: 8 -- Loss: 389.7979357242584\n",
      "Epoch: 9 -- Loss: 370.1917984485626\n",
      "Epoch: 10 -- Loss: 355.9717655181885\n",
      "Epoch: 11 -- Loss: 344.83047610521317\n",
      "Epoch: 12 -- Loss: 336.1347362399101\n",
      "Epoch: 13 -- Loss: 329.4694827198982\n",
      "Epoch: 14 -- Loss: 323.8495211005211\n",
      "Epoch: 15 -- Loss: 319.3141167163849\n",
      "Epoch: 16 -- Loss: 315.29802906513214\n",
      "Epoch: 17 -- Loss: 311.65382105112076\n",
      "Epoch: 18 -- Loss: 307.7892631292343\n",
      "Epoch: 19 -- Loss: 304.555812060833\n",
      "Epoch: 20 -- Loss: 301.6094952225685\n",
      "Epoch: 21 -- Loss: 297.9011378288269\n",
      "Epoch: 22 -- Loss: 294.08951783180237\n",
      "Epoch: 23 -- Loss: 290.21923410892487\n",
      "Epoch: 24 -- Loss: 287.0164201259613\n",
      "Epoch: 25 -- Loss: 283.3129064440727\n",
      "Epoch: 26 -- Loss: 279.5372940301895\n",
      "Epoch: 27 -- Loss: 275.4896043539047\n",
      "Epoch: 28 -- Loss: 272.1893350481987\n",
      "Epoch: 29 -- Loss: 268.1464375257492\n"
     ]
    },
    {
     "data": {
      "image/png": "[encoded data removed]",
      "text/plain": [
       "<Figure size 432x288 with 1 Axes>"
      ]
     },
     "metadata": {
      "tags": []
     },
     "output_type": "display_data"
    },
    {
     "data": {
      "text/plain": [
       "NNLM(\n",
       "  (linear_dropout): Dropout(p=0.2)\n",
       "  (embedding): Embedding(67, 67)\n",
       "  (LSTM): LSTM(67, 200, num_layers=3, batch_first=True)\n",
       "  (linear): Linear(in_features=223, out_features=67, bias=True)\n",
       ")"
      ]
     },
     "execution_count": 133,
     "metadata": {
      "tags": []
     },
     "output_type": "execute_result"
    }
   ],
   "source": [
    "optimizer = torch.optim.Adam(model.parameters(), lr=train_params[\"lr\"], weight_decay=train_params[\"weight_decay\"])\n",
    "train_model(train_iter_bucket, model, aa_compress, train_params, optimizer)"
   ]
  },
  {
   "cell_type": "code",
   "execution_count": 0,
   "metadata": {
    "colab": {
     "base_uri": "https://localhost:8080/",
     "height": 187
    },
    "colab_type": "code",
    "id": "8LazIWmRgSaw",
    "outputId": "007f674c-4f9b-40f0-d301-878dec4168fe"
   },
   "outputs": [
    {
     "name": "stdout",
     "output_type": "stream",
     "text": [
      "Train accuracy:  (NamedTensor(\n",
      "\ttensor([10,  3, 36,  ...,  3, 57, 63], device='cuda:0'),\n",
      "\t('seqlen',)), NamedTensor(\n",
      "\ttensor([10,  3, 43,  ..., 24, 54, 65], device='cuda:0'),\n",
      "\t('seqlen',)), 0.4573393145671263)\n",
      "Test accuracy:  (NamedTensor(\n",
      "\ttensor([10,  7, 16,  ..., 18, 15, 63], device='cuda:0'),\n",
      "\t('seqlen',)), NamedTensor(\n",
      "\ttensor([10,  7, 44,  ..., 62, 15, 63], device='cuda:0'),\n",
      "\t('seqlen',)), 0.45734250204643406)\n"
     ]
    }
   ],
   "source": [
    "test_ac, train_ac = (accuracy(test_iter_bucket, model, aa_compress, teacher_force=0), \n",
    "                     accuracy(train_iter_bucket, model, aa_compress, teacher_force=0))\n",
    "print(\"Train accuracy: \", train_ac)\n",
    "print(\"Test accuracy: \", test_ac)"
   ]
  },
  {
   "cell_type": "code",
   "execution_count": 0,
   "metadata": {
    "colab": {},
    "colab_type": "code",
    "id": "C9fSqJ8Sa6qf"
   },
   "outputs": [],
   "source": [
    "test_ppl, train_ppl = (PPL(test_iter_bucket, model, aa_compress, teacher_force=0), \n",
    "                     PPL(train_iter_bucket, model, aa_compress, teacher_force=0))\n",
    "print(\"Train PPL: \", train_ppl)\n",
    "print(\"Test PPL: \", test_ppl)"
   ]
  },
  {
   "cell_type": "code",
   "execution_count": 0,
   "metadata": {
    "colab": {
     "base_uri": "https://localhost:8080/",
     "height": 130
    },
    "colab_type": "code",
    "id": "KKbLsivZKEj9",
    "outputId": "213aaaed-4e27-49fc-a61a-6a02ef1e77dd"
   },
   "outputs": [
    {
     "ename": "SyntaxError",
     "evalue": "ignored",
     "output_type": "error",
     "traceback": [
      "\u001b[0;36m  File \u001b[0;32m\"<ipython-input-135-746554c4f2e2>\"\u001b[0;36m, line \u001b[0;32m1\u001b[0m\n\u001b[0;31m    test_ac = (accuracy(test_iter_bucket, model, aa_compress, teacher_force=0)\u001b[0m\n\u001b[0m                                                                              ^\u001b[0m\n\u001b[0;31mSyntaxError\u001b[0m\u001b[0;31m:\u001b[0m unexpected EOF while parsing\n"
     ]
    }
   ],
   "source": [
    "test_ac = (accuracy(test_iter_bucket, model, aa_compress, teacher_force=0)\n"
   ]
  },
  {
   "cell_type": "code",
   "execution_count": 0,
   "metadata": {
    "colab": {},
    "colab_type": "code",
    "id": "yxQUBDakKHqY"
   },
   "outputs": [],
   "source": []
  },
  {
   "cell_type": "markdown",
   "metadata": {
    "colab_type": "text",
    "id": "r0qiLM8P-FZ6"
   },
   "source": [
    "## BiLSTM AA Level Only\n",
    "\n",
    "Use only the Amino acids, not the true or predicted codons"
   ]
  },
  {
   "cell_type": "code",
   "execution_count": 0,
   "metadata": {
    "colab": {},
    "colab_type": "code",
    "id": "rU5U5zDk-JlU"
   },
   "outputs": [],
   "source": [
    "\n",
    "aa_compress_params = {\n",
    "    \"CODON_TO_AA\" : index_table,\n",
    "    \"EMBED_DIM\" : index_table.shape[1],\n",
    "    \"HIDDEN_LEN\" : 50, \n",
    "    \"NUM_LAYERS\" : 3, \n",
    "    \"LSTM_DROPOUT\" : 0.1,\n",
    "    \"BIDIRECTIONAL\" : True\n",
    "    \n",
    "}\n",
    "\n",
    "\n",
    "model_params = {\n",
    "    \"OUT_VOCAB\": len(TEXT.vocab),\n",
    "    \"AA_COMPRESS_SIZE\" : (aa_compress_params[\"HIDDEN_LEN\"] * \n",
    "                          (2 if aa_compress_params[\"BIDIRECTIONAL\"] else 1))\n",
    "    \n",
    "}\n",
    "\n",
    "\n",
    "train_params = {\n",
    "    \"num_epochs\":20, \n",
    "    \"lr\":1e-3,  \n",
    "    \"weight_decay\":1e-6,\n",
    "    \"device\":device, \n",
    "    \"grad_clip\": 10, \n",
    "    \"plot_loss\" : True\n",
    "}\n",
    "\n",
    "\n",
    "\n",
    "\n",
    "model = AA_ONLY(model_params)\n",
    "aa_compress = AA_BILSTM(aa_compress_params)\n",
    "model.to(device), aa_compress.to(device)\n"
   ]
  },
  {
   "cell_type": "code",
   "execution_count": 0,
   "metadata": {
    "colab": {},
    "colab_type": "code",
    "id": "9F_dTGAq-lG4"
   },
   "outputs": [],
   "source": [
    "\n",
    "optimizer = torch.optim.Adam(model.parameters(), lr=train_params[\"lr\"],\n",
    "                             weight_decay=train_params[\"weight_decay\"])\n",
    "optimizer_aa = torch.optim.Adam(aa_compress.parameters(), \n",
    "                                lr=train_params[\"lr\"], \n",
    "                                weight_decay=train_params[\"weight_decay\"])\n",
    "\n",
    "\n",
    "train_model(train_iter_bucket, model, aa_compress, train_params,\n",
    "            optimizer, optimizer_aa)"
   ]
  },
  {
   "cell_type": "code",
   "execution_count": 0,
   "metadata": {
    "colab": {},
    "colab_type": "code",
    "id": "_WRyZhZK-lBy"
   },
   "outputs": [],
   "source": [
    "test_ac, train_ac = (accuracy(test_iter_bucket, model, aa_compress), \n",
    "                     accuracy(train_iter_bucket, model, aa_compress))\n",
    "print(\"Train accuracy: \", train_ac)\n",
    "print(\"Test accuracy: \", test_ac)"
   ]
  },
  {
   "cell_type": "code",
   "execution_count": 0,
   "metadata": {
    "colab": {},
    "colab_type": "code",
    "id": "JZf_-wXI-Jch"
   },
   "outputs": [],
   "source": [
    "test_ppl, train_ppl = (PPL(test_iter_bucket, model, aa_compress), \n",
    "                       PPL(train_iter_bucket, model, aa_compress))\n",
    "print(\"Train PPL: \", train_ppl)\n",
    "print(\"Test PPL: \", test_ppl)"
   ]
  },
  {
   "cell_type": "code",
   "execution_count": 0,
   "metadata": {
    "colab": {},
    "colab_type": "code",
    "id": "WLFSDti8_E3J"
   },
   "outputs": [],
   "source": [
    "print (AA_BILSTM)"
   ]
  },
  {
   "cell_type": "markdown",
   "metadata": {
    "colab_type": "text",
    "id": "dD9FDxHXO0Kg"
   },
   "source": [
    "## RNN + BiLSTM "
   ]
  },
  {
   "cell_type": "code",
   "execution_count": 150,
   "metadata": {
    "colab": {
     "base_uri": "https://localhost:8080/",
     "height": 170
    },
    "colab_type": "code",
    "id": "g04As1G7O2k-",
    "outputId": "785354cd-7d5d-4d19-8b75-0b8300b56f1f"
   },
   "outputs": [
    {
     "data": {
      "text/plain": [
       "(NNLM(\n",
       "   (linear_dropout): Dropout(p=0.2)\n",
       "   (embedding): Embedding(67, 67)\n",
       "   (LSTM): LSTM(67, 100, num_layers=2, batch_first=True)\n",
       "   (linear): Linear(in_features=200, out_features=67, bias=True)\n",
       " ), AA_BILSTM(\n",
       "   (aa_embed): Embedding(67, 23)\n",
       "   (LSTM): LSTM(23, 50, num_layers=3, batch_first=True, bidirectional=True)\n",
       " ))"
      ]
     },
     "execution_count": 150,
     "metadata": {},
     "output_type": "execute_result"
    }
   ],
   "source": [
    "\n",
    "aa_compress_params = {\n",
    "    \"CODON_TO_AA\" : index_table,\n",
    "    \"EMBED_DIM\" : index_table.shape[1],\n",
    "    \"HIDDEN_LEN\" : 50, \n",
    "    \"NUM_LAYERS\" : 3, \n",
    "    \"LSTM_DROPOUT\" : 0.1,\n",
    "    \"BIDIRECTIONAL\" : True\n",
    "    \n",
    "}\n",
    "\n",
    "\n",
    "model_params = {\n",
    "    \"VOCAB_SIZE\" : len(TEXT.vocab),\n",
    "    \"EMBED_DIM\" : None, #50,\n",
    "    \"OUT_VOCAB\": len(TEXT.vocab),\n",
    "    \"HIDDEN_LEN\" : 100,\n",
    "    \"NUM_LAYERS\" : 2,\n",
    "    \"LINEAR_DROPOUT\" : 0.2,\n",
    "    \"LSTM_DROPOUT\" : 0.2,    \n",
    "    \"AA_COMPRESS_SIZE\" : (aa_compress_params[\"HIDDEN_LEN\"] * \n",
    "                          (2 if aa_compress_params[\"BIDIRECTIONAL\"] else 1)),\n",
    "    \"TEACHER_FORCE\" : 1\n",
    "    \n",
    "}\n",
    "\n",
    "\n",
    "train_params = {\n",
    "    \"num_epochs\":30, \n",
    "    \"lr\":1e-3,  \n",
    "    \"weight_decay\":1e-6,\n",
    "    \"device\":device, \n",
    "    \"grad_clip\": 20, \n",
    "    \"plot_loss\" : True,\n",
    "    \"teacher_force\" : 1\n",
    "}\n",
    "\n",
    "\n",
    "\n",
    "\n",
    "model = NNLM(model_params)\n",
    "aa_compress = AA_BILSTM(aa_compress_params)\n",
    "model.to(device), aa_compress.to(device)\n"
   ]
  },
  {
   "cell_type": "code",
   "execution_count": 151,
   "metadata": {
    "colab": {
     "base_uri": "https://localhost:8080/",
     "height": 565
    },
    "colab_type": "code",
    "id": "7nwzRfSVO2Sl",
    "outputId": "d7381190-ffcc-4da0-b135-53a8fbec52ce"
   },
   "outputs": [
    {
     "ename": "KeyboardInterrupt",
     "evalue": "",
     "output_type": "error",
     "traceback": [
      "\u001b[0;31m---------------------------------------------------------------------------\u001b[0m",
      "\u001b[0;31mKeyboardInterrupt\u001b[0m                         Traceback (most recent call last)",
      "\u001b[0;32m<ipython-input-151-e9d6be3d7375>\u001b[0m in \u001b[0;36m<module>\u001b[0;34m\u001b[0m\n\u001b[1;32m      6\u001b[0m \u001b[0;34m\u001b[0m\u001b[0m\n\u001b[1;32m      7\u001b[0m train_model(train_iter_bucket, model, aa_compress, train_params,\n\u001b[0;32m----> 8\u001b[0;31m             optimizer, optimizer_aa)\n\u001b[0m",
      "\u001b[0;32m<ipython-input-55-fd58cdcdd8db>\u001b[0m in \u001b[0;36mtrain_model\u001b[0;34m(train_iter, model, aa_compress, train_params, optimizer, optimizer_aa)\u001b[0m\n\u001b[1;32m     59\u001b[0m       \u001b[0mepoch_loss\u001b[0m \u001b[0;34m+=\u001b[0m \u001b[0mloss\u001b[0m\u001b[0;34m.\u001b[0m\u001b[0mitem\u001b[0m\u001b[0;34m(\u001b[0m\u001b[0;34m)\u001b[0m\u001b[0;34m\u001b[0m\u001b[0;34m\u001b[0m\u001b[0m\n\u001b[1;32m     60\u001b[0m \u001b[0;34m\u001b[0m\u001b[0m\n\u001b[0;32m---> 61\u001b[0;31m       \u001b[0mloss\u001b[0m\u001b[0;34m.\u001b[0m\u001b[0mbackward\u001b[0m\u001b[0;34m(\u001b[0m\u001b[0;34m)\u001b[0m\u001b[0;34m\u001b[0m\u001b[0;34m\u001b[0m\u001b[0m\n\u001b[0m\u001b[1;32m     62\u001b[0m       \u001b[0;31m# gradient clip\u001b[0m\u001b[0;34m\u001b[0m\u001b[0;34m\u001b[0m\u001b[0;34m\u001b[0m\u001b[0m\n\u001b[1;32m     63\u001b[0m       \u001b[0mtorch\u001b[0m\u001b[0;34m.\u001b[0m\u001b[0mnn\u001b[0m\u001b[0;34m.\u001b[0m\u001b[0mutils\u001b[0m\u001b[0;34m.\u001b[0m\u001b[0mclip_grad_norm_\u001b[0m\u001b[0;34m(\u001b[0m\u001b[0mmodel\u001b[0m\u001b[0;34m.\u001b[0m\u001b[0mparameters\u001b[0m\u001b[0;34m(\u001b[0m\u001b[0;34m)\u001b[0m\u001b[0;34m,\u001b[0m \u001b[0mtrain_params\u001b[0m\u001b[0;34m[\u001b[0m\u001b[0;34m\"grad_clip\"\u001b[0m\u001b[0;34m]\u001b[0m\u001b[0;34m)\u001b[0m\u001b[0;34m\u001b[0m\u001b[0;34m\u001b[0m\u001b[0m\n",
      "\u001b[0;32m//anaconda/envs/ML_env/lib/python3.6/site-packages/torch/tensor.py\u001b[0m in \u001b[0;36mbackward\u001b[0;34m(self, gradient, retain_graph, create_graph)\u001b[0m\n\u001b[1;32m    100\u001b[0m                 \u001b[0mproducts\u001b[0m\u001b[0;34m.\u001b[0m \u001b[0mDefaults\u001b[0m \u001b[0mto\u001b[0m\u001b[0;31m \u001b[0m\u001b[0;31m`\u001b[0m\u001b[0;31m`\u001b[0m\u001b[0;32mFalse\u001b[0m\u001b[0;31m`\u001b[0m\u001b[0;31m`\u001b[0m\u001b[0;34m.\u001b[0m\u001b[0;34m\u001b[0m\u001b[0;34m\u001b[0m\u001b[0m\n\u001b[1;32m    101\u001b[0m         \"\"\"\n\u001b[0;32m--> 102\u001b[0;31m         \u001b[0mtorch\u001b[0m\u001b[0;34m.\u001b[0m\u001b[0mautograd\u001b[0m\u001b[0;34m.\u001b[0m\u001b[0mbackward\u001b[0m\u001b[0;34m(\u001b[0m\u001b[0mself\u001b[0m\u001b[0;34m,\u001b[0m \u001b[0mgradient\u001b[0m\u001b[0;34m,\u001b[0m \u001b[0mretain_graph\u001b[0m\u001b[0;34m,\u001b[0m \u001b[0mcreate_graph\u001b[0m\u001b[0;34m)\u001b[0m\u001b[0;34m\u001b[0m\u001b[0;34m\u001b[0m\u001b[0m\n\u001b[0m\u001b[1;32m    103\u001b[0m \u001b[0;34m\u001b[0m\u001b[0m\n\u001b[1;32m    104\u001b[0m     \u001b[0;32mdef\u001b[0m \u001b[0mregister_hook\u001b[0m\u001b[0;34m(\u001b[0m\u001b[0mself\u001b[0m\u001b[0;34m,\u001b[0m \u001b[0mhook\u001b[0m\u001b[0;34m)\u001b[0m\u001b[0;34m:\u001b[0m\u001b[0;34m\u001b[0m\u001b[0;34m\u001b[0m\u001b[0m\n",
      "\u001b[0;32m//anaconda/envs/ML_env/lib/python3.6/site-packages/torch/autograd/__init__.py\u001b[0m in \u001b[0;36mbackward\u001b[0;34m(tensors, grad_tensors, retain_graph, create_graph, grad_variables)\u001b[0m\n\u001b[1;32m     88\u001b[0m     Variable._execution_engine.run_backward(\n\u001b[1;32m     89\u001b[0m         \u001b[0mtensors\u001b[0m\u001b[0;34m,\u001b[0m \u001b[0mgrad_tensors\u001b[0m\u001b[0;34m,\u001b[0m \u001b[0mretain_graph\u001b[0m\u001b[0;34m,\u001b[0m \u001b[0mcreate_graph\u001b[0m\u001b[0;34m,\u001b[0m\u001b[0;34m\u001b[0m\u001b[0;34m\u001b[0m\u001b[0m\n\u001b[0;32m---> 90\u001b[0;31m         allow_unreachable=True)  # allow_unreachable flag\n\u001b[0m\u001b[1;32m     91\u001b[0m \u001b[0;34m\u001b[0m\u001b[0m\n\u001b[1;32m     92\u001b[0m \u001b[0;34m\u001b[0m\u001b[0m\n",
      "\u001b[0;31mKeyboardInterrupt\u001b[0m: "
     ]
    }
   ],
   "source": [
    "optimizer = torch.optim.Adam(model.parameters(), lr=train_params[\"lr\"],\n",
    "                             weight_decay=train_params[\"weight_decay\"])\n",
    "optimizer_aa = torch.optim.Adam(aa_compress.parameters(), \n",
    "                                lr=train_params[\"lr\"], \n",
    "                                weight_decay=train_params[\"weight_decay\"])\n",
    "\n",
    "train_model(train_iter_bucket, model, aa_compress, train_params,\n",
    "            optimizer, optimizer_aa)"
   ]
  },
  {
   "cell_type": "code",
   "execution_count": 32,
   "metadata": {
    "colab": {
     "base_uri": "https://localhost:8080/",
     "height": 935
    },
    "colab_type": "code",
    "id": "EXPKdzxyZdIn",
    "outputId": "ee9acd42-6fe1-468d-a15e-0e3858d510ab"
   },
   "outputs": [
    {
     "ename": "NameError",
     "evalue": "name 'accuracy' is not defined",
     "output_type": "error",
     "traceback": [
      "\u001b[0;31m---------------------------------------------------------------------------\u001b[0m",
      "\u001b[0;31mNameError\u001b[0m                                 Traceback (most recent call last)",
      "\u001b[0;32m<ipython-input-32-8f6103fa19a8>\u001b[0m in \u001b[0;36m<module>\u001b[0;34m\u001b[0m\n\u001b[0;32m----> 1\u001b[0;31m test_ac, train_ac = (accuracy(test_iter_bucket, model, aa_compress, teacher_force=1), \n\u001b[0m\u001b[1;32m      2\u001b[0m                      accuracy(train_iter_bucket, model, aa_compress, teacher_force=1))\n\u001b[1;32m      3\u001b[0m \u001b[0mprint\u001b[0m\u001b[0;34m(\u001b[0m\u001b[0;34m\"Train accuracy: \"\u001b[0m\u001b[0;34m,\u001b[0m \u001b[0mtrain_ac\u001b[0m\u001b[0;34m)\u001b[0m\u001b[0;34m\u001b[0m\u001b[0;34m\u001b[0m\u001b[0m\n\u001b[1;32m      4\u001b[0m \u001b[0mprint\u001b[0m\u001b[0;34m(\u001b[0m\u001b[0;34m\"Test accuracy: \"\u001b[0m\u001b[0;34m,\u001b[0m \u001b[0mtest_ac\u001b[0m\u001b[0;34m)\u001b[0m\u001b[0;34m\u001b[0m\u001b[0;34m\u001b[0m\u001b[0m\n",
      "\u001b[0;31mNameError\u001b[0m: name 'accuracy' is not defined"
     ]
    }
   ],
   "source": [
    "test_ac, train_ac = (accuracy(test_iter_bucket, model, aa_compress, teacher_force=1), \n",
    "                     accuracy(train_iter_bucket, model, aa_compress, teacher_force=1))\n",
    "print(\"Train accuracy: \", train_ac)\n",
    "print(\"Test accuracy: \", test_ac)"
   ]
  },
  {
   "cell_type": "code",
   "execution_count": null,
   "metadata": {},
   "outputs": [],
   "source": []
  },
  {
   "cell_type": "code",
   "execution_count": 0,
   "metadata": {
    "colab": {
     "base_uri": "https://localhost:8080/",
     "height": 51
    },
    "colab_type": "code",
    "id": "qIJAsVueeMS2",
    "outputId": "17b06c02-f6bb-4479-aefa-a8e91a84b768"
   },
   "outputs": [
    {
     "name": "stdout",
     "output_type": "stream",
     "text": [
      "Train PPL:  3.545165146657026\n",
      "Test PPL:  3.8990431628178577\n"
     ]
    }
   ],
   "source": [
    "test_ppl, train_ppl = (PPL(test_iter_bucket, model, aa_compress, teacher_force=1), \n",
    "                     PPL(train_iter_bucket, model, aa_compress, teacher_force=1))\n",
    "print(\"Train PPL: \", train_ppl)\n",
    "print(\"Test PPL: \", test_ppl)"
   ]
  },
  {
   "cell_type": "code",
   "execution_count": 0,
   "metadata": {
    "colab": {},
    "colab_type": "code",
    "id": "pvZ8ml3B3FLH"
   },
   "outputs": [],
   "source": [
    "test_lstm_predicts, test_target_vals, lstm_test_ac = output_predictions_and_target(test_iter_bucket, model, aa_compress, teacher_force = 0)\n",
    "# train_unigram_predicts, train_target_vals, unigram_train_ac = prediction_mismatches(test_iter_bucket, model, aa_compress)\n",
    "\n",
    "# unigram_test_ac = accuracy(test_iter_bucket, model, aa_compress)\n",
    "\n",
    "# print(\"Train accuracy: \", unigram_train_ac)\n",
    "# print(\"Test accuracy: \", test_lstm_ac)"
   ]
  },
  {
   "cell_type": "code",
   "execution_count": 0,
   "metadata": {
    "colab": {
     "base_uri": "https://localhost:8080/",
     "height": 34
    },
    "colab_type": "code",
    "id": "rZ1_3mpXkYQ-",
    "outputId": "d439f229-1b91-4c69-b894-91ef33a95c1d"
   },
   "outputs": [
    {
     "data": {
      "text/plain": [
       "0.552258961673331"
      ]
     },
     "execution_count": 82,
     "metadata": {
      "tags": []
     },
     "output_type": "execute_result"
    }
   ],
   "source": [
    "lstm_test_ac"
   ]
  },
  {
   "cell_type": "code",
   "execution_count": 0,
   "metadata": {
    "colab": {},
    "colab_type": "code",
    "id": "8Pxb6nz5jOpn"
   },
   "outputs": [],
   "source": [
    "def convert_output_to_DNA(predicts):\n",
    "  seqs = []\n",
    "  \n",
    "  for pred in predicts:\n",
    "    seq = []\n",
    "    for j in range(len(pred)):\n",
    "      seq.append(TEXT.vocab.itos[np.array(pred.values)[j]])\n",
    "    \n",
    "    dna_seq = \"\".join(seq).upper()\n",
    "    seqs.append(dna_seq)\n",
    "    \n",
    "  return seqs"
   ]
  },
  {
   "cell_type": "code",
   "execution_count": 0,
   "metadata": {
    "colab": {},
    "colab_type": "code",
    "id": "1y718HoFqUzB"
   },
   "outputs": [],
   "source": [
    "output_seqs = convert_output_to_DNA(test_lstm_predicts)"
   ]
  },
  {
   "cell_type": "code",
   "execution_count": 0,
   "metadata": {
    "colab": {},
    "colab_type": "code",
    "id": "p9muwRApqYMT"
   },
   "outputs": [],
   "source": [
    "from Bio.Seq import Seq\n",
    "from Bio import SeqIO\n",
    "from Bio.SeqUtils import CodonUsage\n",
    "from Bio.SeqUtils import IUPACData\n",
    "\n",
    "import random\n",
    "import csv"
   ]
  },
  {
   "cell_type": "code",
   "execution_count": 0,
   "metadata": {
    "colab": {},
    "colab_type": "code",
    "id": "30TixYcprCWn"
   },
   "outputs": [],
   "source": [
    "def count_codons(DNA_seq):\n",
    "  ''' Calculate the counts of each codon given a CDS\n",
    "  \n",
    "  Args:\n",
    "    dna sequence in indexable form\n",
    "    \n",
    "  Returns:\n",
    "    dict{str, int}: dictionary with codons as key and corresponding number of occurences\n",
    "  \n",
    "  '''\n",
    "  \n",
    "  codons_dict = CodonUsage.CodonsDict.copy()\n",
    "  for codon_start in range(0, len(DNA_seq), 3):\n",
    "    codons_dict[str(DNA_seq[codon_start:codon_start+3])] += 1\n",
    "   \n",
    "  return codons_dict\n",
    "\n",
    "\n",
    "def count_codons_fasta(fasta_file):\n",
    "  ''' Calculate the counts of each codon given a set of CDS\n",
    "  \n",
    "  Args:\n",
    "    Fasta file \n",
    "    \n",
    "  Returns:\n",
    "    dict{str, int}: dictionary with codons as key and corresponding number of occurences\n",
    "  \n",
    "  '''\n",
    "  \n",
    "  codons_dict = CodonUsage.CodonsDict.copy()\n",
    "  \n",
    "  for record in SeqIO.parse(fasta_file, \"fasta\"):\n",
    "    seq = record.seq\n",
    "    if len(seq) % 3 != 0:\n",
    "      continue\n",
    "      \n",
    "    #count the codons for this sequence\n",
    "    for codon_start in range(0, len(seq), 3):\n",
    "      codons_dict[str(seq[codon_start:codon_start+3])] += 1\n",
    "   \n",
    "  return codons_dict\n",
    "\n",
    "def count_codons_list(seqs):\n",
    "  ''' Calculate the counts of each codon given list of seqs\n",
    "  \n",
    "  Args:\n",
    "    Fasta file \n",
    "    \n",
    "  Returns:\n",
    "    dict{str, int}: dictionary with codons as key and corresponding number of occurences\n",
    "  \n",
    "  '''\n",
    "  \n",
    "  codons_dict = CodonUsage.CodonsDict.copy()\n",
    "  \n",
    "  for seq in seqs:\n",
    "    if len(seq) % 3 != 0:\n",
    "      continue\n",
    "      \n",
    "    #count the codons for this sequence\n",
    "    for codon_start in range(0, len(seq), 3):\n",
    "      codons_dict[str(seq[codon_start:codon_start+3])] += 1\n",
    "   \n",
    "  return codons_dict\n",
    "\n",
    "def calculate_codon_frequency(codon_counts):\n",
    "  ''' Calculate the counts of each codon given a set of CDS\n",
    "  \n",
    "  Args:\n",
    "    codon usage table\n",
    "    \n",
    "  Returns:\n",
    "    dict{str, float}: dictionary with codons as key and corresponding \n",
    "    frequency of codon for AA\n",
    "  \n",
    "  '''\n",
    "  codon_freqs = CodonUsage.CodonsDict.copy()\n",
    "  \n",
    "  for _, synonymous_codons in CodonUsage.SynonymousCodons.items():\n",
    "    total_AA_count = sum([codon_counts[codon] for codon in synonymous_codons])\n",
    "    \n",
    "    if total_AA_count == 0:\n",
    "      continue\n",
    "      \n",
    "    for codon in synonymous_codons:\n",
    "      codon_freqs[codon] = codon_counts[codon] / total_AA_count\n",
    "  \n",
    "  return codon_freqs"
   ]
  },
  {
   "cell_type": "code",
   "execution_count": 0,
   "metadata": {
    "colab": {},
    "colab_type": "code",
    "id": "140bC_2grJON"
   },
   "outputs": [],
   "source": [
    "lstm_codon_table = count_codons_list(output_seqs)"
   ]
  },
  {
   "cell_type": "code",
   "execution_count": 0,
   "metadata": {
    "colab": {
     "base_uri": "https://localhost:8080/",
     "height": 34
    },
    "colab_type": "code",
    "id": "dcYYUaBg7atW",
    "outputId": "cbb2ceea-a81e-4ae2-e62a-a21a35689708"
   },
   "outputs": [
    {
     "data": {
      "text/plain": [
       "387259"
      ]
     },
     "execution_count": 115,
     "metadata": {
      "tags": []
     },
     "output_type": "execute_result"
    }
   ],
   "source": [
    "sum([lstm_codon_table[key] for key in lstm_codon_table])"
   ]
  },
  {
   "cell_type": "code",
   "execution_count": 0,
   "metadata": {
    "colab": {
     "base_uri": "https://localhost:8080/",
     "height": 1105
    },
    "colab_type": "code",
    "id": "OlCzxMVqsnGJ",
    "outputId": "bb004e2a-1584-41eb-f147-8c1c37e8ab15"
   },
   "outputs": [
    {
     "data": {
      "text/plain": [
       "{'AAA': 0.9963053487182402,\n",
       " 'AAC': 0.6207480776749642,\n",
       " 'AAG': 0.003694651281759791,\n",
       " 'AAT': 0.37925192232503585,\n",
       " 'ACA': 0.0,\n",
       " 'ACC': 0.764034253092293,\n",
       " 'ACG': 0.23372978116079923,\n",
       " 'ACT': 0.002235965746907707,\n",
       " 'AGA': 0.00022966331358228838,\n",
       " 'AGC': 0.7082299690995343,\n",
       " 'AGG': 4.593266271645767e-05,\n",
       " 'AGT': 0.004439221830526178,\n",
       " 'ATA': 8.149295085975064e-05,\n",
       " 'ATC': 0.2722679488224269,\n",
       " 'ATG': 1.0,\n",
       " 'ATT': 0.7276505582267134,\n",
       " 'CAA': 0.27123995407577495,\n",
       " 'CAC': 0.2496993549797748,\n",
       " 'CAG': 0.728760045924225,\n",
       " 'CAT': 0.7503006450202252,\n",
       " 'CCA': 0.028163358953768498,\n",
       " 'CCC': 0.01238958357232993,\n",
       " 'CCG': 0.8962372375817368,\n",
       " 'CCT': 0.06320981989216473,\n",
       " 'CGA': 0.0,\n",
       " 'CGC': 0.595241376142575,\n",
       " 'CGG': 0.02388498461255799,\n",
       " 'CGT': 0.3805980432685683,\n",
       " 'CTA': 0.0,\n",
       " 'CTC': 0.06438978901969926,\n",
       " 'CTG': 0.9013404825737266,\n",
       " 'CTT': 0.01997901853362863,\n",
       " 'GAA': 0.8579420315390714,\n",
       " 'GAC': 0.14609145643628402,\n",
       " 'GAG': 0.14205796846092855,\n",
       " 'GAT': 0.8539085435637159,\n",
       " 'GCA': 0.07225940089228808,\n",
       " 'GCC': 0.28630231570002124,\n",
       " 'GCG': 0.6170331421287444,\n",
       " 'GCT': 0.02440514127894625,\n",
       " 'GGA': 0.016008537886873,\n",
       " 'GGC': 0.48724481013529797,\n",
       " 'GGG': 0.11323028195682859,\n",
       " 'GGT': 0.3835163700210005,\n",
       " 'GTA': 0.00819093348397119,\n",
       " 'GTC': 0.1454596808360401,\n",
       " 'GTG': 0.6436943934472532,\n",
       " 'GTT': 0.20265499223273548,\n",
       " 'TAA': 0.9485238455715367,\n",
       " 'TAC': 0.6196668744989757,\n",
       " 'TAG': 0.0,\n",
       " 'TAT': 0.3803331255010243,\n",
       " 'TCA': 0.012099055577316447,\n",
       " 'TCC': 0.06593550071810941,\n",
       " 'TCG': 0.15019367193280236,\n",
       " 'TCT': 0.05910258084171128,\n",
       " 'TGA': 0.05147615442846329,\n",
       " 'TGC': 0.7966386554621848,\n",
       " 'TGG': 1.0,\n",
       " 'TGT': 0.20336134453781513,\n",
       " 'TTA': 0.00300734351322998,\n",
       " 'TTC': 0.2974137931034483,\n",
       " 'TTG': 0.011283366359715585,\n",
       " 'TTT': 0.7025862068965517}"
      ]
     },
     "execution_count": 81,
     "metadata": {
      "tags": []
     },
     "output_type": "execute_result"
    }
   ],
   "source": [
    "calculate_codon_frequency(lstm_codon_table)"
   ]
  },
  {
   "cell_type": "code",
   "execution_count": 45,
   "metadata": {
    "colab": {
     "base_uri": "https://localhost:8080/",
     "height": 164
    },
    "colab_type": "code",
    "id": "u7ZyaPxQq695",
    "outputId": "424b2ac1-d919-4def-d06c-40da595374f7"
   },
   "outputs": [
    {
     "ename": "NameError",
     "evalue": "ignored",
     "output_type": "error",
     "traceback": [
      "\u001b[0;31m---------------------------------------------------------------------------\u001b[0m",
      "\u001b[0;31mNameError\u001b[0m                                 Traceback (most recent call last)",
      "\u001b[0;32m<ipython-input-45-e3c8840d83e2>\u001b[0m in \u001b[0;36m<module>\u001b[0;34m()\u001b[0m\n\u001b[0;32m----> 1\u001b[0;31m \u001b[0mtarget_seqs\u001b[0m \u001b[0;34m=\u001b[0m \u001b[0mconvert_output_to_DNA\u001b[0m\u001b[0;34m(\u001b[0m\u001b[0mtest_target_vals\u001b[0m\u001b[0;34m)\u001b[0m\u001b[0;34m\u001b[0m\u001b[0;34m\u001b[0m\u001b[0m\n\u001b[0m",
      "\u001b[0;31mNameError\u001b[0m: name 'convert_output_to_DNA' is not defined"
     ]
    }
   ],
   "source": [
    "target_seqs = convert_output_to_DNA(test_target_vals)"
   ]
  },
  {
   "cell_type": "code",
   "execution_count": 0,
   "metadata": {
    "colab": {},
    "colab_type": "code",
    "id": "B4RtL3VZq7HQ"
   },
   "outputs": [],
   "source": [
    "target_codon_table = count_codons_list(target_seqs)"
   ]
  },
  {
   "cell_type": "code",
   "execution_count": 0,
   "metadata": {
    "colab": {
     "base_uri": "https://localhost:8080/",
     "height": 1105
    },
    "colab_type": "code",
    "id": "if3BFQvTtIvo",
    "outputId": "4e245094-0b47-4ef9-d449-0ef4f81f92e2"
   },
   "outputs": [
    {
     "data": {
      "text/plain": [
       "{'AAA': 0.7706474165861422,\n",
       " 'AAC': 0.5516095399452626,\n",
       " 'AAG': 0.22935258341385778,\n",
       " 'AAT': 0.44839046005473737,\n",
       " 'ACA': 0.1317316841103711,\n",
       " 'ACC': 0.4326831588962892,\n",
       " 'ACG': 0.26622264509990484,\n",
       " 'ACT': 0.16936251189343482,\n",
       " 'AGA': 0.04000734922603463,\n",
       " 'AGC': 0.2738390564477521,\n",
       " 'AGG': 0.020210371595241375,\n",
       " 'AGT': 0.15162989076032554,\n",
       " 'ATA': 0.0764403879064461,\n",
       " 'ATC': 0.4155325564338685,\n",
       " 'ATG': 1.0,\n",
       " 'ATT': 0.5080270556596854,\n",
       " 'CAA': 0.344833524684271,\n",
       " 'CAC': 0.4261506504864983,\n",
       " 'CAG': 0.655166475315729,\n",
       " 'CAT': 0.5738493495135017,\n",
       " 'CCA': 0.19215326373752437,\n",
       " 'CCC': 0.12395319490650453,\n",
       " 'CCG': 0.5248938855110703,\n",
       " 'CCT': 0.15899965584490078,\n",
       " 'CGA': 0.06651049561343071,\n",
       " 'CGC': 0.3980524551008222,\n",
       " 'CGG': 0.09696385099444214,\n",
       " 'CGT': 0.3782554774700289,\n",
       " 'CTA': 0.03527217624431752,\n",
       " 'CTC': 0.10404476046159226,\n",
       " 'CTG': 0.49609511598088357,\n",
       " 'CTT': 0.10257605781559623,\n",
       " 'GAA': 0.6876046163333627,\n",
       " 'GAC': 0.3674677812608847,\n",
       " 'GAG': 0.3123953836666373,\n",
       " 'GAT': 0.6325322187391152,\n",
       " 'GCA': 0.21282132993414063,\n",
       " 'GCC': 0.270501380922031,\n",
       " 'GCG': 0.35256001699596345,\n",
       " 'GCT': 0.1641172721478649,\n",
       " 'GGA': 0.10865149585155094,\n",
       " 'GGC': 0.40255448066926014,\n",
       " 'GGG': 0.15068681791579164,\n",
       " 'GGT': 0.33810720556339724,\n",
       " 'GTA': 0.15651037988984606,\n",
       " 'GTC': 0.21416466600762604,\n",
       " 'GTG': 0.3677093630843101,\n",
       " 'GTT': 0.26161559101821774,\n",
       " 'TAA': 0.6351249053747161,\n",
       " 'TAC': 0.42950031174846354,\n",
       " 'TAG': 0.07418622255866768,\n",
       " 'TAT': 0.5704996882515365,\n",
       " 'TCA': 0.12373242808025417,\n",
       " 'TCC': 0.1488009748879314,\n",
       " 'TCG': 0.15363189276232755,\n",
       " 'TCT': 0.14836575706140923,\n",
       " 'TGA': 0.2906888720666162,\n",
       " 'TGC': 0.553781512605042,\n",
       " 'TGG': 1.0,\n",
       " 'TGT': 0.446218487394958,\n",
       " 'TTA': 0.1305979717915841,\n",
       " 'TTC': 0.43268255578093306,\n",
       " 'TTG': 0.13141391770602634,\n",
       " 'TTT': 0.5673174442190669}"
      ]
     },
     "execution_count": 75,
     "metadata": {
      "tags": []
     },
     "output_type": "execute_result"
    }
   ],
   "source": [
    "calculate_codon_frequency(target_codon_table)"
   ]
  },
  {
   "cell_type": "code",
   "execution_count": 0,
   "metadata": {
    "colab": {},
    "colab_type": "code",
    "id": "sD9bhwKnq7BV"
   },
   "outputs": [],
   "source": []
  },
  {
   "cell_type": "code",
   "execution_count": 0,
   "metadata": {
    "colab": {},
    "colab_type": "code",
    "id": "IWbAKkUbq7EL"
   },
   "outputs": [],
   "source": []
  },
  {
   "cell_type": "code",
   "execution_count": 0,
   "metadata": {
    "colab": {
     "base_uri": "https://localhost:8080/",
     "height": 269
    },
    "colab_type": "code",
    "id": "WBNaUy8u3NI9",
    "outputId": "4eb017c8-815a-40db-9609-0e02d383b14c"
   },
   "outputs": [
    {
     "data": {
      "image/png": "[encoded data removed]",
      "text/plain": [
       "<Figure size 432x288 with 1 Axes>"
      ]
     },
     "metadata": {
      "tags": []
     },
     "output_type": "display_data"
    }
   ],
   "source": [
    "out = mismatched_indices(test_lstm_predicts, test_target_vals)\n",
    "mismatch_over_sequence = pool_mismatches(out[0], out[1])\n",
    "plt.scatter(range(len(mismatch_over_sequence))[:300], mismatch_over_sequence[:300])\n",
    "plt.show()"
   ]
  },
  {
   "cell_type": "markdown",
   "metadata": {
    "colab_type": "text",
    "id": "7z9yxiwXOxwp"
   },
   "source": [
    "## Model inspection"
   ]
  },
  {
   "cell_type": "code",
   "execution_count": 0,
   "metadata": {
    "colab": {},
    "colab_type": "code",
    "id": "J6MmepHwgStM"
   },
   "outputs": [],
   "source": []
  },
  {
   "cell_type": "code",
   "execution_count": 0,
   "metadata": {
    "colab": {},
    "colab_type": "code",
    "id": "3JuDtYVygSwP"
   },
   "outputs": [],
   "source": [
    "# Example\n",
    "batch = next(iter(train_iter_bucket))"
   ]
  },
  {
   "cell_type": "code",
   "execution_count": 0,
   "metadata": {
    "colab": {},
    "colab_type": "code",
    "id": "aBzEPjeze1Z4"
   },
   "outputs": [],
   "source": [
    "seqlen = batch.sequence.shape['seqlen']\n",
    "src = batch.sequence.narrow('seqlen',0,seqlen-1)\n",
    "trg = batch.sequence.narrow('seqlen', 1,seqlen-1)\n",
    "aa_compress(trg)\n",
    "model(src, aa_compress(trg)).shape"
   ]
  },
  {
   "cell_type": "code",
   "execution_count": 0,
   "metadata": {
    "colab": {},
    "colab_type": "code",
    "id": "1fPtcnIg38QO"
   },
   "outputs": [],
   "source": [
    "output = model(src, aa_compress(trg))\n",
    "mask_vec = ntorch.tensor(mask_tbl[trg.values], \n",
    "                         names=(\"seqlen\", \"batch\", \"vocablen\")).float()\n",
    "output = (mask_vec + output)"
   ]
  },
  {
   "cell_type": "code",
   "execution_count": 0,
   "metadata": {
    "colab": {},
    "colab_type": "code",
    "id": "wwUo499Z_2PU"
   },
   "outputs": [],
   "source": [
    "preds = get_prediction(batch, model, aa_compress)"
   ]
  },
  {
   "cell_type": "code",
   "execution_count": 0,
   "metadata": {
    "colab": {},
    "colab_type": "code",
    "id": "TuPTOeAmIGM4"
   },
   "outputs": [],
   "source": [
    "preds.shape"
   ]
  },
  {
   "cell_type": "code",
   "execution_count": 0,
   "metadata": {
    "colab": {},
    "colab_type": "code",
    "id": "vRL7mrsaIqTx"
   },
   "outputs": [],
   "source": [
    "def translate_to_seq(x): \n",
    "  ''' Takes in single tensor of name seqlen'''\n",
    "  my_str = \"\".join([TEXT.vocab.itos[i] for i in x.values])\n",
    "  my_str = my_str.split(\"<pad>\")[0]\n",
    "  my_str = my_str.split(\"<unk>\")[0]\n",
    "\n",
    "  if \"<start>\" in my_str: \n",
    "    my_str = my_str.split(\"<start>\")[1]\n",
    "    \n",
    "    \n",
    "  \n",
    "  return my_str.upper()"
   ]
  },
  {
   "cell_type": "code",
   "execution_count": 0,
   "metadata": {
    "colab": {},
    "colab_type": "code",
    "id": "YvrZXdREIGRS"
   },
   "outputs": [],
   "source": [
    "src_str = translate_to_seq(batch.sequence.get(\"batch\", 0))\n",
    "res_str = translate_to_seq(preds.get(\"batch\", 0))\n"
   ]
  },
  {
   "cell_type": "code",
   "execution_count": 0,
   "metadata": {
    "colab": {},
    "colab_type": "code",
    "id": "jOwvHkXsIpNx"
   },
   "outputs": [],
   "source": [
    "Seq(src_str).translate(), Seq(res_str).translate()"
   ]
  },
  {
   "cell_type": "code",
   "execution_count": 0,
   "metadata": {
    "colab": {},
    "colab_type": "code",
    "id": "6fTE8PQsLjJX"
   },
   "outputs": [],
   "source": [
    "src_str_tok = np.array(tokenize(src_str))\n",
    "res_str_tok = np.array(tokenize(res_str))\n",
    "correct_locs =  (res_str_tok == src_str_tok)\n",
    "(np.array([str(Seq(i).translate()) for i in src_str_tok[~correct_locs]]),\n",
    "src_str_tok[~correct_locs], res_str_tok[~correct_locs])"
   ]
  },
  {
   "cell_type": "code",
   "execution_count": 0,
   "metadata": {
    "colab": {},
    "colab_type": "code",
    "id": "F0X3n6Q_Un5x"
   },
   "outputs": [],
   "source": [
    "## See relative frequencies of what we predict vs. what's actually used \n",
    "conv_to_prob = lambda x : np.array([eColi_codon_table[y] for y in x])\n",
    "print(\"Source frequencies of mispredicted codons:\\n\", \n",
    "      conv_to_prob(src_str_tok[~correct_locs]) )\n",
    "print(\"Native frequency of mispredicted codons:\\n\", \n",
    "      conv_to_prob(res_str_tok[~correct_locs]))"
   ]
  },
  {
   "cell_type": "code",
   "execution_count": 0,
   "metadata": {
    "colab": {},
    "colab_type": "code",
    "id": "oitcGobbn2l5"
   },
   "outputs": [],
   "source": []
  },
  {
   "cell_type": "code",
   "execution_count": 0,
   "metadata": {
    "colab": {},
    "colab_type": "code",
    "id": "7z4m1xTbCPZp"
   },
   "outputs": [],
   "source": []
  },
  {
   "cell_type": "markdown",
   "metadata": {
    "colab_type": "text",
    "id": "QKgVRU41CP2a"
   },
   "source": [
    "## Error Analysis"
   ]
  },
  {
   "cell_type": "code",
   "execution_count": 0,
   "metadata": {
    "colab": {},
    "colab_type": "code",
    "id": "OfNhgqcfCRIN"
   },
   "outputs": [],
   "source": [
    "def prediction_mismatches(data_iter, model, aa_compress, teacher_force=0):\n",
    "  '''\n",
    "  Produce a NUM_SEQUENCE x LEN_SEQUENCE matrix, boolean values. 1 if prediction is correct, 0 if incorrect\n",
    "  TODO: \n",
    "  - Mask all non synonymous codons in train\n",
    "    For now, we can do this at prediction time.. \n",
    "  - Precompute the text / target in the iterator function \n",
    "  ''' \n",
    "  \n",
    "  model.to(device)\n",
    "  model.eval()\n",
    "  model.teacher_force_prob = teacher_force\n",
    "  aa_compress.to(device)\n",
    "  aa_compress.eval()\n",
    "  num_correct = 0 \n",
    "  num_total = 0 \n",
    "  \n",
    "  prediction_list = []\n",
    "  target_list = []\n",
    "  \n",
    "  with torch.no_grad():\n",
    "    for i, batch in enumerate(data_iter):\n",
    "      \n",
    "      # Select for all non zero tensors\n",
    "      # Use this to find all indices that aren't padding\n",
    "      seq_len = batch.sequence.shape[\"seqlen\"]\n",
    "      text = batch.sequence.narrow(\"seqlen\", 0, seq_len - 1)\n",
    "      target = batch.sequence.narrow(\"seqlen\", 1, seq_len - 1)\n",
    "      \n",
    "      stacked_target = target.stack(dims=(\"batch\", \"seqlen\"), \n",
    "                                          name=\"seqlen\")\n",
    "      mask = (stacked_target != TEXT.vocab.stoi[\"<pad>\"])\n",
    "      prop_indices = (ntorch.nonzero(mask)\n",
    "                      .get(\"inputdims\", 0)\n",
    "                     ).rename(\"elements\", \"seqlen\")\n",
    "      # Forward\n",
    "      predictions = model(text, aa_compress(target))\n",
    "      # Mask all outputs that don't work\n",
    "      mask_bad_codons = ntorch.tensor(mask_tbl[target.values], \n",
    "                         names=(\"seqlen\", \"batch\", \"vocablen\")).float()\n",
    "      predictions = (mask_bad_codons.double() + predictions.double())\n",
    "      \n",
    "      \n",
    "     \n",
    "      # Stack the predictions into one long vector\n",
    "#       predictions = predictions.stack(dims=(\"batch\", \"seqlen\"), name=\"seqlen\")\n",
    "\n",
    "      predictions = predictions.argmax(\"vocablen\").index_select(\"seqlen\", \n",
    "                                                                prop_indices)\n",
    "      stacked_target = stacked_target.index_select(\"seqlen\", prop_indices)\n",
    "      \n",
    "#       prediction_list.append(predictions)\n",
    "#       target_list.append(stacked_target)\n",
    "      \n",
    "      num_correct += (predictions == stacked_target).sum().item()   \n",
    "      num_total += predictions.shape[\"seqlen\"]\n",
    "      \n",
    "      # For quick results, toggle this\n",
    "#       if i == 20: \n",
    "#         break\n",
    "      \n",
    "#   return num_correct / num_total \n",
    "\n",
    "  return (prediction_list, target_list, num_correct / num_total)"
   ]
  },
  {
   "cell_type": "code",
   "execution_count": 0,
   "metadata": {
    "colab": {},
    "colab_type": "code",
    "id": "usDAswEJHBhc"
   },
   "outputs": [],
   "source": []
  },
  {
   "cell_type": "markdown",
   "metadata": {
    "colab_type": "text",
    "id": "vdYGx7hPn3N3"
   },
   "source": [
    "## MISC."
   ]
  },
  {
   "cell_type": "markdown",
   "metadata": {
    "colab_type": "text",
    "id": "zSCQ7JLmo6bR"
   },
   "source": [
    "#### Positional encoding\n",
    "\n",
    "Sasha suggested that this doesn't  matter because RNN's should be able to count"
   ]
  },
  {
   "cell_type": "code",
   "execution_count": 0,
   "metadata": {
    "colab": {},
    "colab_type": "code",
    "id": "275u-tVRT6wn"
   },
   "outputs": [],
   "source": [
    "class PositionalEncoding(ntorch.nn.Module):\n",
    "    \"Implement the PE function.\"\n",
    "    def __init__(self, d_model, dropout, max_len=5000):\n",
    "        super(PositionalEncoding, self).__init__()\n",
    "        self.dropout = ntorch.nn.Dropout(p=dropout)\n",
    "        \n",
    "        # Compute the positional encodings once in log space.\n",
    "        pe = torch.zeros(max_len, d_model)\n",
    "        position = torch.arange(0, max_len).unsqueeze(1).float()\n",
    "        # Keep in log space\n",
    "        div_term = (torch.arange(0, d_model, 2).float() *\n",
    "                             -(math.log(10000.0) / d_model)).exp()\n",
    "        \n",
    "\n",
    "        pe[:, 0::2] = (position * div_term).sin()\n",
    "        pe[:, 1::2] = (position * div_term[:int(d_model /2)]).cos()\n",
    "        pe = pe.unsqueeze(0)\n",
    "        pe = ntorch.tensor(pe, names=(\"batch\", \"seqlen\", \"hiddendim\"))\n",
    "        self.pe = pe.to(device)\n",
    "    def forward(self, embed_seq):\n",
    "        embed_seq = embed_seq.float() + self.pe[\n",
    "                {\"batch\": 0,\"seqlen\" : slice(0,embed_seq.shape[\"seqlen\"])}\n",
    "            ]\n",
    "        return self.dropout(embed_seq)\n",
    "\n",
    "# pe = PositionalEncoding(d_model=23, dropout=0.1).to(device)\n",
    "# print(batch.sequence.shape['seqlen'])\n",
    "# print(embed(batch.sequence).rename(\"onehot\", \"hiddendim\").shape)\n",
    "# pe(batch.sequence)"
   ]
  },
  {
   "cell_type": "code",
   "execution_count": 0,
   "metadata": {
    "colab": {},
    "colab_type": "code",
    "id": "fQuYrDgHUEAN"
   },
   "outputs": [],
   "source": []
  }
 ],
 "metadata": {
  "accelerator": "GPU",
  "colab": {
   "collapsed_sections": [],
   "name": "DownstreamTests_LanguageModel.ipynb",
   "provenance": [],
   "toc_visible": true,
   "version": "0.3.2"
  },
  "kernelspec": {
   "display_name": "Python 3",
   "language": "python",
   "name": "python3"
  },
  "language_info": {
   "codemirror_mode": {
    "name": "ipython",
    "version": 3
   },
   "file_extension": ".py",
   "mimetype": "text/x-python",
   "name": "python",
   "nbconvert_exporter": "python",
   "pygments_lexer": "ipython3",
   "version": "3.6.8"
  }
 },
 "nbformat": 4,
 "nbformat_minor": 1
}
